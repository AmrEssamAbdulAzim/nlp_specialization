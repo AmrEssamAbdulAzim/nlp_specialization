{
 "cells": [
  {
   "cell_type": "code",
   "execution_count": 1,
   "id": "fa354d1c",
   "metadata": {},
   "outputs": [],
   "source": [
    "import io, os, sys, types\n",
    "from nbformat import read , write"
   ]
  },
  {
   "cell_type": "code",
   "execution_count": 2,
   "id": "b5580c45",
   "metadata": {},
   "outputs": [],
   "source": [
    "import re"
   ]
  },
  {
   "cell_type": "code",
   "execution_count": 3,
   "id": "62a08a6f",
   "metadata": {},
   "outputs": [],
   "source": [
    "with io.open('./Translation.ipynb', 'r', encoding='utf-8') as f:\n",
    "    nb = read(f, 4)"
   ]
  },
  {
   "cell_type": "code",
   "execution_count": 4,
   "id": "8aa24ac0",
   "metadata": {},
   "outputs": [],
   "source": [
    "CLEANR = re.compile('<.*?>') \n",
    "\n",
    "def cleanhtml(raw_html):\n",
    "    cleantext = re.sub(CLEANR, '', raw_html)\n",
    "    return cleantext"
   ]
  },
  {
   "cell_type": "code",
   "execution_count": 5,
   "id": "bffdc34f",
   "metadata": {},
   "outputs": [],
   "source": [
    "def markdown2html(txt):\n",
    "    ip = txt\n",
    "    if txt ==\"\":\n",
    "        return \"\"\n",
    "    elif txt.startswith('# '):\n",
    "        txt = txt.replace('# ',f'# <div class=title> ') \n",
    "    elif txt.startswith('## '):\n",
    "        txt = txt.replace('## ',f'## <div class=heading> ') \n",
    "    elif txt.startswith('### '):\n",
    "        txt = txt.replace('### ',f'### <div class=sub> ')\n",
    "    elif re.match('#+',txt):\n",
    "        txt=re.sub('#+\\ ',re.match('#+\\ ',txt)[0] + \" <div class=warn>\",txt)\n",
    "    elif re.match('\\ *\\d[-\\.].*',txt):\n",
    "        txt = re.sub('\\ *\\d[-\\.].*', \"<div class=warn> &nbsp; &nbsp; &nbsp; \" +re.match('\\ *\\d[-\\.].*',txt)[0],txt)\n",
    "        txt = re.sub('\\ +',' ',txt)\n",
    "    else:\n",
    "        txt = \"<div class=warn>\" + txt\n",
    "    txt= txt + '</div>'\n",
    "    \n",
    "    for i in re.findall('\\*\\*.*\\*\\*',txt):\n",
    "        t =  re.sub('^(\\*\\*)','<b>',i)\n",
    "        t = re.sub('(\\*\\*)$','</b>',t)\n",
    "        txt=re.sub('\\*\\*.*\\*\\*',t,txt)\n",
    "    print(txt)\n",
    "    return txt"
   ]
  },
  {
   "cell_type": "code",
   "execution_count": 6,
   "id": "8a1a8c2a",
   "metadata": {},
   "outputs": [
    {
     "name": "stdout",
     "output_type": "stream",
     "text": [
      "<div class=warn>بسم الله</div>\n",
      "<div class=warn>في هذا البحث هدفنا هو تطبيق أدوات الترجمة, كما في الدورة بين الإنجليزية و الفرنسية, و لكن في حالتنا بين العربية الفصحي و بين العامية الشامية. طريقة الترجمة المستخدمة هنا هي علي مستوي الكلمة ليس الجملة.</div>\n",
      "<div class=warn>لكي نقوم بهذه المهمة نحتاج إلي مواجهة بعض التحديات منها:</div>\n",
      "<div class=warn> &nbsp; &nbsp; &nbsp; 1. توفير قائمة الأزواج الكلمات المترادفة بين الفصحي و العامية مثل (أريد , بدّي)</div>\n",
      "<div class=warn> &nbsp; &nbsp; &nbsp; 2.الحصول علي المتجهات المدرّبة مسبقاّ و التي تعبِّر عن كل كلمة عامية و فصحي في قائمة الأزواج.</div>\n",
      "<div class=warn>الحلول</div>\n",
      "<div class=warn>بالنسبة للتخدّي الأول, سنستخدم أربعة طرق لمحاولة الحصول علي أزواج الكلمات و منها نعتمد نتائج الطريقة الأفضل, ة الطرق المستخدمة هي</div>\n",
      "<div class=warn> &nbsp; &nbsp; &nbsp; 1. مقارنة جذوع الكلمات.</div>\n",
      "<div class=warn> &nbsp; &nbsp; &nbsp; 2. إحصاء عدد مرات الحدوث المشترك لكل زوج محتمل من الأزواج العامية و الفصحي.</div>\n",
      "<div class=warn> &nbsp; &nbsp; &nbsp; 3. التماثل المعتمد علي دالّة السهم أو جيب التمام cosine similarity.</div>\n",
      "<div class=warn> &nbsp; &nbsp; &nbsp; 4. تطبيق ال k-nearest neighbours مع التماثل السهمي كمل في الخطوة 3.</div>\n",
      "<div class=warn> &nbsp; &nbsp; &nbsp; 5. تدريب خوارزمية الword2vec للحصول علي متجّهات مدرّبة و من ثمّ تطبيق التماثل السهمي عليه,</div>\n",
      "<div class=warn>أما التحدّي الثاني, فسوف تقوم بتحميل متجهات مدرّبة مسبقاً, و سيتم تجاهم الكلمات الغير موجودة في معجم النموذج المدرّب مسبقاً,</div>\n",
      "<div class=warn>الخطوات</div>\n",
      "<div class=warn> &nbsp; &nbsp; &nbsp; 1. المعالجة القبليّة</div>\n",
      "<div class=warn> &nbsp; &nbsp; &nbsp; 2. تطبيق طرق الحصول علي أزواج الكلمات.</div>\n",
      "<div class=warn> &nbsp; &nbsp; &nbsp; 3. مقارنة النتائج و اختيار الخوارزمية الأنسب.</div>\n",
      "<div class=warn> &nbsp; &nbsp; &nbsp; 4. ثم باستخدام أزواج الكلمات و المتجّهات المدرّبة مسبقاّ نقوم بعملية التحويل الخطّي.</div>\n",
      "<div class=warn> &nbsp; &nbsp; &nbsp; 5. تصميم النموذج.</div>\n",
      "<div class=warn> &nbsp; &nbsp; &nbsp; 6. البحث عن أفضل معملات للتدريب.</div>\n",
      "<div class=warn> &nbsp; &nbsp; &nbsp; 7. الحصول علي النتائج و المقارنات.</div>\n",
      "# <div class=title> Data</div>\n",
      "### <div class=sub> Helping Functions</div>\n",
      "### <div class=sub> Data</div>\n",
      "<div class=warn>Dictionaries</div>\n",
      "####  <div class=warn>Stem similarity</div>\n",
      "## <div class=heading> Second Approach: Coocurence Matrix</div>\n",
      "<div class=warn>In order to get word pairs from lav to msa we try coocurence matric approach</div>\n",
      "## <div class=heading> Third approach : word vector similarity</div>\n",
      "## <div class=heading> Fourth Approach: K-nearest neighbours</div>\n",
      "<div class=warn> </div>\n",
      "<div class=warn>  get word emb </div>\n",
      "<div class=warn>  document vector and ind2doc dictionary </div>\n",
      "<div class=warn>  calculate number of planes and number of universes </div>\n",
      "<div class=warn>  implment hash puckets</div>\n",
      "<div class=warn>  creat hash tables and universes</div>\n",
      "<div class=warn>  approximate knn universes</div>\n",
      "<div class=warn> </div>\n",
      "<div class=warn>Following the rules of the assignment, let us say that in average we want to have 128 example in each index, therefore we need </div>\n",
      "<div class=warn>Hash puckets</div>\n",
      "<div class=warn>There are words that existed multiple times for the same word.</div>\n",
      "<div class=warn>so, we will ignore the words that point to each other.</div>\n",
      "####  <div class=warn>Apply k-nearsest negihbours</div>\n",
      "<div class=warn> </div>\n",
      "<div class=warn>  pass over each word and get its ID index</div>\n",
      "<div class=warn>  get the contents from l_id_table</div>\n",
      "<div class=warn>  Stack the vectors existed in l_id_table from l_hash_table</div>\n",
      "<div class=warn>  Perform cosine similarity </div>\n",
      "<div class=warn>  Get the largest value index</div>\n",
      "<div class=warn>  define its id</div>\n",
      "<div class=warn>  store the word in a list</div>\n",
      "<div class=warn> </div>\n",
      "## <div class=heading> Fifth Approach: Language Model</div>\n",
      "# <div class=title> Comparison</div>\n",
      "# <div class=title> Computation</div>\n",
      "## <div class=heading> 1.1 Generate embedding and transform matrices</div>\n",
      "<div class=warn>We will use the word pair generated by cosine similarity and the embeddings generated by word2vec.  </div>\n",
      "### <div class=sub> Pre trained model</div>\n",
      "<div class=warn>We use Frobenius square loss</div>\n",
      "### <div class=sub> Test</div>\n",
      "## <div class=heading> Pytorch</div>\n",
      "<div class=warn>Data</div>\n",
      "<div class=warn>Loss</div>\n",
      "<div class=warn>Model</div>\n",
      "<div class=warn>Optim</div>\n",
      "<div class=warn>Train</div>\n",
      "<div class=warn>Evaluate</div>\n",
      "## <div class=heading> Manual Torch</div>\n",
      "<div class=warn>Evaluate</div>\n",
      "<div class=warn>Rest</div>\n"
     ]
    }
   ],
   "source": [
    "for i in nb['cells']:\n",
    "    if i['cell_type'] == 'markdown':\n",
    "        \n",
    "        i['source'] = cleanhtml(i['source'])\n",
    "        i['source'] = '\\n'.join([markdown2html(j) for j in i['source'].split('\\n')])"
   ]
  },
  {
   "cell_type": "code",
   "execution_count": 7,
   "id": "94f61521",
   "metadata": {},
   "outputs": [],
   "source": [
    "with io.open('./test.ipynb', 'w', encoding='utf-8') as f:\n",
    "    write(nb,f,4)"
   ]
  },
  {
   "cell_type": "code",
   "execution_count": null,
   "id": "9fe10851",
   "metadata": {},
   "outputs": [],
   "source": []
  },
  {
   "cell_type": "code",
   "execution_count": null,
   "id": "3110bee7",
   "metadata": {},
   "outputs": [],
   "source": []
  }
 ],
 "metadata": {
  "kernelspec": {
   "display_name": "Python 3",
   "language": "python",
   "name": "python3"
  },
  "language_info": {
   "codemirror_mode": {
    "name": "ipython",
    "version": 3
   },
   "file_extension": ".py",
   "mimetype": "text/x-python",
   "name": "python",
   "nbconvert_exporter": "python",
   "pygments_lexer": "ipython3",
   "version": "3.6.13"
  }
 },
 "nbformat": 4,
 "nbformat_minor": 5
}

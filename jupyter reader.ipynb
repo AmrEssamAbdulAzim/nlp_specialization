{
 "cells": [
  {
   "cell_type": "code",
   "execution_count": 1,
   "metadata": {},
   "outputs": [],
   "source": [
    "import io, os, sys, types\n",
    "from nbformat import read , write"
   ]
  },
  {
   "cell_type": "code",
   "execution_count": 2,
   "metadata": {},
   "outputs": [],
   "source": [
    "import re"
   ]
  },
  {
   "cell_type": "code",
   "execution_count": 3,
   "metadata": {},
   "outputs": [],
   "source": [
    "with io.open('./Stemmers comparison.ipynb', 'r', encoding='utf-8') as f:\n",
    "    nb = read(f, 4)"
   ]
  },
  {
   "cell_type": "code",
   "execution_count": 4,
   "metadata": {},
   "outputs": [],
   "source": [
    "CLEANR = re.compile('<.*?>') \n",
    "\n",
    "def cleanhtml(raw_html):\n",
    "    cleantext = re.sub(CLEANR, '', raw_html)\n",
    "    return cleantext"
   ]
  },
  {
   "cell_type": "code",
   "execution_count": 5,
   "metadata": {},
   "outputs": [],
   "source": [
    "def markdown2html(txt):\n",
    "    ip = txt\n",
    "    if txt ==\"\":\n",
    "        return \"\"\n",
    "    elif txt.startswith('# '):\n",
    "        txt = txt.replace('# ',f'# <div class=title> ') \n",
    "    elif txt.startswith('## '):\n",
    "        txt = txt.replace('## ',f'## <div class=heading> ') \n",
    "    elif txt.startswith('### '):\n",
    "        txt = txt.replace('### ',f'### <div class=sub> ')\n",
    "    elif re.match('#+',txt):\n",
    "        txt=re.sub('#+\\ ',re.match('#+\\ ',txt)[0] + \" <div class=warn>\",txt)\n",
    "    elif re.match('\\ *\\d[-\\.].*',txt):\n",
    "        txt = re.sub('\\ *\\d[-\\.].*', \"<div class=warn> &nbsp; &nbsp; &nbsp; \" +re.match('\\ *\\d[-\\.].*',txt)[0],txt)\n",
    "        txt = re.sub('\\ +',' ',txt)\n",
    "    else:\n",
    "        txt = \"<div class=warn>\" + txt\n",
    "    txt= txt + '</div>'\n",
    "    \n",
    "    return txt"
   ]
  },
  {
   "cell_type": "code",
   "execution_count": 6,
   "metadata": {},
   "outputs": [],
   "source": [
    "for i in nb['cells']:\n",
    "    if i['cell_type'] == 'markdown':\n",
    "        \n",
    "        i['source'] = cleanhtml(i['source'])\n",
    "        i['source'] = '\\n'.join([markdown2html(j) for j in i['source'].split('\\n')])"
   ]
  },
  {
   "cell_type": "code",
   "execution_count": 7,
   "metadata": {},
   "outputs": [],
   "source": [
    "with io.open('./test.ipynb', 'w', encoding='utf-8') as f:\n",
    "    write(nb,f,4)"
   ]
  },
  {
   "cell_type": "code",
   "execution_count": null,
   "metadata": {},
   "outputs": [],
   "source": []
  }
 ],
 "metadata": {
  "kernelspec": {
   "display_name": "Python 3",
   "language": "python",
   "name": "python3"
  },
  "language_info": {
   "codemirror_mode": {
    "name": "ipython",
    "version": 3
   },
   "file_extension": ".py",
   "mimetype": "text/x-python",
   "name": "python",
   "nbconvert_exporter": "python",
   "pygments_lexer": "ipython3",
   "version": "3.8.3"
  }
 },
 "nbformat": 4,
 "nbformat_minor": 5
}

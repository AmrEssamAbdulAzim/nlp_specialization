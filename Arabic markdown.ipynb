{
 "cells": [
  {
   "cell_type": "code",
   "execution_count": 2,
   "metadata": {},
   "outputs": [
    {
     "data": {
      "text/html": [
       "<style>\n",
       "@font-face {\n",
       "    font-family: 'KFGQPC Uthman Taha Naskh';\n",
       "    src: url('./style/KFGQPC Uthman Taha Naskh.ttf');} \n",
       "div.warn {\n",
       "   direction : rtl;\n",
       "   font-family: KFGQPC Uthman Taha Naskh;\n",
       "   font-size: 18px;\n",
       "   font-weight: normal;\n",
       "   line-height: 150%;\n",
       "    }\n",
       "\n",
       "div.title {\n",
       "   direction : rtl;\n",
       "   font-family: KFGQPC Uthman Taha Naskh;\n",
       "   font-size: 28px;\n",
       "   font-weight: bold;\n",
       "    }\n",
       "\n",
       "div.heading {\n",
       "   direction : rtl;\n",
       "   font-family: KFGQPC Uthman Taha Naskh;\n",
       "   font-size: 24px;\n",
       "   font-weight: bold;\n",
       "    }\n",
       "\n",
       "div.sub {\n",
       "   direction : rtl;\n",
       "   font-family: KFGQPC Uthman Taha Naskh;\n",
       "   font-size: 20px;\n",
       "   font-weight: bold;\n",
       "    }\n",
       " </style>\n",
       "\n",
       "\n"
      ],
      "text/plain": [
       "<IPython.core.display.HTML object>"
      ]
     },
     "execution_count": 2,
     "metadata": {},
     "output_type": "execute_result"
    }
   ],
   "source": [
    "from style import style\n",
    "style.css()"
   ]
  },
  {
   "cell_type": "code",
   "execution_count": 3,
   "metadata": {},
   "outputs": [],
   "source": [
    "import re"
   ]
  },
  {
   "cell_type": "code",
   "execution_count": 4,
   "metadata": {},
   "outputs": [],
   "source": [
    "with open('./test.txt') as f:\n",
    "    a= f.readlines()"
   ]
  },
  {
   "cell_type": "code",
   "execution_count": 5,
   "metadata": {},
   "outputs": [],
   "source": [
    "test_a = ''.join(a)\n",
    "temp = re.sub('\\ufeff','',test_a)\n",
    "\n",
    "for i in re.findall('.*\\n{4}',temp):\n",
    "    temp =re.sub(i,\"# <div class=title>\" + re.sub('\\n{4}','',i)+ \"</div>\\n\",temp)\n",
    "for i in re.findall('.*\\n{3}',temp):\n",
    "    temp=re.sub(i,\"# <div class=sub>\" + re.sub('\\n{3}','',i)+ \"</div>\\n\",temp)\n",
    "for i in re.findall('\\ *\\d\\..*',temp):\n",
    "    temp = re.sub(i,\"<div class=warn>\" +\"&emsp;\"+i+ \"</div>\",temp)\n",
    "for i in re.findall('\\ *•.*',temp):\n",
    "    temp = re.sub(i,\"<div class=warn>\" +\"&emsp;\"+i+ \"</div>\",temp)\n",
    "\n",
    "temp_list = temp.split('\\n')\n",
    "for i,txt in enumerate(temp_list):\n",
    "    if txt and txt[0]!='#':\n",
    "        temp_list[i] = \"<div class=warn'>\" + txt + \"<div>\\n\"\n",
    "temp = '\\n'.join(temp_list)"
   ]
  },
  {
   "cell_type": "code",
   "execution_count": 6,
   "metadata": {
    "scrolled": false
   },
   "outputs": [
    {
     "name": "stdout",
     "output_type": "stream",
     "text": [
      "# <div class=title>ذهب فلان asdasd</div>\n",
      "# <div class=sub>ذهب فلان</div>\n",
      "<div class=warn'>ذهب فلان<div>\n",
      "\n",
      "<div class=warn'>شسي شسيكك شسين<div>\n",
      "\n",
      "<div class=warn'><div class=warn'>&emsp;    1. شسي شسي سشيش</div><div>\n",
      "\n",
      "<div class=warn'><div class=warn'>&emsp;    2. شسي شسي </div><div>\n",
      "\n",
      "<div class=warn'><div class=warn'>&emsp;    3. شسيصثق شسيثبل شسب ثلسث</div><div>\n",
      "\n",
      "\n",
      "<div class=warn'>سشيشسيشس<div>\n",
      "\n",
      "<div class=warn'><div class=warn'> <pre>&emsp;    • شسي</div><div>\n",
      "\n",
      "<div class=warn'><div class=warn'> <pre>&emsp;    • شسبل</div><div>\n",
      "\n",
      "\n",
      "<div class=warn'>سشبشسب شسينت شستي شس تشست تشس تيهش ستؤشس ن<div>\n",
      "\n",
      "\n",
      "<div class=warn'>شس يتشخسحتيتسشكت شسينسشكني كسشنك كشسن يكنسشنيخسنش كينسشكنيكسشنسمنكتشمكشتيسةبمتسيمب مكسش سي الم اسيمام ساشي اسي ال سايمرىءاخالمنسءمر ى س السايم ت سيا ل سيالاسك <div>\n",
      "\n",
      "\n",
      "<div class=warn'>تمنتر مسيخهباثسركمسنؤى رمسيتهر اخهثصا قمكرؤءنمرىسىيب خهراثصرامسنتيبرمنتى سيراخقسث ارمتنءى ى سم سم اسيم لامسايرمى مء ىا سيخامك سكما يلماسءرىمكىب كخه<div>\n",
      "\n",
      "\n",
      "<div class=warn'>asdasjlkj lkj سشيتمسشت متشسميت تشسنه ضصشتنى هشس يىخشهى منشسى <div>\n",
      "\n",
      "\n"
     ]
    }
   ],
   "source": [
    "print(temp)"
   ]
  },
  {
   "cell_type": "markdown",
   "metadata": {},
   "source": [
    "<div class=sub>\n",
    "بسم الله</div>"
   ]
  },
  {
   "cell_type": "code",
   "execution_count": 38,
   "metadata": {},
   "outputs": [
    {
     "data": {
      "text/html": [
       "<style>\n",
       "@font-face {\n",
       "    font-family: 'KFGQPC Uthman Taha Naskh';\n",
       "    src: url('./style/KFGQPC Uthman Taha Naskh.ttf');} \n",
       "div.warn {\n",
       "   direction : rtl;\n",
       "   font-family: KFGQPC Uthman Taha Naskh;\n",
       "   font-size: 18px;\n",
       "   font-weight: normal;\n",
       "\n",
       "    }\n",
       "\n",
       "div.title {\n",
       "   direction : rtl;\n",
       "   font-family: KFGQPC Uthman Taha Naskh;\n",
       "   font-size: 28px;\n",
       "   font-weight: bold;\n",
       "    }\n",
       "\n",
       "div.sub {\n",
       "   direction : rtl;\n",
       "   font-family: KFGQPC Uthman Taha Naskh;\n",
       "   font-size: 20px;\n",
       "   font-weight: bold;\n",
       "    }\n",
       " </style>\n",
       "\n",
       "\n"
      ],
      "text/plain": [
       "<IPython.core.display.HTML object>"
      ]
     },
     "execution_count": 38,
     "metadata": {},
     "output_type": "execute_result"
    }
   ],
   "source": [
    "from style import style\n",
    "style.css()"
   ]
  },
  {
   "cell_type": "markdown",
   "metadata": {},
   "source": [
    "<div class=warn'><div class=sub></div>ذهب فلان<div>\n"
   ]
  },
  {
   "cell_type": "markdown",
   "metadata": {},
   "source": [
    "# <div class=title>ذهب فلان asdasd</div>\n",
    "# <div class=sub>ذهب فلان</div>\n",
    "<div class=warn'>ذهب فلان<div>\n",
    "\n",
    "<div class=warn'>شسي شسيكك شسين<div>\n",
    "\n",
    "<div class=warn'><div class=warn'>&emsp;    1. شسي شسي سشيش</div><div>\n",
    "\n",
    "<div class=warn'><div class=warn'>&emsp;    2. شسي شسي </div><div>\n",
    "\n",
    "<div class=warn'><div class=warn'>&emsp;    3. شسيصثق شسيثبل شسب ثلسث</div><div>\n",
    "\n",
    "\n",
    "<div class=warn'>سشيشسيشس<div>\n",
    "\n",
    "<div class=warn'><div class=warn'>&emsp;    • شسي</div><div>\n",
    "\n",
    "<div class=warn'><div class=warn'>&emsp;    • شسبل</div><div>\n",
    "\n",
    "\n",
    "<div class=warn'>سشبشسب شسينت شستي شس تشست تشس تيهش ستؤشس ن<div>\n",
    "\n",
    "\n",
    "<div class=warn'>شس يتشخسحتيتسشكت شسينسشكني كسشنك كشسن يكنسشنيخسنش كينسشكنيكسشنسمنكتشمكشتيسةبمتسيمب مكسش سي الم اسيمام ساشي اسي ال سايمرىءاخالمنسءمر ى س السايم ت سيا ل سيالاسك <div>\n",
    "\n",
    "\n",
    "<div class=warn'>تمنتر مسيخهباثسركمسنؤى رمسيتهر اخهثصا قمكرؤءنمرىسىيب خهراثصرامسنتيبرمنتى سيراخقسث ارمتنءى ى سم سم اسيم لامسايرمى مء ىا سيخامك سكما يلماسءرىمكىب كخه<div>\n",
    "\n",
    "\n",
    "<div class=warn'>asdasjlkj lkj سشيتمسشت متشسميت تشسنه ضصشتنى هشس يىخشهى منشسى <div>"
   ]
  },
  {
   "cell_type": "markdown",
   "metadata": {},
   "source": []
  },
  {
   "cell_type": "code",
   "execution_count": null,
   "metadata": {},
   "outputs": [],
   "source": []
  }
 ],
 "metadata": {
  "kernelspec": {
   "display_name": "Python 3",
   "language": "python",
   "name": "python3"
  },
  "language_info": {
   "codemirror_mode": {
    "name": "ipython",
    "version": 3
   },
   "file_extension": ".py",
   "mimetype": "text/x-python",
   "name": "python",
   "nbconvert_exporter": "python",
   "pygments_lexer": "ipython3",
   "version": "3.8.3"
  }
 },
 "nbformat": 4,
 "nbformat_minor": 4
}

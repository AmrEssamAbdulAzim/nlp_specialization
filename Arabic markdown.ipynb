{
 "cells": [
  {
   "cell_type": "code",
   "execution_count": 85,
   "metadata": {},
   "outputs": [],
   "source": [
    "import re"
   ]
  },
  {
   "cell_type": "code",
   "execution_count": 86,
   "metadata": {},
   "outputs": [],
   "source": [
    "with open('/home/amr/Desktop/test.txt') as f:\n",
    "    a= f.readlines()"
   ]
  },
  {
   "cell_type": "code",
   "execution_count": 87,
   "metadata": {},
   "outputs": [
    {
     "data": {
      "text/plain": [
       "['\\ufeffذهب فلان \\n',\n",
       " '\\n',\n",
       " '\\n',\n",
       " '\\n',\n",
       " 'ذهب فلان\\n',\n",
       " '\\n',\n",
       " '\\n',\n",
       " 'ذهب فلان\\n',\n",
       " 'شسي شسيكك شسين\\n',\n",
       " '    1. شسي شسي سشيش\\n',\n",
       " '    2. شسي شسي \\n',\n",
       " '    3. شسيصثق شسيثبل شسب ثلسث\\n',\n",
       " '\\n',\n",
       " 'سشيشسيشس\\n',\n",
       " '    • شسي\\n',\n",
       " '    • شسبل\\n']"
      ]
     },
     "execution_count": 87,
     "metadata": {},
     "output_type": "execute_result"
    }
   ],
   "source": [
    "a"
   ]
  },
  {
   "cell_type": "code",
   "execution_count": 88,
   "metadata": {},
   "outputs": [],
   "source": [
    "test_a = ''.join(a)"
   ]
  },
  {
   "cell_type": "code",
   "execution_count": 89,
   "metadata": {},
   "outputs": [
    {
     "data": {
      "text/plain": [
       "'\\ufeffذهب فلان \\n\\n\\n\\nذهب فلان\\n\\n\\nذهب فلان\\nشسي شسيكك شسين\\n    1. شسي شسي سشيش\\n    2. شسي شسي \\n    3. شسيصثق شسيثبل شسب ثلسث\\n\\nسشيشسيشس\\n    • شسي\\n    • شسبل\\n'"
      ]
     },
     "execution_count": 89,
     "metadata": {},
     "output_type": "execute_result"
    }
   ],
   "source": [
    "test_a"
   ]
  },
  {
   "cell_type": "code",
   "execution_count": 90,
   "metadata": {},
   "outputs": [
    {
     "data": {
      "text/plain": [
       "'ذهب فلان \\n\\n\\n\\nذهب فلان\\n\\n\\nذهب فلان\\nشسي شسيكك شسين\\n    1. شسي شسي سشيش\\n    2. شسي شسي \\n    3. شسيصثق شسيثبل شسب ثلسث\\n\\nسشيشسيشس\\n    • شسي\\n    • شسبل\\n'"
      ]
     },
     "execution_count": 90,
     "metadata": {},
     "output_type": "execute_result"
    }
   ],
   "source": [
    "temp = re.sub('\\ufeff','',test_a)\n",
    "temp"
   ]
  },
  {
   "cell_type": "code",
   "execution_count": 91,
   "metadata": {},
   "outputs": [
    {
     "data": {
      "text/plain": [
       "['ذهب فلان \\n\\n\\n\\n']"
      ]
     },
     "execution_count": 91,
     "metadata": {},
     "output_type": "execute_result"
    }
   ],
   "source": [
    "re.findall('.*\\n\\n\\n\\n',temp)"
   ]
  },
  {
   "cell_type": "code",
   "execution_count": 92,
   "metadata": {},
   "outputs": [
    {
     "data": {
      "text/plain": [
       "'\\ufeffذهب فلان \\n\\n\\n\\nذهب فلان\\n\\n\\nذهب فلان\\nشسي شسيكك شسين\\n    1. شسي شسي سشيش\\n    2. شسي شسي \\n    3. شسيصثق شسيثبل شسب ثلسث\\n\\nسشيشسيشس\\n    • شسي\\n    • شسبل\\n'"
      ]
     },
     "execution_count": 92,
     "metadata": {},
     "output_type": "execute_result"
    }
   ],
   "source": [
    "test_a"
   ]
  },
  {
   "cell_type": "code",
   "execution_count": 93,
   "metadata": {},
   "outputs": [
    {
     "data": {
      "text/plain": [
       "'\\ufeffذهب فلان \\n\\n\\n\\nذهب فلان\\n\\n\\nذهب فلان\\nشسي شسيكك شسين\\n    1. شسي شسي سشيش\\n    2. شسي شسي \\n    3. شسيصثق شسيثبل شسب ثلسث\\n\\nسشيشسيشس\\n    • شسي\\n    • شسبل\\n'"
      ]
     },
     "execution_count": 93,
     "metadata": {},
     "output_type": "execute_result"
    }
   ],
   "source": [
    "test_a"
   ]
  },
  {
   "cell_type": "code",
   "execution_count": 94,
   "metadata": {
    "scrolled": true
   },
   "outputs": [
    {
     "data": {
      "text/plain": [
       "'\\ufeffذهب فلان \\n\\n\\n\\nذهب فلان\\n\\n\\nذهب فلان\\nشسي شسيكك شسين\\n    1. شسي شسي سشيش\\n    2. شسي شسي \\n    3. شسيصثق شسيثبل شسب ثلسث\\n\\nسشيشسيشس\\n    • شسي\\n    • شسبل\\n'"
      ]
     },
     "execution_count": 94,
     "metadata": {},
     "output_type": "execute_result"
    }
   ],
   "source": [
    "test_a"
   ]
  },
  {
   "cell_type": "code",
   "execution_count": 106,
   "metadata": {},
   "outputs": [
    {
     "data": {
      "text/plain": [
       "['1. شسي شسي سشيش', '2. شسي شسي ', '3. شسيصثق شسيثبل شسب ثلسث']"
      ]
     },
     "execution_count": 106,
     "metadata": {},
     "output_type": "execute_result"
    }
   ],
   "source": [
    "re.findall('\\d\\.\\ *.+',test_a)"
   ]
  },
  {
   "cell_type": "code",
   "execution_count": 70,
   "metadata": {},
   "outputs": [
    {
     "name": "stdout",
     "output_type": "stream",
     "text": [
      "# <div dir ='rtl' style='font-family: KFGQPC Uthman Taha Naskh'>ذهب فلان <div>\n",
      "## <div dir ='rtl' style='font-family: KFGQPC Uthman Taha Naskh'>ذهب فلان<div>\n",
      "ذهب فلان\n",
      "شسي شسيكك شسين\n",
      "    1. شسي\n",
      "    2. شسي\n",
      "### <div dir ='rtl' style='font-family: KFGQPC Uthman Taha Naskh'>    3. شسيصثق<div>\n",
      "سشيشسيشس\n",
      "    • شسي\n",
      "    • شسبل\n",
      "\n"
     ]
    }
   ],
   "source": [
    "temp = re.sub('\\ufeff','',test_a)\n",
    "\n",
    "for i in re.findall('.*\\n\\n\\n\\n',temp):\n",
    "    temp =re.sub(i,\"# <div dir ='rtl' style='font-family: KFGQPC Uthman Taha Naskh'>\" + re.sub('\\n\\n\\n\\n','',i)+ \"<div>\\n\",temp)\n",
    "for i in re.findall('.*\\n\\n\\n',temp):\n",
    "    temp=re.sub(i,\"## <div dir ='rtl' style='font-family: KFGQPC Uthman Taha Naskh'>\" + re.sub('\\n\\n\\n','',i)+ \"<div>\\n\",temp)\n",
    "for i in re.findall('.*\\n\\n',temp):\n",
    "    print(re.sub(i,\"### <div dir ='rtl' style='font-family: KFGQPC Uthman Taha Naskh'>\" + re.sub('\\n\\n','',i)+ \"<div>\\n\",temp))\n"
   ]
  },
  {
   "cell_type": "markdown",
   "metadata": {},
   "source": [
    "# <div dir ='rtl' style='font-family: KFGQPC Uthman Taha Naskh'>ذهب فلان <div>\n",
    "## <div dir ='rtl' style='font-family: KFGQPC Uthman Taha Naskh'>ذهب فلان<div>\n",
    "ذهب فلان\n",
    "شسي شسيكك شسين\n",
    "    1. شسي\n",
    "    2. شسي\n",
    "### <div dir ='rtl' style='font-family: KFGQPC Uthman Taha Naskh'>    3. شسيصثق<div>\n",
    "سشيشسيشس\n",
    "    • شسي\n",
    "    • شسبل\n"
   ]
  },
  {
   "cell_type": "code",
   "execution_count": 54,
   "metadata": {},
   "outputs": [
    {
     "data": {
      "text/plain": [
       "['\\ufeffذهب فلان \\n',\n",
       " '\\n',\n",
       " '\\n',\n",
       " '\\n',\n",
       " 'ذهب فلان\\n',\n",
       " '\\n',\n",
       " '\\n',\n",
       " 'ذهب فلان\\n',\n",
       " 'شسي شسيكك شسين\\n',\n",
       " '    1. شسي\\n',\n",
       " '    2. شسي\\n',\n",
       " '    3. شسيصثق\\n',\n",
       " '\\n',\n",
       " 'سشيشسيشس\\n',\n",
       " '    • شسي\\n',\n",
       " '    • شسبل\\n']"
      ]
     },
     "execution_count": 54,
     "metadata": {},
     "output_type": "execute_result"
    }
   ],
   "source": [
    "a"
   ]
  },
  {
   "cell_type": "code",
   "execution_count": 44,
   "metadata": {},
   "outputs": [
    {
     "data": {
      "text/plain": [
       "'ذهب فلان \\n\\n\\n\\nذهب فلان\\n\\n\\nذهب فلان\\nشسي شسيكك شسين\\n    1. شسي\\n    2. شسي\\n    3. شسيصثق\\n\\nسشيشسيشس\\n    • شسي\\n    • شسبل\\n'"
      ]
     },
     "execution_count": 44,
     "metadata": {},
     "output_type": "execute_result"
    }
   ],
   "source": [
    "temp"
   ]
  },
  {
   "cell_type": "code",
   "execution_count": 48,
   "metadata": {},
   "outputs": [
    {
     "data": {
      "text/plain": [
       "'ذهب فلان \\n\\n\\n\\nذهب فلان\\n\\n\\nذهب فلان\\nشسي شسيكك شسين\\n    1. شسي\\n    2. شسي\\n    3. شسيصثق\\n\\nسشيشسيشس\\n    • شسي\\n    • شسبل\\n'"
      ]
     },
     "execution_count": 48,
     "metadata": {},
     "output_type": "execute_result"
    }
   ],
   "source": [
    "temp"
   ]
  },
  {
   "cell_type": "code",
   "execution_count": 49,
   "metadata": {},
   "outputs": [],
   "source": [
    "?re.sub"
   ]
  },
  {
   "cell_type": "code",
   "execution_count": 47,
   "metadata": {},
   "outputs": [
    {
     "data": {
      "text/plain": [
       "'s'"
      ]
     },
     "execution_count": 47,
     "metadata": {},
     "output_type": "execute_result"
    }
   ],
   "source": [
    "re.sub('ذ' , temp,'s')"
   ]
  },
  {
   "cell_type": "code",
   "execution_count": 50,
   "metadata": {
    "scrolled": true
   },
   "outputs": [
    {
     "name": "stdout",
     "output_type": "stream",
     "text": [
      "# <div>ذهب فلان <div>ذهب فلان\n",
      "\n",
      "\n",
      "ذهب فلان\n",
      "شسي شسيكك شسين\n",
      "    1. شسي\n",
      "    2. شسي\n",
      "    3. شسيصثق\n",
      "\n",
      "سشيشسيشس\n",
      "    • شسي\n",
      "    • شسبل\n",
      "\n"
     ]
    }
   ],
   "source": [
    "print(re.sub(i,\"# <div>\" + re.sub('\\n\\n\\n\\n','',i)+ \"<div>\",temp))"
   ]
  },
  {
   "cell_type": "code",
   "execution_count": 38,
   "metadata": {},
   "outputs": [
    {
     "data": {
      "text/plain": [
       "'ذهب فلان \\n\\n\\n\\nذهب فلان\\n\\n\\nذهب فلان\\nشسي شسيكك شسين\\n    1. شسي\\n    2. شسي\\n    3. شسيصثق\\n\\nسشيشسيشس\\n    • شسي\\n    • شسبل\\n'"
      ]
     },
     "execution_count": 38,
     "metadata": {},
     "output_type": "execute_result"
    }
   ],
   "source": [
    "temp"
   ]
  },
  {
   "cell_type": "code",
   "execution_count": 39,
   "metadata": {},
   "outputs": [
    {
     "data": {
      "text/plain": [
       "\"# <div dir ='rtl' style='font-family: KFGQPC Uthman Taha Naskh'>ذهب فلان <div>\""
      ]
     },
     "execution_count": 39,
     "metadata": {},
     "output_type": "execute_result"
    }
   ],
   "source": [
    "test"
   ]
  },
  {
   "cell_type": "markdown",
   "metadata": {},
   "source": [
    "# <div dir ='rtl' style='font-family: KFGQPC Uthman Taha Naskh'>ذهب فلان <div>"
   ]
  },
  {
   "cell_type": "code",
   "execution_count": 22,
   "metadata": {},
   "outputs": [],
   "source": [
    "import re"
   ]
  },
  {
   "cell_type": "code",
   "execution_count": 47,
   "metadata": {},
   "outputs": [
    {
     "data": {
      "text/plain": [
       "<re.Match object; span=(0, 4), match=' 50.'>"
      ]
     },
     "execution_count": 47,
     "metadata": {},
     "output_type": "execute_result"
    }
   ],
   "source": [
    "re.match(\"\\ +\\d+\\.\",' 50.')"
   ]
  },
  {
   "cell_type": "code",
   "execution_count": 29,
   "metadata": {},
   "outputs": [],
   "source": [
    "?re.match"
   ]
  },
  {
   "cell_type": "code",
   "execution_count": 7,
   "metadata": {},
   "outputs": [
    {
     "name": "stdout",
     "output_type": "stream",
     "text": [
      "\n",
      "\n",
      "\n",
      "\n",
      "\n"
     ]
    }
   ],
   "source": [
    "for i,txt in enumerate(a):\n",
    "    if txt.startswith('   ') and \n",
    "    a[i] = \"<div dir ='rtl' style='font-family: KFGQPC Uthman Taha Naskh'>\" +txt +\"</div>\" "
   ]
  },
  {
   "cell_type": "markdown",
   "metadata": {},
   "source": [
    "<div dir ='rtl' style='font-family: KFGQPC Uthman Taha Naskh'>\\ufeffعلي الششس شسي\\n</div> <div dir ='rtl' style='font-family: KFGQPC Uthman Taha Naskh'>    1. شسش\\n</div> <div dir ='rtl' style='font-family: KFGQPC Uthman Taha Naskh'>    2. شسيشس\\n</div> <div dir ='rtl' style='font-family: KFGQPC Uthman Taha Naskh'>    3. سشيشس\\n</div> <div dir ='rtl' style='font-family: KFGQPC Uthman Taha Naskh'>\\n</div>"
   ]
  },
  {
   "cell_type": "code",
   "execution_count": null,
   "metadata": {},
   "outputs": [],
   "source": []
  },
  {
   "cell_type": "code",
   "execution_count": 10,
   "metadata": {},
   "outputs": [
    {
     "data": {
      "text/plain": [
       "\"<div dir ='rtl' style='font-family: KFGQPC Uthman Taha Naskh'>\\ufeffعلي الششس شسي\\n</div> <div dir ='rtl' style='font-family: KFGQPC Uthman Taha Naskh'>    1. شسش\\n</div> <div dir ='rtl' style='font-family: KFGQPC Uthman Taha Naskh'>    2. شسيشس\\n</div> <div dir ='rtl' style='font-family: KFGQPC Uthman Taha Naskh'>    3. سشيشس\\n</div> <div dir ='rtl' style='font-family: KFGQPC Uthman Taha Naskh'>\\n</div>\""
      ]
     },
     "execution_count": 10,
     "metadata": {},
     "output_type": "execute_result"
    }
   ],
   "source": [
    "' '.join(a)"
   ]
  },
  {
   "cell_type": "markdown",
   "metadata": {},
   "source": [
    "p {font-family: Arial;}\n",
    "## <div dir=\"rtl\" style=\"font-family: KFGQPC Uthman Taha Naskh\" >عنوان</div>\n",
    "\n",
    "### <div dir=\"rtl\">قائمة</div>\n",
    "<div dir=\"rtl\"><ul>\n",
    "  <li>١. البند 1</li>\n",
    "  <li>٢.البند 2</li>\n",
    "  <li>٣.البند 3</li>\n",
    "</ul></div></div>\n",
    "<p dir=\"rtl\" style=\"font-family: KFGQPC Uthman Taha Naskh\" > حلول</p>"
   ]
  },
  {
   "cell_type": "code",
   "execution_count": null,
   "metadata": {},
   "outputs": [],
   "source": []
  }
 ],
 "metadata": {
  "kernelspec": {
   "display_name": "Python 3",
   "language": "python",
   "name": "python3"
  },
  "language_info": {
   "codemirror_mode": {
    "name": "ipython",
    "version": 3
   },
   "file_extension": ".py",
   "mimetype": "text/x-python",
   "name": "python",
   "nbconvert_exporter": "python",
   "pygments_lexer": "ipython3",
   "version": "3.8.3"
  }
 },
 "nbformat": 4,
 "nbformat_minor": 4
}

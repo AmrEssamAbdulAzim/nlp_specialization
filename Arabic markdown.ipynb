{
 "cells": [
  {
   "cell_type": "code",
   "execution_count": 1,
   "metadata": {},
   "outputs": [],
   "source": [
    "import re"
   ]
  },
  {
   "cell_type": "code",
   "execution_count": 2,
   "metadata": {},
   "outputs": [],
   "source": [
    "with open('/home/amr/Desktop/test.txt') as f:\n",
    "    a= f.readlines()"
   ]
  },
  {
   "cell_type": "code",
   "execution_count": 3,
   "metadata": {},
   "outputs": [],
   "source": [
    "test_a = ''.join(a)\n",
    "temp = re.sub('\\ufeff','',test_a)\n",
    "\n",
    "for i in re.findall('.*\\n\\n\\n\\n',temp):\n",
    "    temp =re.sub(i,\"# <div dir ='rtl' style='font-family: KFGQPC Uthman Taha Naskh'>\" + re.sub('\\n\\n\\n\\n','',i)+ \"</div>\\n\",temp)\n",
    "for i in re.findall('.*\\n\\n\\n',temp):\n",
    "    temp=re.sub(i,\"## <div dir ='rtl' style='font-family: KFGQPC Uthman Taha Naskh'>\" + re.sub('\\n\\n\\n','',i)+ \"</div>\\n\",temp)\n",
    "for i in re.findall('\\ *\\d\\..*',temp):\n",
    "    temp = re.sub(i,\"<div dir ='rtl' style='font-family: KFGQPC Uthman Taha Naskh'>\" +\"&emsp;\"+i+ \"</div>\",temp)\n",
    "for i in re.findall('\\ *•.*',temp):\n",
    "    temp = re.sub(i,\"<div dir ='rtl' style='font-family: KFGQPC Uthman Taha Naskh'>\" +\"&emsp;\"+i+ \"</div>\",temp)\n",
    "\n",
    "temp_list = temp.split('\\n')\n",
    "for i,txt in enumerate(temp_list):\n",
    "    if txt and txt[0]!='#':\n",
    "        temp_list[i] = \"<div dir ='rtl' style='font-family: KFGQPC Uthman Taha Naskh'>\" + txt + \"<div>\\n\"\n",
    "temp = '\\n'.join(temp_list)"
   ]
  },
  {
   "cell_type": "code",
   "execution_count": 4,
   "metadata": {},
   "outputs": [
    {
     "name": "stdout",
     "output_type": "stream",
     "text": [
      "# <div dir ='rtl' style='font-family: KFGQPC Uthman Taha Naskh'>ذهب فلان </div>\n",
      "## <div dir ='rtl' style='font-family: KFGQPC Uthman Taha Naskh'>ذهب فلان</div>\n",
      "<div dir ='rtl' style='font-family: KFGQPC Uthman Taha Naskh'>ذهب فلان<div>\n",
      "\n",
      "<div dir ='rtl' style='font-family: KFGQPC Uthman Taha Naskh'>شسي شسيكك شسين<div>\n",
      "\n",
      "<div dir ='rtl' style='font-family: KFGQPC Uthman Taha Naskh'><div dir ='rtl' style='font-family: KFGQPC Uthman Taha Naskh'>&emsp;    1. شسي شسي سشيش</div><div>\n",
      "\n",
      "<div dir ='rtl' style='font-family: KFGQPC Uthman Taha Naskh'><div dir ='rtl' style='font-family: KFGQPC Uthman Taha Naskh'>&emsp;    2. شسي شسي </div><div>\n",
      "\n",
      "<div dir ='rtl' style='font-family: KFGQPC Uthman Taha Naskh'><div dir ='rtl' style='font-family: KFGQPC Uthman Taha Naskh'>&emsp;    3. شسيصثق شسيثبل شسب ثلسث</div><div>\n",
      "\n",
      "\n",
      "<div dir ='rtl' style='font-family: KFGQPC Uthman Taha Naskh'>سشيشسيشس<div>\n",
      "\n",
      "<div dir ='rtl' style='font-family: KFGQPC Uthman Taha Naskh'><div dir ='rtl' style='font-family: KFGQPC Uthman Taha Naskh'>&emsp;    • شسي</div><div>\n",
      "\n",
      "<div dir ='rtl' style='font-family: KFGQPC Uthman Taha Naskh'><div dir ='rtl' style='font-family: KFGQPC Uthman Taha Naskh'>&emsp;    • شسبل</div><div>\n",
      "\n",
      "\n",
      "<div dir ='rtl' style='font-family: KFGQPC Uthman Taha Naskh'>سشبشسب شسينت شستي شس تشست تشس تيهش ستؤشس ن<div>\n",
      "\n",
      "\n",
      "<div dir ='rtl' style='font-family: KFGQPC Uthman Taha Naskh'>شس يتشخسحتيتسشكت شسينسشكني كسشنك كشسن يكنسشنيخسنش كينسشكنيكسشنسمنكتشمكشتيسةبمتسيمب مكسش سي الم اسيمام ساشي اسي ال سايمرىءاخالمنسءمر ى س السايم ت سيا ل سيالاسك <div>\n",
      "\n",
      "\n",
      "<div dir ='rtl' style='font-family: KFGQPC Uthman Taha Naskh'>تمنتر مسيخهباثسركمسنؤى رمسيتهر اخهثصا قمكرؤءنمرىسىيب خهراثصرامسنتيبرمنتى سيراخقسث ارمتنءى ى سم سم اسيم لامسايرمى مء ىا سيخامك سكما يلماسءرىمكىب كخه<div>\n",
      "\n",
      "\n"
     ]
    }
   ],
   "source": [
    "print(temp)"
   ]
  },
  {
   "cell_type": "markdown",
   "metadata": {},
   "source": [
    "# <div dir ='rtl' style='font-family: KFGQPC Uthman Taha Naskh'>ذهب فلان </div>\n",
    "## <div dir ='rtl' style='font-family: KFGQPC Uthman Taha Naskh'>ذهب فلان</div>\n",
    "<div dir ='rtl' style='font-family: KFGQPC Uthman Taha Naskh'>ذهب فلان<div>\n",
    "\n",
    "<div dir ='rtl' style='font-family: KFGQPC Uthman Taha Naskh'>شسي شسيكك شسين<div>\n",
    "\n",
    "<div dir ='rtl' style='font-family: KFGQPC Uthman Taha Naskh'><div dir ='rtl' style='font-family: KFGQPC Uthman Taha Naskh'>&emsp;    1. شسي شسي سشيش</div><div>\n",
    "\n",
    "<div dir ='rtl' style='font-family: KFGQPC Uthman Taha Naskh'><div dir ='rtl' style='font-family: KFGQPC Uthman Taha Naskh'>&emsp;    2. شسي شسي </div><div>\n",
    "\n",
    "<div dir ='rtl' style='font-family: KFGQPC Uthman Taha Naskh'><div dir ='rtl' style='font-family: KFGQPC Uthman Taha Naskh'>&emsp;    3. شسيصثق شسيثبل شسب ثلسث</div><div>\n",
    "\n",
    "\n",
    "<div dir ='rtl' style='font-family: KFGQPC Uthman Taha Naskh'>سشيشسيشس<div>\n",
    "\n",
    "<div dir ='rtl' style='font-family: KFGQPC Uthman Taha Naskh'><div dir ='rtl' style='font-family: KFGQPC Uthman Taha Naskh'>&emsp;    • شسي</div><div>\n",
    "\n",
    "<div dir ='rtl' style='font-family: KFGQPC Uthman Taha Naskh'><div dir ='rtl' style='font-family: KFGQPC Uthman Taha Naskh'>&emsp;    • شسبل</div><div>\n",
    "\n",
    "\n",
    "<div dir ='rtl' style='font-family: KFGQPC Uthman Taha Naskh'>سشبشسب شسينت شستي شس تشست تشس تيهش ستؤشس ن<div>\n",
    "\n",
    "\n",
    "<div dir ='rtl' style='font-family: KFGQPC Uthman Taha Naskh'>شس يتشخسحتيتسشكت شسينسشكني كسشنك كشسن يكنسشنيخسنش كينسشكنيكسشنسمنكتشمكشتيسةبمتسيمب مكسش سي الم اسيمام ساشي اسي ال سايمرىءاخالمنسءمر ى س السايم ت سيا ل سيالاسك <div>\n",
    "\n",
    "\n",
    "<div dir ='rtl' style='font-family: KFGQPC Uthman Taha Naskh'>تمنتر مسيخهباثسركمسنؤى رمسيتهر اخهثصا قمكرؤءنمرىسىيب خهراثصرامسنتيبرمنتى سيراخقسث ارمتنءى ى سم سم اسيم لامسايرمى مء ىا سيخامك سكما يلماسءرىمكىب كخه<div>\n"
   ]
  },
  {
   "cell_type": "code",
   "execution_count": null,
   "metadata": {},
   "outputs": [],
   "source": []
  },
  {
   "cell_type": "markdown",
   "metadata": {},
   "source": [
    "\n",
    "<html>\n",
    "<head>\n",
    "<style>\n",
    "body {\n",
    "  background-color: linen;\n",
    "}\n",
    "\n",
    "h1 {\n",
    "  color: green;\n",
    "  margin-left: 40px;\n",
    "}\n",
    "</style>\n",
    "</head>\n",
    "<body>\n",
    "\n",
    "<h1>This is a heading</h1>\n",
    "<p>This is a paragraph.</p>\n",
    "\n",
    "</body>\n",
    "</html> "
   ]
  },
  {
   "cell_type": "code",
   "execution_count": 3,
   "metadata": {},
   "outputs": [
    {
     "data": {
      "text/html": [
       "<style>.foo{color:#F00;}</style><div class=\"foo\">bar</div>"
      ],
      "text/plain": [
       "<IPython.core.display.HTML object>"
      ]
     },
     "metadata": {},
     "output_type": "display_data"
    }
   ],
   "source": [
    "from IPython.display import HTML\n",
    "css_str = '<style>.foo{color:#F00;}</style>'\n",
    "html_str = '<div class=\"foo\">bar</div>'\n",
    "html = HTML(css_str + html_str)\n",
    "display(html)"
   ]
  },
  {
   "cell_type": "markdown",
   "metadata": {},
   "source": [
    "frim Ip"
   ]
  },
  {
   "cell_type": "code",
   "execution_count": 2,
   "metadata": {},
   "outputs": [
    {
     "data": {
      "text/html": [
       "<style>\n",
       "div.warn {    \n",
       "    @font-face {\n",
       "    font-family: 'oswald';\n",
       "    src: url('./oswald.regular.ttf');\n",
       "\t}\n",
       "   color:red;\n",
       "    }\n",
       " </style>\n"
      ],
      "text/plain": [
       "<IPython.core.display.HTML object>"
      ]
     },
     "execution_count": 2,
     "metadata": {},
     "output_type": "execute_result"
    }
   ],
   "source": [
    "from IPython.core.display import HTML\n",
    "def css():\n",
    "    styles = open('./style.css','r').read()\n",
    "    return HTML(styles)\n",
    "css()"
   ]
  },
  {
   "cell_type": "markdown",
   "metadata": {},
   "source": [
    "<div class=warn>\n",
    "**Warning:** remember to do bookeping  \n",
    "</div>"
   ]
  },
  {
   "cell_type": "code",
   "execution_count": null,
   "metadata": {},
   "outputs": [],
   "source": []
  }
 ],
 "metadata": {
  "kernelspec": {
   "display_name": "Python 3",
   "language": "python",
   "name": "python3"
  },
  "language_info": {
   "codemirror_mode": {
    "name": "ipython",
    "version": 3
   },
   "file_extension": ".py",
   "mimetype": "text/x-python",
   "name": "python",
   "nbconvert_exporter": "python",
   "pygments_lexer": "ipython3",
   "version": "3.8.3"
  }
 },
 "nbformat": 4,
 "nbformat_minor": 4
}

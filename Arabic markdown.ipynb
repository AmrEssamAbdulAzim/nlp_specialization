{
 "cells": [
  {
   "cell_type": "code",
   "execution_count": 73,
   "metadata": {},
   "outputs": [],
   "source": [
    "import re"
   ]
  },
  {
   "cell_type": "code",
   "execution_count": 74,
   "metadata": {},
   "outputs": [],
   "source": [
    "with open('/home/amr/Desktop/test.txt') as f:\n",
    "    a= f.readlines()"
   ]
  },
  {
   "cell_type": "code",
   "execution_count": 75,
   "metadata": {},
   "outputs": [],
   "source": [
    "test_a = ''.join(a)\n",
    "temp = re.sub('\\ufeff','',test_a)\n",
    "\n",
    "for i in re.findall('.*\\n\\n\\n\\n',temp):\n",
    "    temp =re.sub(i,\"# <div dir ='rtl' style='font-family: KFGQPC Uthman Taha Naskh'>\" + re.sub('\\n\\n\\n\\n','',i)+ \"</div>\\n\",temp)\n",
    "for i in re.findall('.*\\n\\n\\n',temp):\n",
    "    temp=re.sub(i,\"## <div dir ='rtl' style='font-family: KFGQPC Uthman Taha Naskh'>\" + re.sub('\\n\\n\\n','',i)+ \"</div>\\n\",temp)\n",
    "for i in re.findall('\\ *\\d\\..*',temp):\n",
    "    temp = re.sub(i,\"<div dir ='rtl' style='font-family: KFGQPC Uthman Taha Naskh'>\" +\"&emsp;\"+i+ \"</div>\",temp)\n",
    "for i in re.findall('\\ *•.*',temp):\n",
    "    temp = re.sub(i,\"<div dir ='rtl' style='font-family: KFGQPC Uthman Taha Naskh'>\" +\"&emsp;\"+i+ \"</div>\",temp)\n",
    "\n",
    "temp_list = temp.split('\\n')\n",
    "for i,txt in enumerate(temp_list):\n",
    "    if txt and txt[0]!='#':\n",
    "        temp_list[i] = \"<div dir ='rtl' style='font-family: KFGQPC Uthman Taha Naskh'>\" + txt + \"<div>\\n\"\n",
    "temp = '\\n'.join(temp_list)"
   ]
  },
  {
   "cell_type": "code",
   "execution_count": 77,
   "metadata": {},
   "outputs": [
    {
     "name": "stdout",
     "output_type": "stream",
     "text": [
      "# <div dir ='rtl' style='font-family: KFGQPC Uthman Taha Naskh'>ذهب فلان </div>\n",
      "## <div dir ='rtl' style='font-family: KFGQPC Uthman Taha Naskh'>ذهب فلان</div>\n",
      "<div dir ='rtl' style='font-family: KFGQPC Uthman Taha Naskh'>ذهب فلان<div>\n",
      "\n",
      "<div dir ='rtl' style='font-family: KFGQPC Uthman Taha Naskh'>شسي شسيكك شسين<div>\n",
      "\n",
      "<div dir ='rtl' style='font-family: KFGQPC Uthman Taha Naskh'><div dir ='rtl' style='font-family: KFGQPC Uthman Taha Naskh'>&emsp;    1. شسي شسي سشيش</div><div>\n",
      "\n",
      "<div dir ='rtl' style='font-family: KFGQPC Uthman Taha Naskh'><div dir ='rtl' style='font-family: KFGQPC Uthman Taha Naskh'>&emsp;    2. شسي شسي </div><div>\n",
      "\n",
      "<div dir ='rtl' style='font-family: KFGQPC Uthman Taha Naskh'><div dir ='rtl' style='font-family: KFGQPC Uthman Taha Naskh'>&emsp;    3. شسيصثق شسيثبل شسب ثلسث</div><div>\n",
      "\n",
      "\n",
      "<div dir ='rtl' style='font-family: KFGQPC Uthman Taha Naskh'>سشيشسيشس<div>\n",
      "\n",
      "<div dir ='rtl' style='font-family: KFGQPC Uthman Taha Naskh'><div dir ='rtl' style='font-family: KFGQPC Uthman Taha Naskh'>&emsp;    • شسي</div><div>\n",
      "\n",
      "<div dir ='rtl' style='font-family: KFGQPC Uthman Taha Naskh'><div dir ='rtl' style='font-family: KFGQPC Uthman Taha Naskh'>&emsp;    • شسبل</div><div>\n",
      "\n",
      "\n",
      "<div dir ='rtl' style='font-family: KFGQPC Uthman Taha Naskh'>سشبشسب شسينت شستي شس تشست تشس تيهش ستؤشس ن<div>\n",
      "\n",
      "\n",
      "<div dir ='rtl' style='font-family: KFGQPC Uthman Taha Naskh'>شس يتشخسحتيتسشكت شسينسشكني كسشنك كشسن يكنسشنيخسنش كينسشكنيكسشنسمنكتشمكشتيسةبمتسيمب مكسش سي الم اسيمام ساشي اسي ال سايمرىءاخالمنسءمر ى س السايم ت سيا ل سيالاسك <div>\n",
      "\n",
      "\n",
      "<div dir ='rtl' style='font-family: KFGQPC Uthman Taha Naskh'>تمنتر مسيخهباثسركمسنؤى رمسيتهر اخهثصا قمكرؤءنمرىسىيب خهراثصرامسنتيبرمنتى سيراخقسث ارمتنءى ى سم سم اسيم لامسايرمى مء ىا سيخامك سكما يلماسءرىمكىب كخه<div>\n",
      "\n",
      "\n"
     ]
    }
   ],
   "source": [
    "print(temp)"
   ]
  },
  {
   "cell_type": "markdown",
   "metadata": {},
   "source": [
    "# <div dir ='rtl' style='font-family: KFGQPC Uthman Taha Naskh'>ذهب فلان </div>\n",
    "## <div dir ='rtl' style='font-family: KFGQPC Uthman Taha Naskh'>ذهب فلان</div>\n",
    "<div dir ='rtl' style='font-family: KFGQPC Uthman Taha Naskh'>ذهب فلان<div>\n",
    "\n",
    "<div dir ='rtl' style='font-family: KFGQPC Uthman Taha Naskh'>شسي شسيكك شسين<div>\n",
    "\n",
    "<div dir ='rtl' style='font-family: KFGQPC Uthman Taha Naskh'><div dir ='rtl' style='font-family: KFGQPC Uthman Taha Naskh'>&emsp;    1. شسي شسي سشيش</div><div>\n",
    "\n",
    "<div dir ='rtl' style='font-family: KFGQPC Uthman Taha Naskh'><div dir ='rtl' style='font-family: KFGQPC Uthman Taha Naskh'>&emsp;    2. شسي شسي </div><div>\n",
    "\n",
    "<div dir ='rtl' style='font-family: KFGQPC Uthman Taha Naskh'><div dir ='rtl' style='font-family: KFGQPC Uthman Taha Naskh'>&emsp;    3. شسيصثق شسيثبل شسب ثلسث</div><div>\n",
    "\n",
    "\n",
    "<div dir ='rtl' style='font-family: KFGQPC Uthman Taha Naskh'>سشيشسيشس<div>\n",
    "\n",
    "<div dir ='rtl' style='font-family: KFGQPC Uthman Taha Naskh'><div dir ='rtl' style='font-family: KFGQPC Uthman Taha Naskh'>&emsp;    • شسي</div><div>\n",
    "\n",
    "<div dir ='rtl' style='font-family: KFGQPC Uthman Taha Naskh'><div dir ='rtl' style='font-family: KFGQPC Uthman Taha Naskh'>&emsp;    • شسبل</div><div>\n",
    "\n",
    "\n",
    "<div dir ='rtl' style='font-family: KFGQPC Uthman Taha Naskh'>سشبشسب شسينت شستي شس تشست تشس تيهش ستؤشس ن<div>\n",
    "\n",
    "\n",
    "<div dir ='rtl' style='font-family: KFGQPC Uthman Taha Naskh'>شس يتشخسحتيتسشكت شسينسشكني كسشنك كشسن يكنسشنيخسنش كينسشكنيكسشنسمنكتشمكشتيسةبمتسيمب مكسش سي الم اسيمام ساشي اسي ال سايمرىءاخالمنسءمر ى س السايم ت سيا ل سيالاسك <div>\n",
    "\n",
    "\n",
    "<div dir ='rtl' style='font-family: KFGQPC Uthman Taha Naskh'>تمنتر مسيخهباثسركمسنؤى رمسيتهر اخهثصا قمكرؤءنمرىسىيب خهراثصرامسنتيبرمنتى سيراخقسث ارمتنءى ى سم سم اسيم لامسايرمى مء ىا سيخامك سكما يلماسءرىمكىب كخه<div>"
   ]
  },
  {
   "cell_type": "code",
   "execution_count": null,
   "metadata": {},
   "outputs": [],
   "source": []
  }
 ],
 "metadata": {
  "kernelspec": {
   "display_name": "Python 3",
   "language": "python",
   "name": "python3"
  },
  "language_info": {
   "codemirror_mode": {
    "name": "ipython",
    "version": 3
   },
   "file_extension": ".py",
   "mimetype": "text/x-python",
   "name": "python",
   "nbconvert_exporter": "python",
   "pygments_lexer": "ipython3",
   "version": "3.8.3"
  }
 },
 "nbformat": 4,
 "nbformat_minor": 4
}

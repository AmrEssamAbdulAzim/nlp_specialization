{
 "cells": [
  {
   "cell_type": "markdown",
   "metadata": {},
   "source": [
    "# Preprocessing"
   ]
  },
  {
   "cell_type": "code",
   "execution_count": 1,
   "metadata": {},
   "outputs": [],
   "source": [
    "import sys\n",
    "sys.path.append('/mnt/5e85af0b-fa6b-4dca-a539-449bff7060b4/Courses/NLP/arabic-sentiment-analysis-master/')"
   ]
  },
  {
   "cell_type": "code",
   "execution_count": 2,
   "metadata": {},
   "outputs": [
    {
     "name": "stderr",
     "output_type": "stream",
     "text": [
      "[nltk_data] Downloading package stopwords to /home/amr/nltk_data...\n",
      "[nltk_data]   Package stopwords is already up-to-date!\n"
     ]
    },
    {
     "data": {
      "text/plain": [
       "True"
      ]
     },
     "execution_count": 2,
     "metadata": {},
     "output_type": "execute_result"
    }
   ],
   "source": [
    "import matplotlib.pyplot as plt\n",
    "import farasa\n",
    "import farasa.stemmer as st\n",
    "import re\n",
    "import elements\n",
    "import string\n",
    "import emoji\n",
    "import nltk\n",
    "nltk.download(\"stopwords\")"
   ]
  },
  {
   "cell_type": "code",
   "execution_count": 3,
   "metadata": {},
   "outputs": [],
   "source": [
    "arb_stopwords = set(nltk.corpus.stopwords.words(\"arabic\"))"
   ]
  },
  {
   "cell_type": "code",
   "execution_count": 4,
   "metadata": {},
   "outputs": [],
   "source": [
    "test = '   أحتاج أن أري   الكًَثـــير من الأشيــــاء    @و , '"
   ]
  },
  {
   "cell_type": "code",
   "execution_count": 5,
   "metadata": {},
   "outputs": [],
   "source": [
    "def tashkel_removal(t):\n",
    "    return t.translate(t.maketrans('',\"\",''.join(elements.DIACRITICS)))"
   ]
  },
  {
   "cell_type": "code",
   "execution_count": 6,
   "metadata": {},
   "outputs": [],
   "source": [
    "def tatweel_removal(t):\n",
    "    return re.sub('ـ+', '',t)"
   ]
  },
  {
   "cell_type": "code",
   "execution_count": 7,
   "metadata": {},
   "outputs": [],
   "source": [
    "def normalization(t):\n",
    "    return t.translate(t.maketrans(''.join(elements.ALEF_HAMZA_FORMS+elements.NON_ALIF_HAMZA_FORMS),\"اااوي\"))"
   ]
  },
  {
   "cell_type": "code",
   "execution_count": 8,
   "metadata": {},
   "outputs": [],
   "source": [
    "def stopwords_removal(t,stop=arb_stopwords):\n",
    "    return ' '.join([word for word in t.split() if word not in stop])\n",
    "    "
   ]
  },
  {
   "cell_type": "code",
   "execution_count": 9,
   "metadata": {},
   "outputs": [],
   "source": [
    "def successive_space_removal(t):\n",
    "    t=t.strip()\n",
    "    return re.sub(' +', ' ',t)"
   ]
  },
  {
   "cell_type": "code",
   "execution_count": 10,
   "metadata": {},
   "outputs": [],
   "source": [
    "def punctuation_removal(t):\n",
    "    return t.translate(t.maketrans('',\"\",''.join(elements.PUNCTUATION_MARKS[:-1])+'?'))"
   ]
  },
  {
   "cell_type": "code",
   "execution_count": 11,
   "metadata": {},
   "outputs": [],
   "source": [
    "def emojify(t):\n",
    "    return emoji.demojize(t)"
   ]
  },
  {
   "cell_type": "markdown",
   "metadata": {},
   "source": [
    "### Stemmers"
   ]
  },
  {
   "cell_type": "code",
   "execution_count": 12,
   "metadata": {},
   "outputs": [],
   "source": [
    "def stemmer(t, stemming_function):\n",
    "    return stemming_function(t)"
   ]
  },
  {
   "cell_type": "markdown",
   "metadata": {},
   "source": [
    "##### Farasa"
   ]
  },
  {
   "cell_type": "code",
   "execution_count": 13,
   "metadata": {},
   "outputs": [],
   "source": [
    "import farasa.segmenter as sg"
   ]
  },
  {
   "cell_type": "code",
   "execution_count": 14,
   "metadata": {},
   "outputs": [],
   "source": [
    "farasa_st = farasa.stemmer.FarasaStemmer()"
   ]
  },
  {
   "cell_type": "markdown",
   "metadata": {},
   "source": [
    "##### Tachafyne"
   ]
  },
  {
   "cell_type": "code",
   "execution_count": 15,
   "metadata": {},
   "outputs": [],
   "source": [
    "import pyarabic.arabrepr\n",
    "arepr = pyarabic.arabrepr.ArabicRepr()\n",
    "repr = arepr.repr\n",
    "from tashaphyne.stemming import ArabicLightStemmer"
   ]
  },
  {
   "cell_type": "code",
   "execution_count": 16,
   "metadata": {},
   "outputs": [],
   "source": [
    "tach_st = ArabicLightStemmer()"
   ]
  },
  {
   "cell_type": "code",
   "execution_count": 17,
   "metadata": {},
   "outputs": [
    {
     "data": {
      "text/plain": [
       "'   أحتاج أن أري   الكثـــير من الأشيــــاء    @و , '"
      ]
     },
     "execution_count": 17,
     "metadata": {},
     "output_type": "execute_result"
    }
   ],
   "source": [
    "tach_st.light_stem(test)"
   ]
  },
  {
   "cell_type": "markdown",
   "metadata": {},
   "source": [
    "##### ASSEM"
   ]
  },
  {
   "cell_type": "code",
   "execution_count": 18,
   "metadata": {},
   "outputs": [],
   "source": [
    "from snowballstemmer import stemmer"
   ]
  },
  {
   "cell_type": "code",
   "execution_count": 19,
   "metadata": {},
   "outputs": [],
   "source": [
    "assem_st = stemmer(\"arabic\")"
   ]
  },
  {
   "cell_type": "code",
   "execution_count": 20,
   "metadata": {},
   "outputs": [
    {
     "data": {
      "text/plain": [
       "'   احتاج ان اري   الكثير من الاشياء    @و , '"
      ]
     },
     "execution_count": 20,
     "metadata": {},
     "output_type": "execute_result"
    }
   ],
   "source": [
    "assem_st.stemWord(test)"
   ]
  },
  {
   "cell_type": "markdown",
   "metadata": {},
   "source": [
    "##### NLTK"
   ]
  },
  {
   "cell_type": "code",
   "execution_count": 21,
   "metadata": {},
   "outputs": [],
   "source": [
    "from nltk.stem.isri import ISRIStemmer"
   ]
  },
  {
   "cell_type": "code",
   "execution_count": 22,
   "metadata": {},
   "outputs": [],
   "source": [
    "nltk_st = ISRIStemmer()"
   ]
  },
  {
   "cell_type": "code",
   "execution_count": 23,
   "metadata": {},
   "outputs": [
    {
     "data": {
      "text/plain": [
       "'   أحتاج أن أري   الكثـــير من الأشيــــاء    @و , '"
      ]
     },
     "execution_count": 23,
     "metadata": {},
     "output_type": "execute_result"
    }
   ],
   "source": [
    "nltk_st.stem(test)"
   ]
  },
  {
   "cell_type": "markdown",
   "metadata": {},
   "source": [
    "##### فاصل"
   ]
  },
  {
   "cell_type": "code",
   "execution_count": 24,
   "metadata": {},
   "outputs": [],
   "source": [
    "prep = [stopwords_removal,tashkel_removal,tatweel_removal,punctuation_removal,\n",
    "        normalization,emojify,successive_space_removal]"
   ]
  },
  {
   "cell_type": "code",
   "execution_count": 25,
   "metadata": {},
   "outputs": [],
   "source": [
    "def process(text,prep=prep):\n",
    "    for i in prep:\n",
    "        text=i(text)\n",
    "    return text"
   ]
  },
  {
   "cell_type": "markdown",
   "metadata": {},
   "source": [
    "## Data "
   ]
  },
  {
   "cell_type": "code",
   "execution_count": 26,
   "metadata": {},
   "outputs": [],
   "source": [
    "import numpy as np\n",
    "import pandas as pd\n",
    "import os\n",
    "import time"
   ]
  },
  {
   "cell_type": "code",
   "execution_count": 34,
   "metadata": {},
   "outputs": [],
   "source": [
    "path = '../arabic-sentiment-analysis-master/arabic_tweets_txt/'"
   ]
  },
  {
   "cell_type": "code",
   "execution_count": 35,
   "metadata": {},
   "outputs": [],
   "source": [
    "files = os.listdir(path)"
   ]
  },
  {
   "cell_type": "code",
   "execution_count": 36,
   "metadata": {},
   "outputs": [],
   "source": [
    "def read(i,files):\n",
    "    return pd.read_csv(f'{path}/{files[i]}',sep='\\t',names=['tweet'])"
   ]
  },
  {
   "cell_type": "code",
   "execution_count": 37,
   "metadata": {},
   "outputs": [],
   "source": [
    "#Data is already separated based on label\n",
    "train_pos,train_neg , val_pos,val_neg= pd.concat([read(1,files),read(2,files)]).values,read(4,files).values,read(3,files).values,read(6,files).values"
   ]
  },
  {
   "cell_type": "markdown",
   "metadata": {},
   "source": [
    "### Stemmer Analysis"
   ]
  },
  {
   "cell_type": "code",
   "execution_count": 56,
   "metadata": {},
   "outputs": [],
   "source": [
    "temp = pd.DataFrame(train_pos,columns=['text']).text"
   ]
  },
  {
   "cell_type": "code",
   "execution_count": 38,
   "metadata": {},
   "outputs": [],
   "source": [
    "stemmers = [farasa_st.stem,tach_st.light_stem,assem_st.stemWord,nltk_st.stem]"
   ]
  },
  {
   "cell_type": "code",
   "execution_count": 58,
   "metadata": {},
   "outputs": [],
   "source": [
    "t_e=[]\n",
    "for i in range(len(stemmers)):\n",
    "    s=time.time()\n",
    "    temp[:5].apply(stemmers[i])\n",
    "    e=time.time()\n",
    "    t_e.append(e-s)"
   ]
  },
  {
   "cell_type": "code",
   "execution_count": 59,
   "metadata": {},
   "outputs": [
    {
     "data": {
      "text/plain": [
       "<BarContainer object of 4 artists>"
      ]
     },
     "execution_count": 59,
     "metadata": {},
     "output_type": "execute_result"
    },
    {
     "data": {
      "image/png": "[encoded data removed]",
      "text/plain": [
       "<Figure size 432x288 with 1 Axes>"
      ]
     },
     "metadata": {
      "needs_background": "light"
     },
     "output_type": "display_data"
    }
   ],
   "source": [
    "plt.bar(['Farasa','Tachafyne','Assem','NLTK'],np.power(t_e,1/8))"
   ]
  },
  {
   "cell_type": "markdown",
   "metadata": {},
   "source": [
    "We will proceed with Assem Segmenter"
   ]
  },
  {
   "cell_type": "markdown",
   "metadata": {},
   "source": [
    "## Data set ratio"
   ]
  },
  {
   "cell_type": "code",
   "execution_count": 30,
   "metadata": {},
   "outputs": [],
   "source": [
    "total= len(train_pos)+len(train_neg)"
   ]
  },
  {
   "cell_type": "code",
   "execution_count": 31,
   "metadata": {},
   "outputs": [
    {
     "data": {
      "image/png": "[encoded data removed]",
      "text/plain": [
       "<Figure size 432x288 with 1 Axes>"
      ]
     },
     "metadata": {},
     "output_type": "display_data"
    }
   ],
   "source": [
    "plt.pie([len(train_pos),len(train_neg)],labels=[f'Positive {len(train_pos)/total}',f'Negative {len(train_neg)/total}']);"
   ]
  },
  {
   "cell_type": "markdown",
   "metadata": {},
   "source": [
    "### Vector Representation\n",
    "Each word is represented in vector if size 3. [1 for bias, word freq in positive dataset, word_freq in negative dataset ] <br> We will compare between multiple arabic stemmers: 1- Farasa 2- Asem 3- Tashaphyne 4-NLTK In terms of speed and final result using both bayes rule and vector space."
   ]
  },
  {
   "cell_type": "code",
   "execution_count": 60,
   "metadata": {},
   "outputs": [],
   "source": [
    "import collections\n",
    "import random"
   ]
  },
  {
   "cell_type": "code",
   "execution_count": 61,
   "metadata": {},
   "outputs": [],
   "source": [
    "train_pos = pd.DataFrame(train_pos,columns=['text']).text.apply(process).apply(nltk_st.stem)\n",
    "train_neg = pd.DataFrame(train_neg,columns=['text']).text.apply(process).apply(nltk_st.stem)"
   ]
  },
  {
   "cell_type": "code",
   "execution_count": 62,
   "metadata": {},
   "outputs": [],
   "source": [
    "#Prepare test datasets\n",
    "test_pos = pd.DataFrame(val_pos,columns=['text']).text.apply(process).apply(nltk_st.stem)\n",
    "test_neg = pd.DataFrame(val_neg,columns=['text']).text.apply(process).apply(nltk_st.stem)"
   ]
  },
  {
   "cell_type": "code",
   "execution_count": 63,
   "metadata": {},
   "outputs": [],
   "source": [
    "raw_pos = ' '.join(train_pos.values)\n",
    "raw_neg = ' '.join(train_neg.values)"
   ]
  },
  {
   "cell_type": "code",
   "execution_count": 64,
   "metadata": {},
   "outputs": [],
   "source": [
    "freq_pos = collections.Counter(raw_pos.split())\n",
    "freq_neg = collections.Counter(raw_neg.split())"
   ]
  },
  {
   "cell_type": "code",
   "execution_count": 65,
   "metadata": {},
   "outputs": [],
   "source": [
    "all_words = list(set(list(freq_pos.keys())+list(freq_neg.keys())))"
   ]
  },
  {
   "cell_type": "code",
   "execution_count": null,
   "metadata": {},
   "outputs": [],
   "source": []
  },
  {
   "cell_type": "code",
   "execution_count": null,
   "metadata": {},
   "outputs": [],
   "source": [
    "a = dict()\n",
    "for i in all_words:\n",
    "    a[i] = abs(freq_pos.get(i,0)-freq_neg.get(i,0))"
   ]
  },
  {
   "cell_type": "code",
   "execution_count": 69,
   "metadata": {},
   "outputs": [],
   "source": [
    "b = dict(sorted(a.items(), key=lambda item: item[1],reverse=True))"
   ]
  },
  {
   "cell_type": "code",
   "execution_count": 87,
   "metadata": {},
   "outputs": [],
   "source": [
    "pos_v=[]\n",
    "neg_v=[]\n",
    "word=[]\n",
    "for i in range(10):\n",
    "    n = random.randint(0,len(all_words))\n",
    "    #word.append(all_words[n])\n",
    "    word.append(list(b.keys())[i])\n",
    "    pos_v.append(freq_pos.get(word[-1],1))\n",
    "    neg_v.append(freq_neg.get(word[-1],1))"
   ]
  },
  {
   "cell_type": "code",
   "execution_count": 88,
   "metadata": {},
   "outputs": [],
   "source": [
    "v = np.array(pos_v) / np.array(neg_v)"
   ]
  },
  {
   "cell_type": "code",
   "execution_count": 89,
   "metadata": {},
   "outputs": [],
   "source": [
    "v = ['red' if i>1 else 'black' for i in v]"
   ]
  },
  {
   "cell_type": "code",
   "execution_count": 90,
   "metadata": {},
   "outputs": [
    {
     "data": {
      "image/png": "[encoded data removed]",
      "text/plain": [
       "<Figure size 1152x576 with 1 Axes>"
      ]
     },
     "metadata": {
      "needs_background": "light"
     },
     "output_type": "display_data"
    }
   ],
   "source": [
    "fig,ax= plt.subplots(figsize=(16,8))\n",
    "plt.xlabel('Positive words frequency', fontsize=16)\n",
    "plt.ylabel('Negative words frequency', fontsize=16)\n",
    "ax.scatter(pos_v,neg_v,c=v)\n",
    "min_limit , max_limit = min(plt.xticks()[0][0],plt.yticks()[0][0]),max(plt.xticks()[0][-1],plt.yticks()[0][-1])\n",
    "ax.plot([min_limit , max_limit],[min_limit , max_limit])\n",
    "for i, txt in enumerate(word):\n",
    "    ax.annotate(txt[::-1], (pos_v[i], neg_v[i]))"
   ]
  },
  {
   "cell_type": "markdown",
   "metadata": {},
   "source": [
    "### Dataset Preparation"
   ]
  },
  {
   "cell_type": "code",
   "execution_count": 350,
   "metadata": {},
   "outputs": [],
   "source": [
    "def prepare_dataset(pos_ds,neg_ds,pos_label=1,neg_label=0):\n",
    "    x = pd.DataFrame(pos_ds)\n",
    "    x['label']=pos_label\n",
    "    y = pd.DataFrame(neg_ds)\n",
    "    y['label']=neg_label\n",
    "    X = np.concatenate([x.values,y.values])\n",
    "    #np.random.shuffle(X)\n",
    "    return X[:,0],X[:,1]"
   ]
  },
  {
   "cell_type": "code",
   "execution_count": 351,
   "metadata": {},
   "outputs": [],
   "source": [
    "X_train,Y_train = prepare_dataset(train_pos,train_neg)\n",
    "X_val,Y_val = prepare_dataset(val_pos,val_neg)"
   ]
  },
  {
   "cell_type": "markdown",
   "metadata": {},
   "source": [
    "## Vector Represenation"
   ]
  },
  {
   "cell_type": "code",
   "execution_count": null,
   "metadata": {},
   "outputs": [],
   "source": [
    "def doc_rep(text,pos_freq,neg_freq):\n",
    "    vec = np.ones(3)\n",
    "    vec[0] = 0.5\n",
    "    for i in text.split():\n",
    "        vec[1] += pos_freq.get(i,1)\n",
    "        vec[2] += neg_freq.get(i,1)\n",
    "    return vec"
   ]
  },
  {
   "cell_type": "code",
   "execution_count": null,
   "metadata": {},
   "outputs": [],
   "source": [
    "doc_rep(X_train[200],freq_pos,freq_neg)"
   ]
  },
  {
   "cell_type": "code",
   "execution_count": null,
   "metadata": {},
   "outputs": [],
   "source": [
    "X = np.zeros((len(X_train),3))\n",
    "for i in range(len(X_train)):\n",
    "    X[i,:] = doc_rep(X_train[i],freq_pos,freq_neg)"
   ]
  },
  {
   "cell_type": "code",
   "execution_count": null,
   "metadata": {},
   "outputs": [],
   "source": [
    "Val = np.zeros((len(X_val),3))\n",
    "for i in range(len(X_val)):\n",
    "    Val[i,:] = doc_rep(X_val[i],freq_pos,freq_neg)"
   ]
  },
  {
   "cell_type": "markdown",
   "metadata": {},
   "source": [
    "## Logistic Regression"
   ]
  },
  {
   "cell_type": "code",
   "execution_count": null,
   "metadata": {},
   "outputs": [],
   "source": [
    "import sklearn"
   ]
  },
  {
   "cell_type": "code",
   "execution_count": null,
   "metadata": {},
   "outputs": [],
   "source": [
    "lr_model = sklearn.linear_model.LogisticRegression()"
   ]
  },
  {
   "cell_type": "code",
   "execution_count": null,
   "metadata": {},
   "outputs": [],
   "source": [
    "lr_model.fit(np.log(X),Y_train.astype('int'))"
   ]
  },
  {
   "cell_type": "code",
   "execution_count": null,
   "metadata": {},
   "outputs": [],
   "source": [
    "lr_model.score(X,Y_train.astype('int'))"
   ]
  },
  {
   "cell_type": "code",
   "execution_count": null,
   "metadata": {},
   "outputs": [],
   "source": [
    "lr_model.score(Val,Y_val.astype('int'))"
   ]
  },
  {
   "cell_type": "code",
   "execution_count": null,
   "metadata": {},
   "outputs": [],
   "source": [
    "lr_model.coef_"
   ]
  },
  {
   "cell_type": "markdown",
   "metadata": {},
   "source": [
    "## Naive Bayes"
   ]
  },
  {
   "cell_type": "code",
   "execution_count": 344,
   "metadata": {},
   "outputs": [],
   "source": [
    "def naive_bayes(X,Y,freq_pos,freq_neg,all_words):\n",
    "    \n",
    "    D = len(Y)\n",
    "    D_pos = len(Y[Y==1])\n",
    "    D_neg = D-D_pos\n",
    "    \n",
    "    log_prior = np.log(D_pos/D) - np.log(D_neg/D)\n",
    "    \n",
    "    V = len(all_words)\n",
    "    N_pos = sum(freq_pos.values())\n",
    "    N_neg = sum(freq_neg.values())\n",
    "    \n",
    "    log = dict()\n",
    "    for c,word in enumerate(all_words):\n",
    "        word_pos = (freq_pos.get(word,0) + 1) / (V+N_pos)\n",
    "        \n",
    "        word_neg = (freq_neg.get(word,0) + 1) / (V+N_neg)\n",
    "        \n",
    "        log[word] = np.log(word_pos)-np.log(word_neg)\n",
    "    return log_prior,log"
   ]
  },
  {
   "cell_type": "code",
   "execution_count": 353,
   "metadata": {},
   "outputs": [],
   "source": [
    "prior,log = naive_bayes(X_train,Y_train,freq_pos,freq_neg,all_words)"
   ]
  },
  {
   "cell_type": "code",
   "execution_count": 368,
   "metadata": {},
   "outputs": [],
   "source": [
    "def nb_tweet(text,log_dict,prior):\n",
    "    res = prior\n",
    "    for word in text.split():\n",
    "        res += log_dict.get(word,0)\n",
    "    return res > 0"
   ]
  },
  {
   "cell_type": "code",
   "execution_count": 369,
   "metadata": {},
   "outputs": [],
   "source": [
    "def nb_ds(X,log_dict,prior):\n",
    "    y_hat = []\n",
    "    for doc in X:\n",
    "        y_hat.append(nb_tweet(doc,log_dict,prior))\n",
    "    return np.array(y_hat)"
   ]
  },
  {
   "cell_type": "code",
   "execution_count": 370,
   "metadata": {},
   "outputs": [],
   "source": [
    "y_hat = nb_ds(X_train,log,prior)"
   ]
  },
  {
   "cell_type": "code",
   "execution_count": 373,
   "metadata": {},
   "outputs": [
    {
     "data": {
      "text/plain": [
       "0.9480102583785481"
      ]
     },
     "execution_count": 373,
     "metadata": {},
     "output_type": "execute_result"
    }
   ],
   "source": [
    "(Y_train == y_hat).sum() / len(Y_train)"
   ]
  },
  {
   "cell_type": "code",
   "execution_count": 375,
   "metadata": {},
   "outputs": [],
   "source": [
    "y_hat = nb_ds(X_val,log,prior)"
   ]
  },
  {
   "cell_type": "code",
   "execution_count": 376,
   "metadata": {},
   "outputs": [
    {
     "data": {
      "text/plain": [
       "0.6298534521831093"
      ]
     },
     "execution_count": 376,
     "metadata": {},
     "output_type": "execute_result"
    }
   ],
   "source": [
    "(Y_val == y_hat).sum() / len(Y_val)"
   ]
  },
  {
   "cell_type": "code",
   "execution_count": null,
   "metadata": {},
   "outputs": [],
   "source": []
  }
 ],
 "metadata": {
  "kernelspec": {
   "display_name": "Python 3",
   "language": "python",
   "name": "python3"
  },
  "language_info": {
   "codemirror_mode": {
    "name": "ipython",
    "version": 3
   },
   "file_extension": ".py",
   "mimetype": "text/x-python",
   "name": "python",
   "nbconvert_exporter": "python",
   "pygments_lexer": "ipython3",
   "version": "3.6.13"
  }
 },
 "nbformat": 4,
 "nbformat_minor": 4
}

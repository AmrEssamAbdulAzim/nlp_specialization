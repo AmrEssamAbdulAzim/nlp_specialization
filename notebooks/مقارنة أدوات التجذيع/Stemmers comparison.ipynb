{
 "cells": [
  {
   "cell_type": "markdown",
   "id": "eae88750",
   "metadata": {},
   "source": [
    "# <div class=title>   مقارنة بين أدوات التجذيع الحاسوبية في اللّغة العربية</div>\n",
    "<div class=warn>في هذه التجربة نقارن بين بعض أدوات التجذيع المستخدمة للّغة العربية.</div>\n",
    "<div class=warn>مبدئياً ما هو التجذيع؟</div>\n",
    "<div class=warn>التجذيع هو عملية إزالة السوابق و اللواحق للحصول علي جذع مشترك بين الكلمات, يعتبر التجذيع وسيلة للحد من عدد الكلمات و الحصول علي الكلمات المتقاربة في حالة البحث. </div>\n",
    "<div class=warn>فمثلا من الطبيعي أنه إذا بحثنا عن كلمة \"الكتابات\" نجد نتائج تشمل \"الكتابة\"</div>\n",
    "\n",
    "<div class=warn>أما عن السوابق فهي الاجزاء التي تتصل لأول الكلمات و ليست جزء أصيل منها, مثل \"ي\" المضارعة في الأفعال, و مثل \"ال\" التعريف. و مثلها اللواحق و هي التي تلحق بالكلمة أي تلتصق بآخرها و ليست أصيلة فيها مثل \"ات\" التأنيث و غيرها.</div>\n",
    "<div class=warn>السوابق و اللّواحق يشار إليهما باللّواصق.</div>\n",
    "\n",
    "<div class=warn>يذكر أيضا, أن هناك لواصق بسيطة و هي التي تتكون من صورة واحدة من اللّواصق مثل في \"الباب\", و هناك لواصق معقّدة تتكون من أكثر من صورة مثل \"بالباب\", فههنا الباء و \"ال\" التعريف.</div>\n",
    "\n",
    "<div class=warn>اعلم أن التجذيع  وظيفة مختلفة عن التجذير و هو الوصول لأصل الكلمة الصرفي.</div>\n",
    "<div class=warn>فكلمة \"الكتابات\" و \"الكتابة\" و \"يكتب\" و \"سيكتب\" كلهم ينتمون <b>لنفس</b> الجذر \"كتب\", لكن تنتمي الكلمتان الأولتان لنفس الجذع \"كتاب\" و الأخرتان للجذع \"كتب\".</div>\n",
    "\n",
    "\n",
    "<div class=warn>في البحث نناقش:</div>\n",
    "<div class=warn> &nbsp; &nbsp; &nbsp; 1. طريقة الاستخدام</div>\n",
    "<div class=warn> &nbsp; &nbsp; &nbsp; 2. الكفاءة</div>\n",
    "<div class=warn> &nbsp; &nbsp; &nbsp; 3. السرعة </div>"
   ]
  },
  {
   "cell_type": "code",
   "execution_count": 1,
   "id": "3ed3db81",
   "metadata": {},
   "outputs": [
    {
     "data": {
      "text/html": [
       "<style>\n",
       "@font-face {\n",
       "    font-family: 'KFGQPC Uthman Taha Naskh';\n",
       "    src: url('./../../style/KFGQPC Uthman Taha Naskh.ttf');} \n",
       "div.warn {\n",
       "   direction : rtl;\n",
       "   font-family: KFGQPC Uthman Taha Naskh;\n",
       "   font-size: 18px;\n",
       "   font-weight: normal;\n",
       "   line-height: 150%;\n",
       "   margin-top : 5px;\n",
       "   margin-bottom : 5px;\n",
       "    }\n",
       "\n",
       "div.title {\n",
       "   direction : rtl;\n",
       "   font-family: KFGQPC Uthman Taha Naskh;\n",
       "   font-size: 28px;\n",
       "   font-weight: bold;\n",
       "    }\n",
       "\n",
       "div.heading {\n",
       "   direction : rtl;\n",
       "   font-family: KFGQPC Uthman Taha Naskh;\n",
       "   font-size: 24px;\n",
       "   font-weight: bold;\n",
       "    }\n",
       "\n",
       "div.sub {\n",
       "   direction : rtl;\n",
       "   font-family: KFGQPC Uthman Taha Naskh;\n",
       "   font-size: 20px;\n",
       "   font-weight: bold;\n",
       "    }\n",
       "\n",
       "div.nano {\n",
       "   color : red;\n",
       "   direction : rtl;\n",
       "   font-weight: bold;\n",
       "    }\n",
       "b{\n",
       "   font-size: 20px;\n",
       "}\n",
       " </style>\n",
       "\n"
      ],
      "text/plain": [
       "<IPython.core.display.HTML object>"
      ]
     },
     "execution_count": 1,
     "metadata": {},
     "output_type": "execute_result"
    }
   ],
   "source": [
    "#style\n",
    "import sys\n",
    "sys.path.append('../../')\n",
    "\n",
    "from style import style\n",
    "style.css('../../style/style.css')"
   ]
  },
  {
   "cell_type": "code",
   "execution_count": 2,
   "id": "5ae0f7d5",
   "metadata": {},
   "outputs": [
    {
     "name": "stderr",
     "output_type": "stream",
     "text": [
      "[nltk_data] Downloading package stopwords to /home/amr/nltk_data...\n",
      "[nltk_data]   Package stopwords is already up-to-date!\n"
     ]
    },
    {
     "data": {
      "text/plain": [
       "True"
      ]
     },
     "execution_count": 2,
     "metadata": {},
     "output_type": "execute_result"
    }
   ],
   "source": [
    "import matplotlib.pyplot as plt\n",
    "import re\n",
    "import elements\n",
    "import string\n",
    "import emoji\n",
    "import nltk\n",
    "nltk.download(\"stopwords\")"
   ]
  },
  {
   "cell_type": "markdown",
   "id": "4a03bfa8",
   "metadata": {},
   "source": [
    "## <div class=heading>   البيانات</div>\n",
    "### <div class=sub>   قراءة البيانات</div>"
   ]
  },
  {
   "cell_type": "markdown",
   "id": "fe318e62",
   "metadata": {},
   "source": [
    "<div class=warn>مصدر الحزمة: https://github.com/motazsaad/arabic-sentiment-analysis</div>"
   ]
  },
  {
   "cell_type": "code",
   "execution_count": 3,
   "id": "ee577b61",
   "metadata": {},
   "outputs": [],
   "source": [
    "import numpy as np\n",
    "import pandas as pd"
   ]
  },
  {
   "cell_type": "code",
   "execution_count": 4,
   "id": "bf271cad",
   "metadata": {},
   "outputs": [],
   "source": [
    "pd.options.display.max_colwidth = 100"
   ]
  },
  {
   "cell_type": "code",
   "execution_count": 7,
   "id": "8ef589f6",
   "metadata": {},
   "outputs": [],
   "source": [
    "path = '../../../arabic-sentiment-analysis-master/arabic_tweets_txt/'"
   ]
  },
  {
   "cell_type": "code",
   "execution_count": 8,
   "id": "82941a77",
   "metadata": {},
   "outputs": [],
   "source": [
    "data = pd.read_csv(f'{path}/positive_tweets_arabic_20181206_1k.txt',sep='\\t',names=['tweet'])"
   ]
  },
  {
   "cell_type": "code",
   "execution_count": 9,
   "id": "61c650eb",
   "metadata": {},
   "outputs": [
    {
     "data": {
      "text/plain": [
       "21428"
      ]
     },
     "execution_count": 9,
     "metadata": {},
     "output_type": "execute_result"
    }
   ],
   "source": [
    "len(data)"
   ]
  },
  {
   "cell_type": "code",
   "execution_count": 7,
   "id": "e8800124",
   "metadata": {},
   "outputs": [
    {
     "data": {
      "text/plain": [
       "'- ما يهمني أستمرار الأشياء للأبد يكفي أني كنت مبسوطه لحظتها لأنه وبك ُ ل عقلانيه مافيه شيء يدوم للأبد ! . 👏 💕'"
      ]
     },
     "execution_count": 7,
     "metadata": {},
     "output_type": "execute_result"
    }
   ],
   "source": [
    "raw_txt = data.iloc[300].tweet\n",
    "raw_txt"
   ]
  },
  {
   "cell_type": "markdown",
   "id": "cd85c1f0",
   "metadata": {},
   "source": [
    "## <div class=heading>   المعالجات القبلية</div>"
   ]
  },
  {
   "cell_type": "markdown",
   "id": "3ed4d76c",
   "metadata": {},
   "source": [
    "\n",
    "<div class=warn>نقوم بتحميل بتحميل مسبعدات الفهرسة من مكتبةNLTK.</div>"
   ]
  },
  {
   "cell_type": "code",
   "execution_count": 8,
   "id": "e0cb1086",
   "metadata": {},
   "outputs": [],
   "source": [
    "arb_stopwords = set(nltk.corpus.stopwords.words(\"arabic\"))"
   ]
  },
  {
   "cell_type": "markdown",
   "id": "2fd9132a",
   "metadata": {},
   "source": [
    "\n",
    "<div class=warn>تقوم الدوالّ التالية بإزالة التشكيل و التطويل و مستبعدات الفهرسة و المسافات المتتالية و المسافات أول الجمل و تحول التفاعلات (إيموجي) لأوصاف مكتوبة.</div>"
   ]
  },
  {
   "cell_type": "code",
   "execution_count": 9,
   "id": "588508ac",
   "metadata": {},
   "outputs": [],
   "source": [
    "def tashkel_removal(t):\n",
    "    return t.translate(t.maketrans('',\"\",''.join(elements.DIACRITICS)))"
   ]
  },
  {
   "cell_type": "code",
   "execution_count": 10,
   "id": "5be7f15c",
   "metadata": {},
   "outputs": [],
   "source": [
    "def tatweel_removal(t):\n",
    "    return re.sub('ـ+', '',t)"
   ]
  },
  {
   "cell_type": "code",
   "execution_count": 11,
   "id": "89b6b763",
   "metadata": {},
   "outputs": [],
   "source": [
    "def normalization(t):\n",
    "    return t.translate(t.maketrans(''.join(elements.ALEF_HAMZA_FORMS+elements.NON_ALIF_HAMZA_FORMS),\"اااوي\"))"
   ]
  },
  {
   "cell_type": "code",
   "execution_count": 12,
   "id": "691784ff",
   "metadata": {},
   "outputs": [],
   "source": [
    "def stopwords_removal(t,stop=arb_stopwords):\n",
    "    return ' '.join([word for word in t.split() if word not in stop])"
   ]
  },
  {
   "cell_type": "code",
   "execution_count": 13,
   "id": "32177059",
   "metadata": {},
   "outputs": [],
   "source": [
    "def successive_space_removal(t):\n",
    "    t=t.strip()\n",
    "    return re.sub(' +', ' ',t)"
   ]
  },
  {
   "cell_type": "code",
   "execution_count": 14,
   "id": "80793dc2",
   "metadata": {},
   "outputs": [],
   "source": [
    "def punctuation_removal(t):\n",
    "    return t.translate(t.maketrans('',\"\",''.join(elements.PUNCTUATION_MARKS[:-1])+'?'))"
   ]
  },
  {
   "cell_type": "code",
   "execution_count": 15,
   "id": "eda6458f",
   "metadata": {},
   "outputs": [],
   "source": [
    "def emojify(t):\n",
    "    return emoji.demojize(t)"
   ]
  },
  {
   "cell_type": "markdown",
   "id": "25203189",
   "metadata": {},
   "source": [
    "<div class=warn>نقوم بترتيب سلسلة الدوالّ للمعالجة القبلية, تغيير الترتيب قد يؤدي إلي نواتج مختلفة.</div>"
   ]
  },
  {
   "cell_type": "code",
   "execution_count": 16,
   "id": "d4491c13",
   "metadata": {},
   "outputs": [],
   "source": [
    "pipeline = [stopwords_removal,tashkel_removal,tatweel_removal,punctuation_removal,\n",
    "        normalization,emojify,successive_space_removal]"
   ]
  },
  {
   "cell_type": "code",
   "execution_count": 17,
   "id": "63b4d261",
   "metadata": {},
   "outputs": [],
   "source": [
    "pipeline_stages = str('stopwords_removal,tashkel_removal,tatweel_removal,punctuation_removal,normalization,emojify,successive_space_removal').split(',')"
   ]
  },
  {
   "cell_type": "markdown",
   "id": "2a9dd692",
   "metadata": {},
   "source": [
    "<div class=warn>نقوم بحفظ النص دون معالجة قبلية</div>"
   ]
  },
  {
   "cell_type": "code",
   "execution_count": 18,
   "id": "c4c1097c",
   "metadata": {},
   "outputs": [],
   "source": [
    "prep_txt = raw_txt"
   ]
  },
  {
   "cell_type": "code",
   "execution_count": 19,
   "id": "ac67d07a",
   "metadata": {},
   "outputs": [
    {
     "data": {
      "text/plain": [
       "'- ما يهمني أستمرار الأشياء للأبد يكفي أني كنت مبسوطه لحظتها لأنه وبك ُ ل عقلانيه مافيه شيء يدوم للأبد ! . 👏 💕'"
      ]
     },
     "execution_count": 19,
     "metadata": {},
     "output_type": "execute_result"
    }
   ],
   "source": [
    "prep_txt"
   ]
  },
  {
   "cell_type": "markdown",
   "id": "9f912cdb",
   "metadata": {},
   "source": [
    "<div class=warn>مراحل التغيير بعد كل دالّة</div>"
   ]
  },
  {
   "cell_type": "code",
   "execution_count": 20,
   "id": "530222f4",
   "metadata": {},
   "outputs": [
    {
     "name": "stdout",
     "output_type": "stream",
     "text": [
      "stopwords_removal --> - يهمني أستمرار الأشياء للأبد يكفي أني كنت مبسوطه لحظتها لأنه وبك ُ ل عقلانيه مافيه شيء يدوم للأبد ! . 👏 💕\n",
      "tashkel_removal --> - يهمني أستمرار الأشياء للأبد يكفي أني كنت مبسوطه لحظتها لأنه وبك  ل عقلانيه مافيه شيء يدوم للأبد ! . 👏 💕\n",
      "tatweel_removal --> - يهمني أستمرار الأشياء للأبد يكفي أني كنت مبسوطه لحظتها لأنه وبك  ل عقلانيه مافيه شيء يدوم للأبد ! . 👏 💕\n",
      "punctuation_removal -->  يهمني أستمرار الأشياء للأبد يكفي أني كنت مبسوطه لحظتها لأنه وبك  ل عقلانيه مافيه شيء يدوم للأبد   👏 💕\n",
      "normalization -->  يهمني استمرار الاشياء للابد يكفي اني كنت مبسوطه لحظتها لانه وبك  ل عقلانيه مافيه شيء يدوم للابد   👏 💕\n",
      "emojify -->  يهمني استمرار الاشياء للابد يكفي اني كنت مبسوطه لحظتها لانه وبك  ل عقلانيه مافيه شيء يدوم للابد   :clapping_hands: :two_hearts:\n",
      "successive_space_removal --> يهمني استمرار الاشياء للابد يكفي اني كنت مبسوطه لحظتها لانه وبك ل عقلانيه مافيه شيء يدوم للابد :clapping_hands: :two_hearts:\n"
     ]
    }
   ],
   "source": [
    "for method,name in zip(pipeline,pipeline_stages):\n",
    "    prep_txt= method(prep_txt)\n",
    "    print(name,'-->',prep_txt)"
   ]
  },
  {
   "cell_type": "markdown",
   "id": "768744b1",
   "metadata": {},
   "source": [
    "<div class=warn>لاحظ أهمية المعالجة القبلية المخصوصة علي حسب طبيعة كل حزمة, فعلي سبيل المثال النصوص من منصة تويتر مختلفة عن النصوص من الكتب مختلفة عن المدونات.</div>"
   ]
  },
  {
   "cell_type": "markdown",
   "id": "901e4aa2",
   "metadata": {},
   "source": [
    "## <div class=heading>   أدوات التجذيع</div>\n",
    "<div class=warn>تجربة مبدئية لكيفية عمل كل أداة تجذيع, مع تقييم لجودة العملية.</div>\n",
    "<div class=warn>تعمل المكتبات علي مستويين علي حسب طبيعة كل أداة, الطريقة الأولي هي التجذيع علي مستوي النص, و الثانية علي مستوي الكلمة في النص.</div>\n",
    "\n",
    "<div class=warn>بالتالي سنقوم باختبار كل مجذّع علي أربعة أحوال:</div>\n",
    "<div class=warn> &nbsp; &nbsp; &nbsp; 1. النص المعالج</div>\n",
    "<div class=warn> &nbsp; &nbsp; &nbsp; 2. النص الغير معالج</div>\n",
    "<div class=warn> &nbsp; &nbsp; &nbsp; 3. النص كاملا</div>\n",
    "<div class=warn> &nbsp; &nbsp; &nbsp; 4. النص كمجموعة كلمات</div>\n",
    "\n",
    "<div class=warn>نستعامل مع أربع مكتبات توفّر خاصية التجذيع.</div>\n",
    "<div class=warn> &nbsp; &nbsp; &nbsp; 1. فراسة</div>\n",
    "<div class=warn> &nbsp; &nbsp; &nbsp; 2. تاشفين</div>\n",
    "<div class=warn> &nbsp; &nbsp; &nbsp; 3. عاصم</div>\n",
    "<div class=warn> &nbsp; &nbsp; &nbsp; 4. nltk</div>\n"
   ]
  },
  {
   "cell_type": "markdown",
   "id": "c630bae1",
   "metadata": {},
   "source": [
    "<div class=warn>الدالّة التالية تقوم بتطبيق الطريقة المرغوبة مع أي أداة تجذيع</div>"
   ]
  },
  {
   "cell_type": "code",
   "execution_count": 21,
   "id": "95da07d4",
   "metadata": {},
   "outputs": [],
   "source": [
    "def stemmer_func(t, f,mode='word'):\n",
    "    '''takes in the text, stemming function and the mode of operation word by word or full text'''\n",
    "    if mode =='word':\n",
    "        return ' '.join([f(w) for w in t.split()])\n",
    "    elif mode == 'text':\n",
    "        return f(t)"
   ]
  },
  {
   "cell_type": "code",
   "execution_count": 22,
   "id": "105ae711",
   "metadata": {},
   "outputs": [
    {
     "data": {
      "text/plain": [
       "'- ما يهمني أستمرار الأشياء للأبد يكفي أني كنت مبسوطه لحظتها لأنه وبك ُ ل عقلانيه مافيه شيء يدوم للأبد ! . 👏 💕'"
      ]
     },
     "execution_count": 22,
     "metadata": {},
     "output_type": "execute_result"
    }
   ],
   "source": [
    "raw_txt"
   ]
  },
  {
   "cell_type": "code",
   "execution_count": 23,
   "id": "41328439",
   "metadata": {},
   "outputs": [
    {
     "data": {
      "text/plain": [
       "'يهمني استمرار الاشياء للابد يكفي اني كنت مبسوطه لحظتها لانه وبك ل عقلانيه مافيه شيء يدوم للابد :clapping_hands: :two_hearts:'"
      ]
     },
     "execution_count": 23,
     "metadata": {},
     "output_type": "execute_result"
    }
   ],
   "source": [
    "prep_txt"
   ]
  },
  {
   "cell_type": "markdown",
   "id": "54abc93b",
   "metadata": {},
   "source": [
    "### <div class=sub>   فراسة </div>"
   ]
  },
  {
   "cell_type": "code",
   "execution_count": 24,
   "id": "3cf445d6",
   "metadata": {},
   "outputs": [],
   "source": [
    "from farasa.stemmer import FarasaStemmer"
   ]
  },
  {
   "cell_type": "code",
   "execution_count": 25,
   "id": "fd039a5b",
   "metadata": {},
   "outputs": [],
   "source": [
    "frasa_stmmer = FarasaStemmer()"
   ]
  },
  {
   "cell_type": "code",
   "execution_count": 26,
   "id": "1342c382",
   "metadata": {},
   "outputs": [
    {
     "data": {
      "text/plain": [
       "'- ما يهمني أستمرار الأشياء للأبد يكفي أني كنت مبسوطه لحظتها لأنه وبك ُ ل عقلانيه مافيه شيء يدوم للأبد ! . 👏 💕'"
      ]
     },
     "execution_count": 26,
     "metadata": {},
     "output_type": "execute_result"
    }
   ],
   "source": [
    "raw_txt"
   ]
  },
  {
   "cell_type": "code",
   "execution_count": 27,
   "id": "786661e6",
   "metadata": {},
   "outputs": [
    {
     "data": {
      "text/plain": [
       "'يهمني استمرار الاشياء للابد يكفي اني كنت مبسوطه لحظتها لانه وبك ل عقلانيه مافيه شيء يدوم للابد :clapping_hands: :two_hearts:'"
      ]
     },
     "execution_count": 27,
     "metadata": {},
     "output_type": "execute_result"
    }
   ],
   "source": [
    "prep_txt"
   ]
  },
  {
   "cell_type": "code",
   "execution_count": 28,
   "id": "1a74bf18",
   "metadata": {},
   "outputs": [
    {
     "data": {
      "text/plain": [
       "'- ما أهم أستمرار شيء أبد كفى أن كان مبسوط لحظة أن ب ل عقلاني مافي شيء دام أبد ! . ? ? ? ?'"
      ]
     },
     "execution_count": 28,
     "metadata": {},
     "output_type": "execute_result"
    }
   ],
   "source": [
    "stemmer_func(raw_txt,frasa_stmmer.stem,mode= 'text')"
   ]
  },
  {
   "cell_type": "code",
   "execution_count": 29,
   "id": "1b12e6e8",
   "metadata": {},
   "outputs": [
    {
     "data": {
      "text/plain": [
       "'أهم استمرار شيء ابد كفى ان كان مبسوط لحظة لان ب ل عقلاني مافي شيء دام ابد :clapping_hands: :two_hearts:'"
      ]
     },
     "execution_count": 29,
     "metadata": {},
     "output_type": "execute_result"
    }
   ],
   "source": [
    "stemmer_func(prep_txt,frasa_stmmer.stem,mode= 'text')"
   ]
  },
  {
   "cell_type": "code",
   "execution_count": 30,
   "id": "76d5af95",
   "metadata": {},
   "outputs": [
    {
     "data": {
      "text/plain": [
       "'- ما أهم أستمرار شيء أبد كفى أن كان مبسوط لحظة أن ب  ل عقلاني مافي شيء دام أبد ! . ? ? ? ?'"
      ]
     },
     "execution_count": 30,
     "metadata": {},
     "output_type": "execute_result"
    }
   ],
   "source": [
    "stemmer_func(raw_txt,frasa_stmmer.stem,mode= 'word')"
   ]
  },
  {
   "cell_type": "code",
   "execution_count": 31,
   "id": "90de0543",
   "metadata": {},
   "outputs": [
    {
     "data": {
      "text/plain": [
       "'أهم استمرار شيء ابد كفى ان كان مبسوط لحظة لان ب ل عقلاني مافي شيء دام ابد :clapping_hands: :two_hearts:'"
      ]
     },
     "execution_count": 31,
     "metadata": {},
     "output_type": "execute_result"
    }
   ],
   "source": [
    "stemmer_func(prep_txt,frasa_stmmer.stem,mode= 'word')"
   ]
  },
  {
   "cell_type": "markdown",
   "id": "ba2711ca",
   "metadata": {},
   "source": [
    "<div class=warn>الملاحظ أن فراسة تعمل علي كلا المستويين, لكن بطيئة علي مستوي الكلمة, فراسة حولت التفاعلات (إيموجي) إلي علامات استفهام و لكن لم تمس النص الأجنبي في حالة النص المُعالج.</div>\n",
    "<div class=warn>و تعتبر جودة التجذيع عالية, فعلي سبيل المثال تحوّلت كلمة \"يهمني\" إلي \"اهم\" و \"يكفي\" إلي \"كفي\" و \"عقلانيه\" إلي \"عقلاني\" و \"يدوم\" إلي \"دام\" و لكن لم تحول \"استمرار\".</div>"
   ]
  },
  {
   "cell_type": "markdown",
   "id": "004a478b",
   "metadata": {},
   "source": [
    "### <div class=sub>   تشافين</div>"
   ]
  },
  {
   "cell_type": "code",
   "execution_count": 32,
   "id": "9ee4c7dd",
   "metadata": {},
   "outputs": [],
   "source": [
    "from tashaphyne.stemming import ArabicLightStemmer"
   ]
  },
  {
   "cell_type": "code",
   "execution_count": 33,
   "id": "be483c06",
   "metadata": {},
   "outputs": [],
   "source": [
    "tach_st = ArabicLightStemmer()"
   ]
  },
  {
   "cell_type": "code",
   "execution_count": 34,
   "id": "673a30e3",
   "metadata": {},
   "outputs": [
    {
     "data": {
      "text/plain": [
       "'- ما يهمني أستمرار الأشياء للأبد يكفي أني كنت مبسوطه لحظتها لأنه وبك ُ ل عقلانيه مافيه شيء يدوم للأبد ! . 👏 💕'"
      ]
     },
     "execution_count": 34,
     "metadata": {},
     "output_type": "execute_result"
    }
   ],
   "source": [
    "raw_txt"
   ]
  },
  {
   "cell_type": "code",
   "execution_count": 35,
   "id": "a5c9091f",
   "metadata": {},
   "outputs": [
    {
     "data": {
      "text/plain": [
       "'يهمني استمرار الاشياء للابد يكفي اني كنت مبسوطه لحظتها لانه وبك ل عقلانيه مافيه شيء يدوم للابد :clapping_hands: :two_hearts:'"
      ]
     },
     "execution_count": 35,
     "metadata": {},
     "output_type": "execute_result"
    }
   ],
   "source": [
    "prep_txt"
   ]
  },
  {
   "cell_type": "code",
   "execution_count": 36,
   "id": "61fb9664",
   "metadata": {},
   "outputs": [
    {
     "data": {
      "text/plain": [
       "'- ما يهمني أستمرار الأشياء للأبد يكفي أني كنت مبسوطه لحظتها لأنه وبك  ل عقلانيه مافيه شيء يدوم للأبد ! . 👏 💕'"
      ]
     },
     "execution_count": 36,
     "metadata": {},
     "output_type": "execute_result"
    }
   ],
   "source": [
    "stemmer_func(raw_txt,tach_st.light_stem,mode= 'text')"
   ]
  },
  {
   "cell_type": "code",
   "execution_count": 37,
   "id": "78c223c3",
   "metadata": {},
   "outputs": [
    {
     "data": {
      "text/plain": [
       "'يهمني استمرار الاشياء للابد يكفي اني كنت مبسوطه لحظتها لانه وبك ل عقلانيه مافيه شيء يدوم للابد :clapping_hands: :two_hearts:'"
      ]
     },
     "execution_count": 37,
     "metadata": {},
     "output_type": "execute_result"
    }
   ],
   "source": [
    "stemmer_func(prep_txt,tach_st.light_stem,mode= 'text')"
   ]
  },
  {
   "cell_type": "code",
   "execution_count": 38,
   "id": "1caec844",
   "metadata": {},
   "outputs": [
    {
     "data": {
      "text/plain": [
       "'- ما هم ستمرار أشياء أبد كفي أن نت مبسوط حظ أن بك  ل عقلان ماف شيء دوم أبد ! . 👏 💕'"
      ]
     },
     "execution_count": 38,
     "metadata": {},
     "output_type": "execute_result"
    }
   ],
   "source": [
    "stemmer_func(raw_txt,tach_st.light_stem,mode= 'word')"
   ]
  },
  {
   "cell_type": "code",
   "execution_count": 39,
   "id": "9896f0ac",
   "metadata": {},
   "outputs": [
    {
     "data": {
      "text/plain": [
       "'هم استمرار اشياء ابد كفي ني نت مبسوط حظ ان بك ل عقلان ماف شيء دوم ابد :clapping_hands: :two_hearts:'"
      ]
     },
     "execution_count": 39,
     "metadata": {},
     "output_type": "execute_result"
    }
   ],
   "source": [
    "stemmer_func(prep_txt,tach_st.light_stem,mode= 'word')"
   ]
  },
  {
   "cell_type": "markdown",
   "id": "287ba9bf",
   "metadata": {},
   "source": [
    "<div class=warn>بالنسبة لتاشفين فتعمل علي مستوي الكلمة, و تعتبر جودتها متوسطة, فكلمة \"يهمني\" تحولت إلي \"هم \"و كلمة \"يكفي\" تحولت إلي \"كفي\" و \"عقلان\" إلي عقلاني\" بينما لم تمس \"استمرار\" و أفسدت كلمة \"لحظة. </div>\n",
    "<div class=warn>يلاحظ أيضاً تستطيع التعمل مع التفاعلات (الإيموجي).</div>"
   ]
  },
  {
   "cell_type": "markdown",
   "id": "d9988f9a",
   "metadata": {},
   "source": [
    "### <div class=sub>   عاصم  </div>\n",
    "<div class=warn>المصدر: https://github.com/assem-ch/arabicstemmer_pythonlibrary</div>"
   ]
  },
  {
   "cell_type": "code",
   "execution_count": 40,
   "id": "4e90b35f",
   "metadata": {},
   "outputs": [],
   "source": [
    "from arabicstemmer import ArabicStemmer\n",
    "assem_st = ArabicStemmer()"
   ]
  },
  {
   "cell_type": "code",
   "execution_count": 41,
   "id": "4ba6f1f0",
   "metadata": {},
   "outputs": [
    {
     "data": {
      "text/plain": [
       "'- ما يهمني استمرار الاشياء للابد يكفي اني كنت مبسوطه لحظتها لانه وبك  ل عقلانيه مافيه شيء يدوم للابد   👏 💕'"
      ]
     },
     "execution_count": 41,
     "metadata": {},
     "output_type": "execute_result"
    }
   ],
   "source": [
    "stemmer_func(raw_txt,assem_st.stemWord,mode= 'text')"
   ]
  },
  {
   "cell_type": "code",
   "execution_count": 42,
   "id": "17ab05a9",
   "metadata": {},
   "outputs": [
    {
     "data": {
      "text/plain": [
       "'- ما يهمني أستمرار الأشياء للأبد يكفي أني كنت مبسوطه لحظتها لأنه وبك ُ ل عقلانيه مافيه شيء يدوم للأبد ! . 👏 💕'"
      ]
     },
     "execution_count": 42,
     "metadata": {},
     "output_type": "execute_result"
    }
   ],
   "source": [
    "raw_txt"
   ]
  },
  {
   "cell_type": "code",
   "execution_count": 43,
   "id": "ad99bde0",
   "metadata": {},
   "outputs": [
    {
     "data": {
      "text/plain": [
       "'يهمني استمرار الاشياء للابد يكفي اني كنت مبسوطه لحظتها لانه وبك ل عقلانيه مافيه شيء يدوم للابد :clapping_hands: :two_hearts:'"
      ]
     },
     "execution_count": 43,
     "metadata": {},
     "output_type": "execute_result"
    }
   ],
   "source": [
    "prep_txt"
   ]
  },
  {
   "cell_type": "code",
   "execution_count": 44,
   "id": "20efeb9e",
   "metadata": {},
   "outputs": [
    {
     "data": {
      "text/plain": [
       "'يهمني استمرار الاشياء للابد يكفي اني كنت مبسوطه لحظتها لانه وبك ل عقلانيه مافيه شيء يدوم للابد clapping_hands two_hearts'"
      ]
     },
     "execution_count": 44,
     "metadata": {},
     "output_type": "execute_result"
    }
   ],
   "source": [
    "stemmer_func(prep_txt,assem_st.stemWord,mode= 'text')"
   ]
  },
  {
   "cell_type": "code",
   "execution_count": 45,
   "id": "492a2d77",
   "metadata": {},
   "outputs": [
    {
     "data": {
      "text/plain": [
       "'- ما يهم استمرار اشياء ابد يكف ان كنت مبسوط لحظ لان وبك  ل عقل ماف شيء يدوم ابد   👏 💕'"
      ]
     },
     "execution_count": 45,
     "metadata": {},
     "output_type": "execute_result"
    }
   ],
   "source": [
    "stemmer_func(raw_txt,assem_st.stemWord,mode= 'word')"
   ]
  },
  {
   "cell_type": "code",
   "execution_count": 46,
   "id": "401c54db",
   "metadata": {},
   "outputs": [
    {
     "data": {
      "text/plain": [
       "'يهم استمرار اشياء ابد يكف ان كنت مبسوط لحظ لان وبك ل عقل ماف شيء يدوم ابد clapping_hands two_hearts'"
      ]
     },
     "execution_count": 46,
     "metadata": {},
     "output_type": "execute_result"
    }
   ],
   "source": [
    "stemmer_func(prep_txt,assem_st.stemWord,mode= 'word')"
   ]
  },
  {
   "cell_type": "markdown",
   "id": "f55adae4",
   "metadata": {},
   "source": [
    "<div class=warn>مكتبة عاصم تعمل علي مستوي الكلمة و أداءها في المثال يعتبر متوسط, ففي \"يهم\" و \"يكف\" أبقي علي الياء الزائدة, و نجح في استخراج كلمة \"مبسوط\" و لم يمس \"استمرار\", و أفسدت كلمات مثل \"لحظة\" </div>"
   ]
  },
  {
   "cell_type": "markdown",
   "id": "0ccba050",
   "metadata": {},
   "source": [
    "### <div class=sub>   NLTK</div>"
   ]
  },
  {
   "cell_type": "code",
   "execution_count": 47,
   "id": "7aecb92c",
   "metadata": {},
   "outputs": [],
   "source": [
    "from nltk.stem.isri import ISRIStemmer"
   ]
  },
  {
   "cell_type": "code",
   "execution_count": 48,
   "id": "1370c30d",
   "metadata": {},
   "outputs": [],
   "source": [
    "nltk_st = ISRIStemmer()"
   ]
  },
  {
   "cell_type": "code",
   "execution_count": 49,
   "id": "5ecddd71",
   "metadata": {},
   "outputs": [
    {
     "data": {
      "text/plain": [
       "'- ما يهمني أستمرار الأشياء للأبد يكفي أني كنت مبسوطه لحظتها لأنه وبك ُ ل عقلانيه مافيه شيء يدوم للأبد ! . 👏 💕'"
      ]
     },
     "execution_count": 49,
     "metadata": {},
     "output_type": "execute_result"
    }
   ],
   "source": [
    "raw_txt"
   ]
  },
  {
   "cell_type": "code",
   "execution_count": 50,
   "id": "7cb68994",
   "metadata": {},
   "outputs": [
    {
     "data": {
      "text/plain": [
       "'يهمني استمرار الاشياء للابد يكفي اني كنت مبسوطه لحظتها لانه وبك ل عقلانيه مافيه شيء يدوم للابد :clapping_hands: :two_hearts:'"
      ]
     },
     "execution_count": 50,
     "metadata": {},
     "output_type": "execute_result"
    }
   ],
   "source": [
    "prep_txt"
   ]
  },
  {
   "cell_type": "code",
   "execution_count": 51,
   "id": "0315d958",
   "metadata": {
    "scrolled": true
   },
   "outputs": [
    {
     "data": {
      "text/plain": [
       "'- ما يهمني أستمرار الأشياء للأبد يكفي أني كنت مبسوطه لحظتها لأنه وبك  ل عقلانيه مافيه شيء يدوم للأبد ! . 👏 💕'"
      ]
     },
     "execution_count": 51,
     "metadata": {},
     "output_type": "execute_result"
    }
   ],
   "source": [
    "stemmer_func(raw_txt,nltk_st.stem,mode= 'text')"
   ]
  },
  {
   "cell_type": "code",
   "execution_count": 52,
   "id": "34c36a6d",
   "metadata": {},
   "outputs": [
    {
     "data": {
      "text/plain": [
       "'يهمني استمرار الاشياء للابد يكفي اني كنت مبسوطه لحظتها لانه وبك ل عقلانيه مافيه شيء يدوم للابد :clapping_hands: :two_hearts:'"
      ]
     },
     "execution_count": 52,
     "metadata": {},
     "output_type": "execute_result"
    }
   ],
   "source": [
    "stemmer_func(prep_txt,nltk_st.stem,mode= 'text')"
   ]
  },
  {
   "cell_type": "code",
   "execution_count": 53,
   "id": "ca60ce7f",
   "metadata": {},
   "outputs": [
    {
     "data": {
      "text/plain": [
       "'- ما يهمني أستمرار الأشياء للأبد يكفي أني كنت مبسوطه لحظتها لأنه وبك ُ ل عقلانيه مافيه شيء يدوم للأبد ! . 👏 💕'"
      ]
     },
     "execution_count": 53,
     "metadata": {},
     "output_type": "execute_result"
    }
   ],
   "source": [
    "raw_txt"
   ]
  },
  {
   "cell_type": "code",
   "execution_count": 54,
   "id": "d78c2d01",
   "metadata": {},
   "outputs": [
    {
     "data": {
      "text/plain": [
       "'يهمني استمرار الاشياء للابد يكفي اني كنت مبسوطه لحظتها لانه وبك ل عقلانيه مافيه شيء يدوم للابد :clapping_hands: :two_hearts:'"
      ]
     },
     "execution_count": 54,
     "metadata": {},
     "output_type": "execute_result"
    }
   ],
   "source": [
    "prep_txt"
   ]
  },
  {
   "cell_type": "code",
   "execution_count": 55,
   "id": "9a0fbb7e",
   "metadata": {},
   "outputs": [
    {
     "data": {
      "text/plain": [
       "'- ما يهم رار شيء ابد يكف اني كنت بسط لحظ لأن وبك  ل عقل افه شيء يدم ابد ! . 👏 💕'"
      ]
     },
     "execution_count": 55,
     "metadata": {},
     "output_type": "execute_result"
    }
   ],
   "source": [
    "stemmer_func(raw_txt,nltk_st.stem,mode= 'word')"
   ]
  },
  {
   "cell_type": "code",
   "execution_count": 56,
   "id": "b5d3f0b0",
   "metadata": {},
   "outputs": [
    {
     "data": {
      "text/plain": [
       "'يهم رار شيء ابد يكف اني كنت بسط لحظ لنه وبك ل عقل افه شيء يدم ابد :clapping_hands: :two_hearts:'"
      ]
     },
     "execution_count": 56,
     "metadata": {},
     "output_type": "execute_result"
    }
   ],
   "source": [
    "stemmer_func(prep_txt,nltk_st.stem,mode= 'word')"
   ]
  },
  {
   "cell_type": "markdown",
   "id": "53dac03d",
   "metadata": {},
   "source": [
    "<div class=warn>أخيراً مكتبة nltk تعمل علي مستوي الكلمة, و تستطيع التعامل مع التفاعلات, و تعتبر الأضعف في التعامل مع المثال.</div>\n",
    "<div class=warn>فمثلاً تحولت \"استمرار\" إلي \"رار\" و \"مبسوط\" إلي \"بسط\" و \"لحظتها\" إلي \"لحظ\" و أبقت الياء الزائدة في \"يدوم\", لكن نجحت في تحويل \"الاشياء\" .</div>"
   ]
  },
  {
   "cell_type": "markdown",
   "id": "f2b90591",
   "metadata": {},
   "source": [
    "## <div class=heading>   اختبار السرعة</div>\n",
    "### <div class=sub>   تحليل الأداء</div>\n",
    "<div class=warn>نقوم هاهنا باختبار سرعة تحليل كل أداة بناءً علي حجم النص نفسه</div>"
   ]
  },
  {
   "cell_type": "code",
   "execution_count": 57,
   "id": "d4329c86",
   "metadata": {},
   "outputs": [],
   "source": [
    "import os\n",
    "import time"
   ]
  },
  {
   "cell_type": "code",
   "execution_count": 58,
   "id": "bbb378e4",
   "metadata": {},
   "outputs": [],
   "source": [
    "from functools import partial"
   ]
  },
  {
   "cell_type": "code",
   "execution_count": 59,
   "id": "fdcc56c9",
   "metadata": {},
   "outputs": [],
   "source": [
    "farasa_partial = partial(stemmer_func,f=frasa_stmmer.stem,mode='text')\n",
    "tach_partial = partial(stemmer_func,f=tach_st.light_stem,mode='word')\n",
    "assem_partial = partial(stemmer_func,f=assem_st.stemWord,mode='word')\n",
    "nltk_partial = partial(stemmer_func,f=nltk_st.stem,mode='word')"
   ]
  },
  {
   "cell_type": "code",
   "execution_count": 60,
   "id": "4447169c",
   "metadata": {},
   "outputs": [],
   "source": [
    "stemmers = [farasa_partial,tach_partial,assem_partial,nltk_partial,]"
   ]
  },
  {
   "cell_type": "code",
   "execution_count": 83,
   "id": "388e7fa7",
   "metadata": {},
   "outputs": [],
   "source": [
    "t_e=[]\n",
    "for i in range(len(stemmers)):\n",
    "    s=time.time()\n",
    "    for txt in data[:50].tweet:\n",
    "        stemmers[i](txt)\n",
    "    e=time.time()\n",
    "    t_e.append(e-s)"
   ]
  },
  {
   "cell_type": "code",
   "execution_count": 87,
   "id": "0e8e86f6",
   "metadata": {},
   "outputs": [
    {
     "data": {
      "text/plain": [
       "<BarContainer object of 4 artists>"
      ]
     },
     "execution_count": 87,
     "metadata": {},
     "output_type": "execute_result"
    },
    {
     "data": {
      "image/png": "[encoded data removed]",
      "text/plain": [
       "<Figure size 432x288 with 1 Axes>"
      ]
     },
     "metadata": {
      "needs_background": "light"
     },
     "output_type": "display_data"
    }
   ],
   "source": [
    "plt.bar(['Farasa','Tachafyne','Assem','NLTK'],np.power(t_e,1/8))"
   ]
  },
  {
   "cell_type": "markdown",
   "id": "320de525",
   "metadata": {},
   "source": [
    "<div class=warn>تنبيه: قمنا بتطبيق عملية حسابية علي النواتج لتوضيح الصورة.</div>\n",
    "<div class=warn>عام الأفضل من حيث السرعة.</div>"
   ]
  },
  {
   "cell_type": "markdown",
   "id": "2c4011e9",
   "metadata": {},
   "source": [
    "<div class=warn>و لكن هذه النصوص تعتبر قصيره كونه مصدرها تغريدات من تويتر, ماذا إذا كنا تعامل مع نصوص طويلة ؟</div>"
   ]
  },
  {
   "cell_type": "code",
   "execution_count": 99,
   "id": "0c3568fc",
   "metadata": {},
   "outputs": [],
   "source": [
    "large_data = ' '.join(list(data[:5000].tweet))"
   ]
  },
  {
   "cell_type": "code",
   "execution_count": 100,
   "id": "e7436c18",
   "metadata": {},
   "outputs": [
    {
     "data": {
      "text/plain": [
       "332267"
      ]
     },
     "execution_count": 100,
     "metadata": {},
     "output_type": "execute_result"
    }
   ],
   "source": [
    "len(large_data)"
   ]
  },
  {
   "cell_type": "code",
   "execution_count": 101,
   "id": "f9afc315",
   "metadata": {},
   "outputs": [
    {
     "data": {
      "text/plain": [
       "'- رافق أولئك الأصدقاء . . الذين يدخلون حب الحيـاة داخل روحك ، من يثبتون لك أنك تستطيع الوقوف في كل مر ّ ة تتعثر ، من يأخذ … باليمين 😌 😌 💕 كفووك الطيب 😍 💕 💕 إذا صادفتك أزمة فليكن قلبك مطمئن بأن الله سيفرج الأزمة ويزيل الكرب لأنه رب العالمين ! ! 🙏 🏻 💕 - محمد الشعراوي كلي ندم اني ما حضرت الملتقى . . 💔 اعتقد انو الملتقى كان كوم وتقديمك الخورافي يا أنس كان كوم تاني 😂 ❤ ️ ننتظر الفلوق ع … س ُ ئل أح َ د الص َ ّ الحين أي شيء ي َ فعل الله بـ ِ ع َ بده إذا أحبه ؟ ق َ ال ي ُ لهمه إستغفار ع ِ ند الت َ ّ قصير أستغفر الله وأتوب … مساء الخيير 💕 مع متجر نون تمتع بارخص الاسعار و أجود المنتجات خصومات حتي % بمتجر نون كما أنه يوفر إليك خصم % قم بنسخ الاكواد : … في زحام من الن ِ عم . . اللهم لك الحمد ولك الشكر 🙏 🏻 💕 تم بحمدالله ختام وحدة الغذاء والانتهاء من جميع الوحدات التعليميه الاساسيه لهذا الترم تمنياتي لجميع الاطفال بالتوفيق في الدا … احلى مسااء ي شييخه 🤤 💕 اخر العنقود سكر معقود 💕 ☺ ك ُ ن ممتنا ً لكل صبآح وأنت بكامل صحتك وعافيتك وبين عائلتك 💕 لا تشكو ألما ً ولا مرضا ً ، دائما ً قل الحمدلله على نعمه ِ '"
      ]
     },
     "execution_count": 101,
     "metadata": {},
     "output_type": "execute_result"
    }
   ],
   "source": [
    "large_data[:1000]"
   ]
  },
  {
   "cell_type": "code",
   "execution_count": 102,
   "id": "d075b56d",
   "metadata": {},
   "outputs": [],
   "source": [
    "t_e=[]\n",
    "for i in range(len(stemmers)):\n",
    "    s=time.time()\n",
    "    stemmers[i](large_data)\n",
    "    e=time.time()\n",
    "    t_e.append(e-s)"
   ]
  },
  {
   "cell_type": "code",
   "execution_count": 103,
   "id": "55d290dc",
   "metadata": {},
   "outputs": [
    {
     "data": {
      "text/plain": [
       "<BarContainer object of 4 artists>"
      ]
     },
     "execution_count": 103,
     "metadata": {},
     "output_type": "execute_result"
    },
    {
     "data": {
      "image/png": "[encoded data removed]",
      "text/plain": [
       "<Figure size 432x288 with 1 Axes>"
      ]
     },
     "metadata": {
      "needs_background": "light"
     },
     "output_type": "display_data"
    }
   ],
   "source": [
    "plt.bar(['Farasa','Tachafyne','Assem','NLTK'],t_e)"
   ]
  },
  {
   "cell_type": "markdown",
   "id": "37916337",
   "metadata": {},
   "source": [
    "<div class=warn>مع زيادة حجم النص الواحد تقاربت السرعات نسبياً, كان أداء nltk أسرع من أداء عاصم, و لم تزل فراسة صاحبة المرتبة الأخيرة من حيص السرعة لكن أداء أفضل بكثير بالنسبة للنصوص الطويلة.</div>"
   ]
  },
  {
   "cell_type": "markdown",
   "id": "55a25358",
   "metadata": {},
   "source": [
    "## <div class=heading>   الاستنتاج</div>\n",
    "<div class=warn>يمكن القول بأن فراسة هي الأداة الأفضل في عملية التجذيع لكن الأبطأ من حيث السرعة, استخدامها أنسب مع الحزم الضخمة المستخدمة التي تشبه حزم ويكيبيديا, بالنسبة لمكتبتي تاشفين و عاصم فأداؤهما متوسط و سرعة الأول أفضل من الثاني لذا يمكن أن نضع عاصم في المرتبة الثانية, و يأتي nltk أخيراً بسبب فساد أكثر من جذع أثناء تجربة الجودة.</div>\n",
    "<div class=warn>بالطبع لا يمكن الحكم النهائي علي جودة الأدوات بهذه التجارب المعدودة,  لكن يمكن أن يحدد كل مستخدم طبيعة الاختبار التي يراها مناسبة للتقييم.</div>"
   ]
  },
  {
   "cell_type": "code",
   "execution_count": null,
   "id": "fb01cc0a",
   "metadata": {},
   "outputs": [],
   "source": []
  }
 ],
 "metadata": {
  "kernelspec": {
   "display_name": "Python 3",
   "language": "python",
   "name": "python3"
  },
  "language_info": {
   "codemirror_mode": {
    "name": "ipython",
    "version": 3
   },
   "file_extension": ".py",
   "mimetype": "text/x-python",
   "name": "python",
   "nbconvert_exporter": "python",
   "pygments_lexer": "ipython3",
   "version": "3.6.13"
  }
 },
 "nbformat": 4,
 "nbformat_minor": 5
}

{
 "cells": [
  {
   "cell_type": "code",
   "execution_count": 1,
   "id": "befc8415",
   "metadata": {},
   "outputs": [
    {
     "name": "stderr",
     "output_type": "stream",
     "text": [
      "/home/amr/anaconda3/envs/torch/lib/python3.6/site-packages/gensim/similarities/__init__.py:15: UserWarning: The gensim.similarities.levenshtein submodule is disabled, because the optional Levenshtein package <https://pypi.org/project/python-Levenshtein/> is unavailable. Install Levenhstein (e.g. `pip install python-Levenshtein`) to suppress this warning.\n",
      "  warnings.warn(msg)\n"
     ]
    }
   ],
   "source": [
    "import torch\n",
    "import pandas as pd\n",
    "import numpy as np\n",
    "import re\n",
    "import gensim\n",
    "import collections\n",
    "import pyarabic.araby as araby\n",
    "from nltk import ngrams"
   ]
  },
  {
   "cell_type": "code",
   "execution_count": 2,
   "id": "4c4e467a",
   "metadata": {},
   "outputs": [],
   "source": [
    "import matplotlib.pyplot as plt\n",
    "from tqdm import tqdm"
   ]
  },
  {
   "cell_type": "markdown",
   "id": "8dbc2bf1",
   "metadata": {},
   "source": [
    "# Data\n",
    "### Helping Functions"
   ]
  },
  {
   "cell_type": "code",
   "execution_count": 3,
   "id": "26537c06",
   "metadata": {},
   "outputs": [],
   "source": [
    "def normalization(t):\n",
    "    t = araby.strip_tashkeel(t)\n",
    "    t = araby.normalize_hamza(t)\n",
    "    t = araby.normalize_alef(t)\n",
    "    t = araby.strip_tatweel(t)\n",
    "    t = araby.normalize_teh(t)\n",
    "    t = re.sub(\"ى\",\"ي\",t)\n",
    "    return t"
   ]
  },
  {
   "cell_type": "markdown",
   "id": "96d96d55",
   "metadata": {},
   "source": [
    "### Data"
   ]
  },
  {
   "cell_type": "code",
   "execution_count": 4,
   "id": "e1b86867",
   "metadata": {},
   "outputs": [],
   "source": [
    "data= np.load('../translation project/AD_NMT-master/LAV-MSA-2-both.pkl',allow_pickle=True)"
   ]
  },
  {
   "cell_type": "code",
   "execution_count": 5,
   "id": "e99a4afd",
   "metadata": {},
   "outputs": [
    {
     "data": {
      "text/plain": [
       "['لا انا بعرف وحدة راحت ع فرنسا و معا شنتا حطت فيها الفرش',\n",
       " 'لا اعرف واحدة ذهبت الى فرنسا و لها غرفة و ضعت فيها الافرشة']"
      ]
     },
     "execution_count": 5,
     "metadata": {},
     "output_type": "execute_result"
    }
   ],
   "source": [
    "data[0] # lav , msa"
   ]
  },
  {
   "cell_type": "code",
   "execution_count": 6,
   "id": "6cddb96d",
   "metadata": {},
   "outputs": [],
   "source": [
    "# extract only msa text\n",
    "msa=[]\n",
    "for i,ex in enumerate(data):\n",
    "    msa_text = normalization(ex[1])\n",
    "    data[i][1] = msa_text\n",
    "    msa.append(msa_text)"
   ]
  },
  {
   "cell_type": "code",
   "execution_count": 7,
   "id": "f9d9822d",
   "metadata": {},
   "outputs": [],
   "source": [
    "msa = ' '.join(msa)"
   ]
  },
  {
   "cell_type": "markdown",
   "id": "b3f95f19",
   "metadata": {},
   "source": [
    "Dictionaries"
   ]
  },
  {
   "cell_type": "code",
   "execution_count": 8,
   "id": "8d3e1370",
   "metadata": {},
   "outputs": [],
   "source": [
    "msa_d=collections.Counter(msa.split())"
   ]
  },
  {
   "cell_type": "code",
   "execution_count": 9,
   "id": "2702c508",
   "metadata": {},
   "outputs": [],
   "source": [
    "min_count = 2"
   ]
  },
  {
   "cell_type": "code",
   "execution_count": 10,
   "id": "dffed24a",
   "metadata": {},
   "outputs": [],
   "source": [
    "idx2msa = np.array([word for word,freq in msa_d.items() if freq > min_count ])"
   ]
  },
  {
   "cell_type": "code",
   "execution_count": 11,
   "id": "08c5478c",
   "metadata": {},
   "outputs": [],
   "source": [
    "msa2idx = {word:i for i,word in enumerate(idx2msa)}"
   ]
  },
  {
   "cell_type": "code",
   "execution_count": 12,
   "id": "8da03fd0",
   "metadata": {},
   "outputs": [],
   "source": [
    "msa_data = [' '.join([i for i in t[1].split() if (msa2idx.get(i,-1) != -1 and t[1] != '')]) for t in data]"
   ]
  },
  {
   "cell_type": "code",
   "execution_count": 13,
   "id": "416310f4",
   "metadata": {},
   "outputs": [],
   "source": [
    "msa_data = [i for i in msa_data if i != '']"
   ]
  },
  {
   "cell_type": "code",
   "execution_count": 14,
   "id": "f26392f8",
   "metadata": {},
   "outputs": [],
   "source": [
    "lengths = [len(i) for i in msa.split()]"
   ]
  },
  {
   "cell_type": "code",
   "execution_count": 15,
   "id": "cde2fa0b",
   "metadata": {},
   "outputs": [
    {
     "data": {
      "text/plain": [
       "(array([4.8950e+03, 1.9324e+04, 0.0000e+00, 2.4495e+04, 0.0000e+00,\n",
       "        2.6011e+04, 2.0113e+04, 0.0000e+00, 1.1975e+04, 0.0000e+00,\n",
       "        6.5210e+03, 1.9170e+03, 0.0000e+00, 4.9600e+02, 0.0000e+00,\n",
       "        2.2600e+02, 6.2000e+01, 0.0000e+00, 1.1000e+01, 5.0000e+00]),\n",
       " array([ 1. ,  1.6,  2.2,  2.8,  3.4,  4. ,  4.6,  5.2,  5.8,  6.4,  7. ,\n",
       "         7.6,  8.2,  8.8,  9.4, 10. , 10.6, 11.2, 11.8, 12.4, 13. ]),\n",
       " <BarContainer object of 20 artists>)"
      ]
     },
     "execution_count": 15,
     "metadata": {},
     "output_type": "execute_result"
    },
    {
     "data": {
      "image/png": "[encoded data removed]",
      "text/plain": [
       "<Figure size 432x288 with 1 Axes>"
      ]
     },
     "metadata": {
      "needs_background": "light"
     },
     "output_type": "display_data"
    }
   ],
   "source": [
    "plt.hist(lengths,bins=20)"
   ]
  },
  {
   "cell_type": "markdown",
   "id": "877d82bd",
   "metadata": {},
   "source": [
    "Load Embeddings"
   ]
  },
  {
   "cell_type": "code",
   "execution_count": 16,
   "id": "7be422c4",
   "metadata": {},
   "outputs": [],
   "source": [
    "t_model = gensim.models.Word2Vec.load('../resources/models/word vectors/word2vec/wiki/full_grams_cbow_100_wiki/full_grams_cbow_100_wiki.mdl')"
   ]
  },
  {
   "cell_type": "code",
   "execution_count": 17,
   "id": "c257a9b7",
   "metadata": {},
   "outputs": [],
   "source": [
    "i2l = list(set(normalization(araby.LETTERS)))\n",
    "i2v = {}\n",
    "for index,letter in enumerate(i2l):\n",
    "    if letter in t_model.wv.index_to_key :\n",
    "        i2v[index] = t_model.wv.get_vector(letter)"
   ]
  },
  {
   "cell_type": "code",
   "execution_count": 18,
   "id": "5d742d1e",
   "metadata": {},
   "outputs": [],
   "source": [
    "i2l.append(' ')#Space\n",
    "i2l.append('s')#eos\n",
    "i2l.append('E')#Empty\n",
    "i2l.append('L')#left pad\n",
    "i2l.append('R')#right pad\n",
    "i2l.append('X')#UNK\n",
    "i2l.append('P')#pad"
   ]
  },
  {
   "cell_type": "code",
   "execution_count": 19,
   "id": "0ba0780e",
   "metadata": {},
   "outputs": [],
   "source": [
    "l2i = {v:i for i,v in enumerate(i2l)}"
   ]
  },
  {
   "cell_type": "code",
   "execution_count": 20,
   "id": "fcf9387f",
   "metadata": {},
   "outputs": [
    {
     "data": {
      "text/plain": [
       "36"
      ]
     },
     "execution_count": 20,
     "metadata": {},
     "output_type": "execute_result"
    }
   ],
   "source": [
    "len(i2l)"
   ]
  },
  {
   "cell_type": "markdown",
   "id": "82f0c783",
   "metadata": {},
   "source": [
    "## ALL in Model"
   ]
  },
  {
   "cell_type": "code",
   "execution_count": 21,
   "id": "437f9807",
   "metadata": {},
   "outputs": [],
   "source": [
    "from torch.utils.data import Dataset,DataLoader"
   ]
  },
  {
   "cell_type": "code",
   "execution_count": 22,
   "id": "c325987f",
   "metadata": {},
   "outputs": [],
   "source": [
    "from torch.nn.utils.rnn import pad_sequence "
   ]
  },
  {
   "cell_type": "code",
   "execution_count": 23,
   "id": "8e7b6c7c",
   "metadata": {},
   "outputs": [],
   "source": [
    "def noise(txt):\n",
    "    sz = 2#int(len(txt)*0.2)\n",
    "    noise_sz = np.random.randint(0,sz if sz>1 else 1,1)\n",
    "    replace_idx = np.random.choice(len(txt),noise_sz,replace=False)\n",
    "    letters_idx = np.random.choice(len(i2l)-3,noise_sz,replace=True)\n",
    "    txt = list(txt)\n",
    "    for rep,let in zip(replace_idx,letters_idx):\n",
    "        txt[rep] = i2l[let]\n",
    "    return ''.join(txt)"
   ]
  },
  {
   "cell_type": "code",
   "execution_count": 97,
   "id": "752c7304",
   "metadata": {},
   "outputs": [],
   "source": [
    "class arrDs(Dataset):\n",
    "    def __init__(self,txt_list,l2i):\n",
    "        self.data = txt_list\n",
    "        self.l2i = l2i\n",
    "    def __len__(self):\n",
    "        return len(self.data)\n",
    "    def __getitem__(self,idx):\n",
    "        X = noise(self.data[idx])\n",
    "        Y = self.data[idx]\n",
    "        \n",
    "        X = torch.tensor([self.l2i.get(i,31) for i in X])\n",
    "        Y = torch.tensor([self.l2i.get(i,31) for i in Y])\n",
    "        #numerilize\n",
    "        return (X,Y)"
   ]
  },
  {
   "cell_type": "code",
   "execution_count": 131,
   "id": "2e981ceb",
   "metadata": {},
   "outputs": [],
   "source": [
    "trn_data, val_data = msa_grams[:int(0.8*len(msa_grams))],msa_grams[int(0.8*len(msa_grams)):]"
   ]
  },
  {
   "cell_type": "code",
   "execution_count": 132,
   "id": "f11696ea",
   "metadata": {},
   "outputs": [],
   "source": [
    "trn_ds,val_ds = arrDs(trn_data,l2i),arrDs(val_data,l2i)"
   ]
  },
  {
   "cell_type": "code",
   "execution_count": 133,
   "id": "49e6821d",
   "metadata": {},
   "outputs": [],
   "source": [
    "def collate_fn(data):\n",
    "    label  = [i for _,i in data]\n",
    "    label = pad_sequence(label,batch_first=True,padding_value=l2i['P'])\n",
    "    data = [i for i,_ in data]\n",
    "    data = pad_sequence(data,batch_first=True,padding_value=l2i['P'])\n",
    "    return data,label"
   ]
  },
  {
   "cell_type": "code",
   "execution_count": 134,
   "id": "5c5a29ed",
   "metadata": {},
   "outputs": [],
   "source": [
    "trn_dl = DataLoader(trn_ds,batch_size=512,collate_fn=collate_fn,drop_last=False,shuffle=True)\n",
    "val_dl = DataLoader(val_ds,batch_size=512,collate_fn=collate_fn,drop_last=False)"
   ]
  },
  {
   "cell_type": "markdown",
   "id": "49a543e5",
   "metadata": {},
   "source": [
    "Model"
   ]
  },
  {
   "cell_type": "code",
   "execution_count": 135,
   "id": "1df76d14",
   "metadata": {},
   "outputs": [],
   "source": [
    "import torch, torch.nn as nn"
   ]
  },
  {
   "cell_type": "code",
   "execution_count": 136,
   "id": "1cd0b7b8",
   "metadata": {},
   "outputs": [],
   "source": [
    "class autocorrect(nn.Module):\n",
    "    def __init__(self,num_emb,vs,hs,bidirectional=True):\n",
    "        super().__init__()\n",
    "        self.emb = nn.Embedding(num_emb,vs)\n",
    "        self.gru = nn.GRU(vs,hs,num_layers=3,bidirectional=bidirectional,batch_first=True,dropout=0.2)\n",
    "        self.lin = nn.Sequential(nn.Linear(2*hs if bidirectional == True else hs,hs),\n",
    "                                 nn.ReLU(),\n",
    "                                 nn.Linear(hs,num_emb))\n",
    "    def forward(self,x):\n",
    "        bs,seq_len=x.shape\n",
    "        x = torch.relu(self.emb(x))\n",
    "        x,_ = self.gru(x)\n",
    "        x = nn.functional.relu(x)\n",
    "        x = self.lin(x)\n",
    "        return torch.log_softmax(x,dim=-1).view(bs*seq_len,-1)"
   ]
  },
  {
   "cell_type": "code",
   "execution_count": 137,
   "id": "c668a248",
   "metadata": {},
   "outputs": [],
   "source": [
    "num_emb = len(i2l)"
   ]
  },
  {
   "cell_type": "code",
   "execution_count": 138,
   "id": "b0acdfa2",
   "metadata": {
    "scrolled": true
   },
   "outputs": [],
   "source": [
    "model = autocorrect(num_emb,100,512).cuda()"
   ]
  },
  {
   "cell_type": "code",
   "execution_count": 139,
   "id": "89cd1bde",
   "metadata": {},
   "outputs": [],
   "source": [
    "#Load available vectors\n",
    "model.emb.weight.requires_grad_(False)\n",
    "for i in i2v.keys():\n",
    "    model.emb.weight[i] = nn.Parameter(torch.from_numpy(i2v[i].copy())).requires_grad_(False)\n",
    "model.emb.weight.requires_grad_(True);"
   ]
  },
  {
   "cell_type": "code",
   "execution_count": 140,
   "id": "509de7c3",
   "metadata": {},
   "outputs": [],
   "source": [
    "opt = torch.optim.Adam(model.parameters(),lr=1e-3)"
   ]
  },
  {
   "cell_type": "code",
   "execution_count": 141,
   "id": "448eb521",
   "metadata": {},
   "outputs": [],
   "source": [
    "loss = nn.CrossEntropyLoss(ignore_index=l2i['P'])"
   ]
  },
  {
   "cell_type": "code",
   "execution_count": 142,
   "id": "397cc787",
   "metadata": {},
   "outputs": [],
   "source": [
    "def train(epoch,model,trn_dl,val_dl,loss_fnc):\n",
    "    model.train()\n",
    "    for i in range(epoch):\n",
    "        model.train()\n",
    "        for batch in tqdm(trn_dl,desc='train'):\n",
    "            opt.zero_grad()\n",
    "            ip,label = batch\n",
    "            op = model(ip.cuda())\n",
    "            trn_l = loss_fnc(op,label.view(-1).cuda())\n",
    "            trn_l.backward()\n",
    "            opt.step()\n",
    "        \n",
    "        with torch.no_grad():\n",
    "            model.eval()\n",
    "            for batch in tqdm(val_dl,desc='validation'):\n",
    "                ip,label = batch\n",
    "                op = model(ip.cuda())\n",
    "                val_loss = loss_fnc(op,label.view(-1).cuda())\n",
    "        print('train_loss ->',trn_l.item() , 'val_loss ->',val_loss.item())"
   ]
  },
  {
   "cell_type": "code",
   "execution_count": 143,
   "id": "2ac02cc9",
   "metadata": {},
   "outputs": [
    {
     "name": "stderr",
     "output_type": "stream",
     "text": [
      "train: 100%|██████████| 770/770 [01:40<00:00,  7.67it/s]\n",
      "validation: 100%|██████████| 193/193 [00:11<00:00, 16.63it/s]\n"
     ]
    },
    {
     "name": "stdout",
     "output_type": "stream",
     "text": [
      "train_loss -> 0.15521708130836487 val_loss -> 0.17286837100982666\n"
     ]
    },
    {
     "name": "stderr",
     "output_type": "stream",
     "text": [
      "train: 100%|██████████| 770/770 [01:40<00:00,  7.66it/s]\n",
      "validation: 100%|██████████| 193/193 [00:11<00:00, 16.51it/s]\n"
     ]
    },
    {
     "name": "stdout",
     "output_type": "stream",
     "text": [
      "train_loss -> 0.10659952461719513 val_loss -> 0.13384029269218445\n"
     ]
    },
    {
     "name": "stderr",
     "output_type": "stream",
     "text": [
      "train: 100%|██████████| 770/770 [01:40<00:00,  7.64it/s]\n",
      "validation: 100%|██████████| 193/193 [00:11<00:00, 16.70it/s]\n"
     ]
    },
    {
     "name": "stdout",
     "output_type": "stream",
     "text": [
      "train_loss -> 0.13054075837135315 val_loss -> 0.12543432414531708\n"
     ]
    },
    {
     "name": "stderr",
     "output_type": "stream",
     "text": [
      "train: 100%|██████████| 770/770 [01:40<00:00,  7.68it/s]\n",
      "validation: 100%|██████████| 193/193 [00:11<00:00, 16.46it/s]"
     ]
    },
    {
     "name": "stdout",
     "output_type": "stream",
     "text": [
      "train_loss -> 0.13228930532932281 val_loss -> 0.10668586194515228\n"
     ]
    },
    {
     "name": "stderr",
     "output_type": "stream",
     "text": [
      "\n"
     ]
    }
   ],
   "source": [
    "train(4,model,trn_dl,val_dl,loss)"
   ]
  },
  {
   "cell_type": "markdown",
   "id": "bcb400b6",
   "metadata": {},
   "source": [
    "# Seq to Seq"
   ]
  },
  {
   "cell_type": "code",
   "execution_count": 23,
   "id": "96c5c897",
   "metadata": {},
   "outputs": [],
   "source": [
    "from torch.utils.data import Dataset,DataLoader\n",
    "import tqdm\n",
    "import random"
   ]
  },
  {
   "cell_type": "code",
   "execution_count": 24,
   "id": "0fe0a0ef",
   "metadata": {},
   "outputs": [],
   "source": [
    "def get_ngrams(txt,ws=15):\n",
    "    ignore = ws-2\n",
    "    txt = list(txt)\n",
    "    grams = ngrams(txt,ws ,pad_left=True,pad_right=True,left_pad_symbol='L',right_pad_symbol='R')\n",
    "    return list(grams)[ignore:-ignore]"
   ]
  },
  {
   "cell_type": "code",
   "execution_count": 25,
   "id": "ea4a9c87",
   "metadata": {},
   "outputs": [],
   "source": [
    "msa_grams=[]\n",
    "for txt in msa_data:\n",
    "    ng = get_ngrams(txt)\n",
    "    if ng:\n",
    "        msa_grams.extend(ng)"
   ]
  },
  {
   "cell_type": "code",
   "execution_count": 26,
   "id": "1bda3d7d",
   "metadata": {},
   "outputs": [],
   "source": [
    "def noise(txt):\n",
    "    sz = int(len(txt)*0.2)\n",
    "    noise_sz = np.random.randint(0,sz if sz>1 else 1,1)\n",
    "    replace_idx = np.random.choice(len(txt),noise_sz,replace=False)\n",
    "    letters_idx = np.random.choice(len(i2l)-3,noise_sz,replace=True)\n",
    "    txt = list(txt)\n",
    "    for rep,let in zip(replace_idx,letters_idx):\n",
    "        txt[rep] = i2l[let]\n",
    "    return ''.join(txt)"
   ]
  },
  {
   "cell_type": "code",
   "execution_count": 27,
   "id": "cab6969e",
   "metadata": {},
   "outputs": [],
   "source": [
    "class arrDs(Dataset):\n",
    "    def __init__(self,txt_list,l2i):\n",
    "        self.data = txt_list\n",
    "        self.l2i = l2i\n",
    "    def __len__(self):\n",
    "        return len(self.data)\n",
    "    def __getitem__(self,idx):\n",
    "        #X = noise(self.data[idx])\n",
    "        X = noise(self.data[idx])\n",
    "        Y = self.data[idx]\n",
    "        \n",
    "        X = torch.tensor([self.l2i.get(i,31) for i in X])\n",
    "        Y = torch.tensor([self.l2i.get(i,31) for i in Y])\n",
    "        #numerilize\n",
    "        return torch.stack([X,Y])"
   ]
  },
  {
   "cell_type": "code",
   "execution_count": 118,
   "id": "6a83e574",
   "metadata": {},
   "outputs": [],
   "source": [
    "part_msa_grams = msa_grams[:int(len(msa_grams)*0.1)]"
   ]
  },
  {
   "cell_type": "code",
   "execution_count": 120,
   "id": "aced99bb",
   "metadata": {},
   "outputs": [],
   "source": [
    "trn_data, val_data = part_msa_grams[:int(0.8*len(part_msa_grams))],part_msa_grams[int(0.8*len(part_msa_grams)):]"
   ]
  },
  {
   "cell_type": "code",
   "execution_count": 122,
   "id": "a8e43eb0",
   "metadata": {},
   "outputs": [],
   "source": [
    "trn_ds,val_ds = arrDs(trn_data,l2i),arrDs(val_data,l2i)"
   ]
  },
  {
   "cell_type": "code",
   "execution_count": 123,
   "id": "023a3f96",
   "metadata": {},
   "outputs": [],
   "source": [
    "trn_dl = DataLoader(trn_ds,batch_size=256,drop_last=False,shuffle=True)\n",
    "val_dl = DataLoader(val_ds,batch_size=256,drop_last=False,shuffle=True)"
   ]
  },
  {
   "cell_type": "markdown",
   "id": "a71915de",
   "metadata": {},
   "source": [
    "Model"
   ]
  },
  {
   "cell_type": "code",
   "execution_count": 124,
   "id": "0f9b7cb8",
   "metadata": {},
   "outputs": [],
   "source": [
    "import torch, torch.nn as nn"
   ]
  },
  {
   "cell_type": "code",
   "execution_count": 125,
   "id": "f5d20fd0",
   "metadata": {},
   "outputs": [],
   "source": [
    "class AC_ENC(nn.Module):\n",
    "    def __init__(self,num_emb,vs,hs,num_layers=1,dp=0.0,bidirectional=True):\n",
    "        '''Autocorrect encoder\n",
    "        num emb : vocab size\n",
    "        vs: vector size of the embeddings\n",
    "        hs: hidden size of RNNs\n",
    "        num_layers: number of layers\n",
    "        '''\n",
    "        super().__init__()\n",
    "        self.hs = hs\n",
    "        self.emb = nn.Embedding(num_emb,vs)\n",
    "        self.enc_gru = nn.GRU(vs,hs,num_layers=num_layers,dropout=dp,\n",
    "                              bidirectional=bidirectional,batch_first=True)\n",
    "    def forward(self,x):\n",
    "        bs,seq_len=x.shape\n",
    "        x = self.emb(x)\n",
    "        x = self.enc_gru(x)\n",
    "        return x"
   ]
  },
  {
   "cell_type": "code",
   "execution_count": 126,
   "id": "b6e789e3",
   "metadata": {},
   "outputs": [],
   "source": [
    "a = next(iter(trn_dl))"
   ]
  },
  {
   "cell_type": "code",
   "execution_count": 127,
   "id": "313f041a",
   "metadata": {},
   "outputs": [],
   "source": [
    "enc = AC_ENC(36,10,32,bidirectional=True,num_layers=4)"
   ]
  },
  {
   "cell_type": "code",
   "execution_count": 128,
   "id": "1509aba1",
   "metadata": {},
   "outputs": [],
   "source": [
    "enc_op,enc_hidden = enc(a[:,0,:])"
   ]
  },
  {
   "cell_type": "code",
   "execution_count": 129,
   "id": "2b388cc8",
   "metadata": {},
   "outputs": [],
   "source": [
    "class AC_DEC(nn.Module):\n",
    "    def __init__(self,num_emb,vs,hs,num_layers=1,dp=0.0,bidirectional=False):\n",
    "        super().__init__()\n",
    "        self.num_emb = num_emb\n",
    "        self.emb = nn.Embedding(num_emb,vs)\n",
    "        self.dec_gru = nn.GRU(vs,hs,num_layers=num_layers,dropout=dp,\n",
    "                              bidirectional=False,batch_first=True)\n",
    "        self.unifier = nn.Sequential(nn.Linear(num_layers*(2 if bidirectional==True else 1),num_layers),\n",
    "                                nn.ReLU()) \n",
    "        self.lin = nn.Sequential(nn.Linear(hs,num_emb),\n",
    "                                nn.LogSoftmax(dim=-1))\n",
    "    def forward(self,hidden,label=None):\n",
    "        _,bs,hs=hidden.shape\n",
    "        op_list=[]\n",
    "        op_list_prob = []\n",
    "        hidden = self.unifier(hidden.permute(2,1,0)).permute(2,1,0).contiguous()\n",
    "        inp = torch.tensor(l2i['L']).repeat(bs,1).cuda()\n",
    "        for i in range(15):\n",
    "            op = self.emb(inp)\n",
    "            op,hidden = self.dec_gru(op,hidden)\n",
    "            word_prob = self.lin(hidden)\n",
    "            \n",
    "            inp = torch.argmax(word_prob,dim=-1)[0].unsqueeze(-1)\n",
    "            hidden = hidden.detach() \n",
    "            op_list_prob.append(word_prob)\n",
    "            op_list.append(inp.detach())\n",
    "        \n",
    "        prob = torch.stack(op_list_prob,dim=1)[-1:].permute(2,0,1,3)#4,15,256,36\n",
    "        seq = torch.stack(op_list).squeeze(-1).T\n",
    "        return prob,seq"
   ]
  },
  {
   "cell_type": "code",
   "execution_count": 130,
   "id": "99698d54",
   "metadata": {},
   "outputs": [],
   "source": [
    "dec = AC_DEC(36,10,32,bidirectional=True,num_layers=4).cuda()"
   ]
  },
  {
   "cell_type": "code",
   "execution_count": 131,
   "id": "2fc05189",
   "metadata": {},
   "outputs": [],
   "source": [
    "l = dec(enc_hidden.cuda())"
   ]
  },
  {
   "cell_type": "code",
   "execution_count": 132,
   "id": "45ce444c",
   "metadata": {},
   "outputs": [],
   "source": [
    "class AC(nn.Module):\n",
    "    def __init__(self,num_emb,vs,hs,num_layers=1,dp=0.0,bidirectional=False):\n",
    "        super().__init__()\n",
    "        self.enc = AC_ENC(num_emb,vs,hs,num_layers=num_layers,dp=dp,bidirectional=bidirectional).cuda()\n",
    "        self.dec = AC_DEC(num_emb,vs,hs,num_layers=num_layers,dp=dp,bidirectional=bidirectional).cuda()\n",
    "    def forward(self,x):\n",
    "        enc_op,enc_hidden = self.enc(x)\n",
    "        dec_prob,dec_seq = self.dec(enc_hidden)\n",
    "        return dec_prob.contiguous().view(-1,num_emb),dec_seq"
   ]
  },
  {
   "cell_type": "code",
   "execution_count": 133,
   "id": "ca13cc0b",
   "metadata": {},
   "outputs": [],
   "source": [
    "num_emb = len(i2l)"
   ]
  },
  {
   "cell_type": "code",
   "execution_count": 134,
   "id": "c0a38049",
   "metadata": {
    "scrolled": true
   },
   "outputs": [],
   "source": [
    "model = AC(num_emb,100,512,bidirectional=True,num_layers=3).cuda()"
   ]
  },
  {
   "cell_type": "code",
   "execution_count": 135,
   "id": "bbfa8e42",
   "metadata": {},
   "outputs": [],
   "source": [
    "opt = torch.optim.Adam(model.parameters(),lr=1e-2)"
   ]
  },
  {
   "cell_type": "code",
   "execution_count": 136,
   "id": "0a82c469",
   "metadata": {},
   "outputs": [],
   "source": [
    "loss = nn.CrossEntropyLoss(ignore_index=l2i['P'])"
   ]
  },
  {
   "cell_type": "code",
   "execution_count": 137,
   "id": "d9a239a0",
   "metadata": {},
   "outputs": [],
   "source": [
    "def train(epoch,model,trn_dl,val_dl,loss_fnc):\n",
    "    model.train()\n",
    "    for i in range(epoch):\n",
    "        model.train()\n",
    "        for batch in tqdm.tqdm(trn_dl,'train'):\n",
    "            opt.zero_grad()\n",
    "            ip,label = batch[:,0,:],batch[:,1,:]\n",
    "            op = model(ip.cuda())[0]\n",
    "            trn_l = loss_fnc(op,label.contiguous().view(-1).cuda())\n",
    "            trn_l.backward()\n",
    "            opt.step()\n",
    "        with torch.no_grad():\n",
    "            model.eval()\n",
    "            for batch in tqdm.tqdm(val_dl,'validation'):\n",
    "                ip,label = batch[:,0,:],batch[:,1,:]\n",
    "                op = model(ip.cuda())[0]\n",
    "                val_loss = loss_fnc(op,label.contiguous().view(-1).cuda())\n",
    "        print('train_loss ->',trn_l.item() , 'val_loss ->',val_loss.item())"
   ]
  },
  {
   "cell_type": "code",
   "execution_count": null,
   "id": "2dbb3907",
   "metadata": {},
   "outputs": [
    {
     "name": "stderr",
     "output_type": "stream",
     "text": [
      "train: 100%|██████████| 249/249 [00:28<00:00,  8.62it/s]\n",
      "validation: 100%|██████████| 63/63 [00:02<00:00, 21.30it/s]\n"
     ]
    },
    {
     "name": "stdout",
     "output_type": "stream",
     "text": [
      "train_loss -> 2.598670482635498 val_loss -> 2.6516973972320557\n"
     ]
    },
    {
     "name": "stderr",
     "output_type": "stream",
     "text": [
      "train: 100%|██████████| 249/249 [00:29<00:00,  8.44it/s]\n",
      "validation: 100%|██████████| 63/63 [00:02<00:00, 21.39it/s]\n"
     ]
    },
    {
     "name": "stdout",
     "output_type": "stream",
     "text": [
      "train_loss -> 2.5689516067504883 val_loss -> 2.4596939086914062\n"
     ]
    },
    {
     "name": "stderr",
     "output_type": "stream",
     "text": [
      "train: 100%|██████████| 249/249 [00:30<00:00,  8.23it/s]\n",
      "validation: 100%|██████████| 63/63 [00:03<00:00, 20.88it/s]\n"
     ]
    },
    {
     "name": "stdout",
     "output_type": "stream",
     "text": [
      "train_loss -> 2.629530906677246 val_loss -> 2.6862759590148926\n"
     ]
    },
    {
     "name": "stderr",
     "output_type": "stream",
     "text": [
      "train: 100%|██████████| 249/249 [00:29<00:00,  8.48it/s]\n",
      "validation: 100%|██████████| 63/63 [00:02<00:00, 21.55it/s]\n"
     ]
    },
    {
     "name": "stdout",
     "output_type": "stream",
     "text": [
      "train_loss -> 2.5109002590179443 val_loss -> 2.5972723960876465\n"
     ]
    },
    {
     "name": "stderr",
     "output_type": "stream",
     "text": [
      "train:  76%|███████▋  | 190/249 [00:22<00:07,  8.43it/s]"
     ]
    }
   ],
   "source": [
    "train(10,model,trn_dl,val_dl,loss)"
   ]
  },
  {
   "cell_type": "code",
   "execution_count": null,
   "id": "95f79e53",
   "metadata": {},
   "outputs": [],
   "source": [
    "a = next(iter(val_dl))"
   ]
  },
  {
   "cell_type": "code",
   "execution_count": 106,
   "id": "02dc30f5",
   "metadata": {},
   "outputs": [],
   "source": [
    "tgt = a[:,1,:].cuda()"
   ]
  },
  {
   "cell_type": "code",
   "execution_count": 107,
   "id": "0b0c5572",
   "metadata": {},
   "outputs": [],
   "source": [
    "op = model(a[:,0,:].cuda())"
   ]
  },
  {
   "cell_type": "code",
   "execution_count": 108,
   "id": "235054e3",
   "metadata": {},
   "outputs": [],
   "source": [
    "c=0\n",
    "for i,tensor in enumerate(op[1]):\n",
    "    if (tensor==tgt[i]).sum()/len(tensor) == 1:\n",
    "        c+=1"
   ]
  },
  {
   "cell_type": "code",
   "execution_count": null,
   "id": "90f6ed91",
   "metadata": {},
   "outputs": [],
   "source": []
  }
 ],
 "metadata": {
  "kernelspec": {
   "display_name": "Python 3",
   "language": "python",
   "name": "python3"
  },
  "language_info": {
   "codemirror_mode": {
    "name": "ipython",
    "version": 3
   },
   "file_extension": ".py",
   "mimetype": "text/x-python",
   "name": "python",
   "nbconvert_exporter": "python",
   "pygments_lexer": "ipython3",
   "version": "3.6.13"
  }
 },
 "nbformat": 4,
 "nbformat_minor": 5
}

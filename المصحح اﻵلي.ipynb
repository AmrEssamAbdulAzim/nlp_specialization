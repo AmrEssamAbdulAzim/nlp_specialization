{
 "cells": [
  {
   "cell_type": "code",
   "execution_count": 7,
   "id": "58c26980",
   "metadata": {},
   "outputs": [],
   "source": [
    "import torch\n",
    "import pandas as pd\n",
    "import numpy as np\n",
    "import re\n",
    "import gensim\n",
    "import collections\n",
    "import pyarabic.araby as araby"
   ]
  },
  {
   "cell_type": "markdown",
   "id": "bd66ddec",
   "metadata": {},
   "source": [
    "# Data\n",
    "### Helping Functions"
   ]
  },
  {
   "cell_type": "code",
   "execution_count": 30,
   "id": "c2830b6e",
   "metadata": {},
   "outputs": [],
   "source": [
    "def normalization(t):\n",
    "    t = araby.strip_tashkeel(t)\n",
    "    t = araby.normalize_hamza(t)\n",
    "    t = araby.normalize_alef(t)\n",
    "    t = araby.strip_tatweel(t)\n",
    "    t = araby.normalize_teh(t)\n",
    "    t = re.sub(\"ى\",\"ي\",t)\n",
    "    return t"
   ]
  },
  {
   "cell_type": "markdown",
   "id": "f4648ab6",
   "metadata": {},
   "source": [
    "### Data"
   ]
  },
  {
   "cell_type": "code",
   "execution_count": 31,
   "id": "ad1bff63",
   "metadata": {},
   "outputs": [],
   "source": [
    "data= np.load('../translation project/AD_NMT-master/LAV-MSA-2-both.pkl',allow_pickle=True)"
   ]
  },
  {
   "cell_type": "code",
   "execution_count": 32,
   "id": "40c6c699",
   "metadata": {},
   "outputs": [
    {
     "data": {
      "text/plain": [
       "['لا انا بعرف وحدة راحت ع فرنسا و معا شنتا حطت فيها الفرش',\n",
       " 'لا اعرف واحدة ذهبت الى فرنسا و لها غرفة و ضعت فيها الافرشة']"
      ]
     },
     "execution_count": 32,
     "metadata": {},
     "output_type": "execute_result"
    }
   ],
   "source": [
    "data[0] # lav , msa"
   ]
  },
  {
   "cell_type": "code",
   "execution_count": 33,
   "id": "d2325e6e",
   "metadata": {},
   "outputs": [],
   "source": [
    "# extract only msa text\n",
    "msa=[]\n",
    "for i,ex in enumerate(data):\n",
    "    msa_text = normalization(ex[1])\n",
    "    data[i][1] = msa_text\n",
    "    msa.append(msa_text)"
   ]
  },
  {
   "cell_type": "code",
   "execution_count": 34,
   "id": "4a93c1fe",
   "metadata": {},
   "outputs": [],
   "source": [
    "msa = ' '.join(msa)"
   ]
  },
  {
   "cell_type": "markdown",
   "id": "7ccb9b2e",
   "metadata": {},
   "source": [
    "Dictionaries"
   ]
  },
  {
   "cell_type": "code",
   "execution_count": 35,
   "id": "85f0b564",
   "metadata": {},
   "outputs": [],
   "source": [
    "msa_d=collections.Counter(msa.split())"
   ]
  },
  {
   "cell_type": "code",
   "execution_count": 36,
   "id": "5cd9b5cf",
   "metadata": {},
   "outputs": [],
   "source": [
    "min_count = 2"
   ]
  },
  {
   "cell_type": "code",
   "execution_count": 37,
   "id": "ef7c5b91",
   "metadata": {},
   "outputs": [],
   "source": [
    "idx2msa = np.array([word for word,freq in msa_d.items() if freq > min_count ])"
   ]
  },
  {
   "cell_type": "code",
   "execution_count": 38,
   "id": "28f48369",
   "metadata": {},
   "outputs": [],
   "source": [
    "msa2idx = {word:i for i,word in enumerate(idx2msa)}"
   ]
  },
  {
   "cell_type": "code",
   "execution_count": 39,
   "id": "0e7b71e8",
   "metadata": {},
   "outputs": [],
   "source": [
    "msa_data = [' '.join([i for i in t[1].split() if (msa2idx.get(i,-1) != -1 and t[1] != '')]) for t in data]"
   ]
  },
  {
   "cell_type": "code",
   "execution_count": 40,
   "id": "4fa4acd7",
   "metadata": {},
   "outputs": [],
   "source": [
    "msa_data = [i.replace('','') for i in msa_data if i != '']"
   ]
  },
  {
   "cell_type": "markdown",
   "id": "66cfdecf",
   "metadata": {},
   "source": [
    "Load Embeddings"
   ]
  },
  {
   "cell_type": "code",
   "execution_count": 41,
   "id": "d1029c83",
   "metadata": {},
   "outputs": [],
   "source": [
    "t_model = gensim.models.Word2Vec.load('../resources/models/word vectors/word2vec/wiki/full_grams_cbow_100_wiki/full_grams_cbow_100_wiki.mdl')"
   ]
  },
  {
   "cell_type": "code",
   "execution_count": 88,
   "id": "28d6d865",
   "metadata": {},
   "outputs": [],
   "source": [
    "i2l = list(set(normalization(araby.LETTERS)))\n",
    "i2v = {}\n",
    "for letter in i2l:\n",
    "    if letter in t_model.wv.index_to_key :\n",
    "        i2v[i] = t_model.wv.get_vector(letter)"
   ]
  },
  {
   "cell_type": "code",
   "execution_count": 89,
   "id": "3c0694af",
   "metadata": {},
   "outputs": [],
   "source": [
    "i2l.append(' ')\n",
    "i2l.append('')\n",
    "i2l.append('X')"
   ]
  },
  {
   "cell_type": "code",
   "execution_count": 90,
   "id": "ef9d2c51",
   "metadata": {},
   "outputs": [],
   "source": [
    "l2i = {v:i for i,v in enumerate(i2l)}"
   ]
  },
  {
   "cell_type": "markdown",
   "id": "4904d2f5",
   "metadata": {},
   "source": [
    "Deep Learning"
   ]
  },
  {
   "cell_type": "code",
   "execution_count": 91,
   "id": "e861bc30",
   "metadata": {},
   "outputs": [],
   "source": [
    "from torch.utils.data import Dataset,DataLoader"
   ]
  },
  {
   "cell_type": "code",
   "execution_count": 92,
   "id": "a013086b",
   "metadata": {},
   "outputs": [],
   "source": [
    "from torch.nn.utils.rnn import pad_sequence "
   ]
  },
  {
   "cell_type": "code",
   "execution_count": 170,
   "id": "8a37ad18",
   "metadata": {},
   "outputs": [],
   "source": [
    "def noise(txt):\n",
    "    noise_sz = np.random.randint(0,len(txt),1)\n",
    "    replace_idx = np.random.choice(len(txt),noise_sz,replace=False)\n",
    "    letters_idx = np.random.choice(len(i2l),noise_sz,replace=True)\n",
    "    txt = list(txt)\n",
    "    for rep,let in zip(replace_idx,letters_idx):\n",
    "        txt[rep] = i2l[let]\n",
    "    return ''.join(txt)"
   ]
  },
  {
   "cell_type": "code",
   "execution_count": 171,
   "id": "e87cbcf2",
   "metadata": {},
   "outputs": [],
   "source": [
    "class arrDs(Dataset):\n",
    "    def __init__(self,txt_list,l2i):\n",
    "        self.data = txt_list\n",
    "        self.l2i = l2i\n",
    "    def __len__(self):\n",
    "        return len(self.data)\n",
    "    def __getitem__(self,idx):\n",
    "        X = noise(self.data[idx])\n",
    "        Y = self.data[idx]\n",
    "        \n",
    "        X = torch.tensor([self.l2i.get(i,31) for i in X])\n",
    "        Y = torch.tensor([self.l2i.get(i,31) for i in Y])\n",
    "        #numerilize\n",
    "        return (X,Y)"
   ]
  },
  {
   "cell_type": "code",
   "execution_count": 172,
   "id": "436a140d",
   "metadata": {},
   "outputs": [],
   "source": [
    "ds = arrDs(msa_data,l2i)"
   ]
  },
  {
   "cell_type": "code",
   "execution_count": 173,
   "id": "d7c2b36a",
   "metadata": {},
   "outputs": [
    {
     "data": {
      "text/plain": [
       "(tensor([23, 11,  8,  8, 19, 11,  8, 19,  8,  6,  5, 18, 24, 22, 24, 31,  8, 22,\n",
       "         22, 17,  3, 29,  5, 20,  5,  7, 14,  9, 17, 25,  6,  4, 26, 27, 20,  4,\n",
       "         17, 22, 22, 17, 28, 29, 27,  8, 26]),\n",
       " tensor([23, 19, 29, 19, 28,  0, 21, 29, 13, 19, 26,  6, 17, 29, 24, 17, 12, 22,\n",
       "         29, 19, 23, 19, 29, 21,  0,  5,  9, 19, 29, 13, 29, 23, 17, 19, 29, 16,\n",
       "          0, 21, 17, 29, 13, 29, 21,  2, 17, 19]))"
      ]
     },
     "execution_count": 173,
     "metadata": {},
     "output_type": "execute_result"
    }
   ],
   "source": [
    "ds[0]"
   ]
  },
  {
   "cell_type": "code",
   "execution_count": 174,
   "id": "f81ea6e6",
   "metadata": {},
   "outputs": [],
   "source": [
    "class catcher:\n",
    "    def __init__(self):\n",
    "        self.catch=None"
   ]
  },
  {
   "cell_type": "code",
   "execution_count": 175,
   "id": "ddc881d3",
   "metadata": {},
   "outputs": [],
   "source": [
    "catch = catcher()"
   ]
  },
  {
   "cell_type": "code",
   "execution_count": 176,
   "id": "4dda7660",
   "metadata": {},
   "outputs": [],
   "source": [
    "def collate_fn(data):\n",
    "    label  = [i for _,i in data]\n",
    "    data = [i for i,_ in data]\n",
    "    #data = [torch.tensor(i).clone().detach() for i in data]\n",
    "    print(len(data),len(data[0]))\n",
    "    data = pad_sequence(data,batch_first=True)\n",
    "    print('shape',data.shape)\n",
    "    return data"
   ]
  },
  {
   "cell_type": "code",
   "execution_count": 177,
   "id": "09f0bc42",
   "metadata": {},
   "outputs": [],
   "source": [
    "dl = DataLoader(ds,batch_size=4,collate_fn=collate_fn)"
   ]
  },
  {
   "cell_type": "markdown",
   "id": "a0abb8f5",
   "metadata": {},
   "source": [
    "Model"
   ]
  },
  {
   "cell_type": "code",
   "execution_count": 179,
   "id": "d34c2fa5",
   "metadata": {},
   "outputs": [],
   "source": [
    "import torch, torch.nn as nn"
   ]
  },
  {
   "cell_type": "code",
   "execution_count": 191,
   "id": "c6906af2",
   "metadata": {},
   "outputs": [],
   "source": [
    "class autocorrect(nn.Module):\n",
    "    def __init__(self,num_emb,vs,hs):\n",
    "        super().__init__()\n",
    "        self.emb = nn.Embedding(num_emb,vs)\n",
    "        self.gru = nn.GRU(vs,hs,num_layers=2,bidirectional=True,batch_first=True)\n",
    "        self.lin = nn.Linear(hs,num_emb)\n",
    "        self.seq = nn.Sequential(self.emb,\n",
    "                                 self.gru,\n",
    "                                 nn.ReLU(),\n",
    "                                 self.lin,\n",
    "                                 nn.Softmax())\n",
    "    def forward(self,x):\n",
    "        return self.seq(x)"
   ]
  },
  {
   "cell_type": "code",
   "execution_count": 192,
   "id": "af211677",
   "metadata": {},
   "outputs": [],
   "source": [
    "num_emb = len(l2i)"
   ]
  },
  {
   "cell_type": "code",
   "execution_count": 194,
   "id": "d189c309",
   "metadata": {},
   "outputs": [],
   "source": [
    "model = autocorrect(num_emb,100,128)"
   ]
  },
  {
   "cell_type": "code",
   "execution_count": 200,
   "id": "c306d6c6",
   "metadata": {},
   "outputs": [],
   "source": [
    "for i in model.emb.parameters():\n",
    "    i = torch.zeros_like(i)"
   ]
  },
  {
   "cell_type": "code",
   "execution_count": 202,
   "id": "5e36c028",
   "metadata": {},
   "outputs": [],
   "source": [
    "?model.emb.from_pretrained"
   ]
  },
  {
   "cell_type": "code",
   "execution_count": 201,
   "id": "95ff3372",
   "metadata": {},
   "outputs": [
    {
     "name": "stdout",
     "output_type": "stream",
     "text": [
      "Parameter containing:\n",
      "tensor([[-1.7467, -1.1606, -1.1070,  ...,  0.4234, -0.6524,  1.8570],\n",
      "        [ 1.6554,  1.5280, -1.9122,  ...,  1.0085,  0.1442, -0.7672],\n",
      "        [-0.7371,  0.0341, -0.5613,  ...,  0.2370,  1.6372, -1.5546],\n",
      "        ...,\n",
      "        [ 0.0218, -0.4320,  0.4238,  ..., -0.6130,  0.2996, -0.5980],\n",
      "        [ 0.0895, -1.0804,  1.4918,  ...,  1.1884, -1.3827, -1.2079],\n",
      "        [ 0.9144,  1.5032,  0.5403,  ...,  0.0819, -1.2501, -1.5617]],\n",
      "       requires_grad=True)\n"
     ]
    }
   ],
   "source": [
    "for i in model.emb.parameters():\n",
    "    print(i)"
   ]
  },
  {
   "cell_type": "code",
   "execution_count": null,
   "id": "e7ee148e",
   "metadata": {},
   "outputs": [],
   "source": []
  },
  {
   "cell_type": "code",
   "execution_count": null,
   "id": "0b8fd9cd",
   "metadata": {},
   "outputs": [],
   "source": []
  },
  {
   "cell_type": "code",
   "execution_count": null,
   "id": "28faded1",
   "metadata": {},
   "outputs": [],
   "source": []
  },
  {
   "cell_type": "code",
   "execution_count": null,
   "id": "8b83842f",
   "metadata": {},
   "outputs": [],
   "source": []
  },
  {
   "cell_type": "code",
   "execution_count": null,
   "id": "dde7153a",
   "metadata": {},
   "outputs": [],
   "source": []
  },
  {
   "cell_type": "code",
   "execution_count": null,
   "id": "c376f071",
   "metadata": {},
   "outputs": [],
   "source": []
  },
  {
   "cell_type": "code",
   "execution_count": null,
   "id": "67ef4640",
   "metadata": {},
   "outputs": [],
   "source": []
  },
  {
   "cell_type": "code",
   "execution_count": null,
   "id": "bd5d1d0b",
   "metadata": {},
   "outputs": [],
   "source": []
  },
  {
   "cell_type": "code",
   "execution_count": null,
   "id": "fe43765b",
   "metadata": {},
   "outputs": [],
   "source": []
  },
  {
   "cell_type": "code",
   "execution_count": null,
   "id": "05f8941c",
   "metadata": {},
   "outputs": [],
   "source": []
  }
 ],
 "metadata": {
  "kernelspec": {
   "display_name": "Python 3",
   "language": "python",
   "name": "python3"
  },
  "language_info": {
   "codemirror_mode": {
    "name": "ipython",
    "version": 3
   },
   "file_extension": ".py",
   "mimetype": "text/x-python",
   "name": "python",
   "nbconvert_exporter": "python",
   "pygments_lexer": "ipython3",
   "version": "3.6.13"
  }
 },
 "nbformat": 4,
 "nbformat_minor": 5
}

{
 "cells": [
  {
   "cell_type": "markdown",
   "id": "68ab00c7",
   "metadata": {},
   "source": [
    "# المعالجات القبلية\n",
    "في هذه التجربة نقارن بين بعض أدوات التجذيع المستخدمة للغة العربية.\n",
    "نناقش:\n",
    "1- طريقة الاستخدام\n",
    "2- السرعة\n",
    "3- الكفاءة"
   ]
  },
  {
   "cell_type": "code",
   "execution_count": 1,
   "id": "b2b1b43a",
   "metadata": {},
   "outputs": [],
   "source": [
    "import sys\n",
    "sys.path.append('/mnt/5e85af0b-fa6b-4dca-a539-449bff7060b4/Courses/NLP/resources/other/arabic-sentiment-analysis-master/')"
   ]
  },
  {
   "cell_type": "code",
   "execution_count": 95,
   "id": "6436d5df",
   "metadata": {},
   "outputs": [
    {
     "name": "stderr",
     "output_type": "stream",
     "text": [
      "[nltk_data] Downloading package stopwords to /home/amr/nltk_data...\n",
      "[nltk_data]   Package stopwords is already up-to-date!\n"
     ]
    },
    {
     "data": {
      "text/plain": [
       "True"
      ]
     },
     "execution_count": 95,
     "metadata": {},
     "output_type": "execute_result"
    }
   ],
   "source": [
    "from farasa.segmenter import FarasaSegmenter\n",
    "from farasa.stemmer import FarasaStemmer\n",
    "import re\n",
    "import elements\n",
    "import string\n",
    "import emoji\n",
    "import nltk\n",
    "nltk.download(\"stopwords\")"
   ]
  },
  {
   "cell_type": "markdown",
   "id": "94a3f45a",
   "metadata": {},
   "source": [
    "نقوم بتحميل بتحميل مسبعدات الفهرسة من مكتبة NLTK."
   ]
  },
  {
   "cell_type": "code",
   "execution_count": 96,
   "id": "26ef91ba",
   "metadata": {},
   "outputs": [],
   "source": [
    "arb_stopwords = set(nltk.corpus.stopwords.words(\"arabic\"))"
   ]
  },
  {
   "cell_type": "code",
   "execution_count": 120,
   "id": "0d55a972",
   "metadata": {},
   "outputs": [],
   "source": [
    "txt = '   أحتاج أن أري   الكًَثـــير. من الأشيــــاء    @و , '"
   ]
  },
  {
   "cell_type": "markdown",
   "id": "df1dd0c5",
   "metadata": {},
   "source": [
    "تقوم الدوالّ التالية بإزالة التشكيل و التطويل و مستبعدات الفهرسة و المسافات المتتالية و المسافات أول الجمل و تحول التفاعلات (emoji) لأوصاف مكتوبة"
   ]
  },
  {
   "cell_type": "code",
   "execution_count": 121,
   "id": "0aef6214",
   "metadata": {},
   "outputs": [],
   "source": [
    "def tashkel_removal(t):\n",
    "    return t.translate(t.maketrans('',\"\",''.join(elements.DIACRITICS)))"
   ]
  },
  {
   "cell_type": "code",
   "execution_count": 122,
   "id": "10994c50",
   "metadata": {},
   "outputs": [],
   "source": [
    "def tatweel_removal(t):\n",
    "    return re.sub('ـ+', '',t)"
   ]
  },
  {
   "cell_type": "code",
   "execution_count": 123,
   "id": "d20af3eb",
   "metadata": {},
   "outputs": [],
   "source": [
    "def normalization(t):\n",
    "    return t.translate(t.maketrans(''.join(elements.ALEF_HAMZA_FORMS+elements.NON_ALIF_HAMZA_FORMS),\"اااوي\"))"
   ]
  },
  {
   "cell_type": "code",
   "execution_count": 124,
   "id": "11a5a4a0",
   "metadata": {},
   "outputs": [],
   "source": [
    "def stopwords_removal(t,stop=arb_stopwords):\n",
    "    return ' '.join([word for word in t.split() if word not in stop])"
   ]
  },
  {
   "cell_type": "code",
   "execution_count": 125,
   "id": "dee826e2",
   "metadata": {},
   "outputs": [],
   "source": [
    "def successive_space_removal(t):\n",
    "    t=t.strip()\n",
    "    return re.sub(' +', ' ',t)"
   ]
  },
  {
   "cell_type": "code",
   "execution_count": 126,
   "id": "8530d57c",
   "metadata": {},
   "outputs": [],
   "source": [
    "def punctuation_removal(t):\n",
    "    return t.translate(t.maketrans('',\"\",''.join(elements.PUNCTUATION_MARKS[:-1])+'?'))"
   ]
  },
  {
   "cell_type": "code",
   "execution_count": 127,
   "id": "58ba18a9",
   "metadata": {},
   "outputs": [],
   "source": [
    "def emojify(t):\n",
    "    return emoji.demojize(t)"
   ]
  },
  {
   "cell_type": "markdown",
   "id": "78051831",
   "metadata": {},
   "source": [
    "اختبار\n",
    "يمكن استبدا ل معظم الدوال, بدوال من مكتبة pyarabic."
   ]
  },
  {
   "cell_type": "code",
   "execution_count": 128,
   "id": "58ce1cb6",
   "metadata": {},
   "outputs": [],
   "source": [
    "pipeline = [stopwords_removal,tashkel_removal,tatweel_removal,punctuation_removal,\n",
    "        normalization,emojify,successive_space_removal]"
   ]
  },
  {
   "cell_type": "code",
   "execution_count": 129,
   "id": "5cc6f0ed",
   "metadata": {},
   "outputs": [],
   "source": [
    "pipeline_stages = str('stopwords_removal,tashkel_removal,tatweel_removal,punctuation_removal,normalization,emojify,successive_space_removal').split(',')"
   ]
  },
  {
   "cell_type": "markdown",
   "id": "94219fdf",
   "metadata": {},
   "source": [
    "هذه الخطة لحفظ النص دون معالجة قبلية"
   ]
  },
  {
   "cell_type": "code",
   "execution_count": 130,
   "id": "57c20d91",
   "metadata": {},
   "outputs": [],
   "source": [
    "import copy\n",
    "src_txt = copy.copy(txt)"
   ]
  },
  {
   "cell_type": "markdown",
   "id": "227cd100",
   "metadata": {},
   "source": [
    "مراحل التغيير بعد كل دالّة\n",
    "يمكن استخدام مكتبات جاهزة لعمل نفس الوظيفة"
   ]
  },
  {
   "cell_type": "code",
   "execution_count": 131,
   "id": "e099c0ba",
   "metadata": {},
   "outputs": [
    {
     "name": "stdout",
     "output_type": "stream",
     "text": [
      "stopwords_removal  -->  أحتاج أري الكًَثـــير. الأشيــــاء @و ,\n",
      "tashkel_removal  -->  أحتاج أري الكثـــير. الأشيــــاء @و ,\n",
      "tatweel_removal  -->  أحتاج أري الكثير. الأشياء @و ,\n",
      "punctuation_removal  -->  أحتاج أري الكثير الأشياء و \n",
      "normalization  -->  احتاج اري الكثير الاشياء و \n",
      "emojify  -->  احتاج اري الكثير الاشياء و \n",
      "successive_space_removal  -->  احتاج اري الكثير الاشياء و\n"
     ]
    }
   ],
   "source": [
    "for method,name in zip(pipeline,pipeline_stages):\n",
    "    txt= method(txt)\n",
    "    print(name,' --> ',txt)"
   ]
  },
  {
   "cell_type": "code",
   "execution_count": 132,
   "id": "df04e4ba",
   "metadata": {},
   "outputs": [
    {
     "data": {
      "text/plain": [
       "'احتاج اري الكثير الاشياء و'"
      ]
     },
     "execution_count": 132,
     "metadata": {},
     "output_type": "execute_result"
    }
   ],
   "source": [
    "txt"
   ]
  },
  {
   "cell_type": "code",
   "execution_count": 133,
   "id": "45d65201",
   "metadata": {},
   "outputs": [
    {
     "data": {
      "text/plain": [
       "'   أحتاج أن أري   الكًَثـــير. من الأشيــــاء    @و , '"
      ]
     },
     "execution_count": 133,
     "metadata": {},
     "output_type": "execute_result"
    }
   ],
   "source": [
    "src_txt"
   ]
  },
  {
   "cell_type": "markdown",
   "id": "cb74aea6",
   "metadata": {},
   "source": [
    "### أدوات التجذيع\n",
    "\n",
    "تجربة مبدئية لكيفية عمل كل أداة تجذيع"
   ]
  },
  {
   "cell_type": "code",
   "execution_count": 134,
   "id": "0f6d1233",
   "metadata": {},
   "outputs": [],
   "source": [
    "def stemmer(t, stemming_function):\n",
    "    return stemming_function(t)"
   ]
  },
  {
   "cell_type": "markdown",
   "id": "a6131ea4",
   "metadata": {},
   "source": [
    "##### فراسة farasa"
   ]
  },
  {
   "cell_type": "code",
   "execution_count": 135,
   "id": "5fb70703",
   "metadata": {},
   "outputs": [],
   "source": [
    "frasa_stmmer = FarasaStemmer()"
   ]
  },
  {
   "cell_type": "code",
   "execution_count": 136,
   "id": "420d1784",
   "metadata": {},
   "outputs": [
    {
     "data": {
      "text/plain": [
       "'احتاج آري كثير شيء و'"
      ]
     },
     "execution_count": 136,
     "metadata": {},
     "output_type": "execute_result"
    }
   ],
   "source": [
    "frasa_stmmer.stem(txt)"
   ]
  },
  {
   "cell_type": "code",
   "execution_count": 137,
   "id": "5b1a1b06",
   "metadata": {},
   "outputs": [
    {
     "data": {
      "text/plain": [
       "'احتاج أن أري كثير . من شيء @و ,'"
      ]
     },
     "execution_count": 137,
     "metadata": {},
     "output_type": "execute_result"
    }
   ],
   "source": [
    "frasa_stmmer.stem(src_txt)"
   ]
  },
  {
   "cell_type": "code",
   "execution_count": 138,
   "id": "42374c93",
   "metadata": {},
   "outputs": [
    {
     "data": {
      "text/plain": [
       "['احتاج', 'آري', 'كثير', 'شيء', 'و']"
      ]
     },
     "execution_count": 138,
     "metadata": {},
     "output_type": "execute_result"
    }
   ],
   "source": [
    "[frasa_stmmer.stem(i) for i in txt.split()]"
   ]
  },
  {
   "cell_type": "code",
   "execution_count": 139,
   "id": "66bd771d",
   "metadata": {},
   "outputs": [
    {
     "data": {
      "text/plain": [
       "['احتاج', 'أن', 'أري', 'كثير .', 'من', 'شيء', '@و', ',']"
      ]
     },
     "execution_count": 139,
     "metadata": {},
     "output_type": "execute_result"
    }
   ],
   "source": [
    "[frasa_stmmer.stem(i) for i in src_txt.split()]"
   ]
  },
  {
   "cell_type": "markdown",
   "id": "0706fd81",
   "metadata": {},
   "source": [
    "يلاحظ أن فراسة أضافت علامة مدّ علي الألف, لذلك ربما تحتاج إعادة عملية حذف التشكيل بعد استخدام فراسة. و لم تحذف أي كلمة من مستبعدات الفهرسة, و أخيراً استطاعت فراسة التعامل مع التطويل كما تعتبر جودة التجذيع متوسطة."
   ]
  },
  {
   "cell_type": "markdown",
   "id": "d3997dca",
   "metadata": {},
   "source": [
    "##### تشافينTachafyne"
   ]
  },
  {
   "cell_type": "code",
   "execution_count": 141,
   "id": "ab8876eb",
   "metadata": {},
   "outputs": [],
   "source": [
    "from tashaphyne.stemming import ArabicLightStemmer"
   ]
  },
  {
   "cell_type": "code",
   "execution_count": 142,
   "id": "d8a0eb3b",
   "metadata": {},
   "outputs": [],
   "source": [
    "tach_st = ArabicLightStemmer()"
   ]
  },
  {
   "cell_type": "code",
   "execution_count": 143,
   "id": "aac31e28",
   "metadata": {},
   "outputs": [
    {
     "data": {
      "text/plain": [
       "'احتاج اري الكثير الاشياء و'"
      ]
     },
     "execution_count": 143,
     "metadata": {},
     "output_type": "execute_result"
    }
   ],
   "source": [
    "#It doesn't work with string sentence\n",
    "tach_st.light_stem(txt)"
   ]
  },
  {
   "cell_type": "code",
   "execution_count": 144,
   "id": "46525454",
   "metadata": {},
   "outputs": [
    {
     "data": {
      "text/plain": [
       "'   أحتاج أن أري   الكثـــير. من الأشيــــاء    @و , '"
      ]
     },
     "execution_count": 144,
     "metadata": {},
     "output_type": "execute_result"
    }
   ],
   "source": [
    "tach_st.light_stem(src_txt)"
   ]
  },
  {
   "cell_type": "code",
   "execution_count": 145,
   "id": "790f5c4a",
   "metadata": {},
   "outputs": [
    {
     "data": {
      "text/plain": [
       "['حتاج', 'ري', 'كثير', 'اشياء', 'و']"
      ]
     },
     "execution_count": 145,
     "metadata": {},
     "output_type": "execute_result"
    }
   ],
   "source": [
    "#Result doesn't look acurate\n",
    "[tach_st.light_stem(i) for i in txt.split()]"
   ]
  },
  {
   "cell_type": "code",
   "execution_count": 146,
   "id": "dd843d82",
   "metadata": {},
   "outputs": [
    {
     "data": {
      "text/plain": [
       "['حتاج', 'أن', 'ري', 'الكثـــير.', 'من', 'الأشيــــاء', '@و', ',']"
      ]
     },
     "execution_count": 146,
     "metadata": {},
     "output_type": "execute_result"
    }
   ],
   "source": [
    "#Result doesn't look acurate\n",
    "[tach_st.light_stem(i) for i in src_txt.split()]"
   ]
  },
  {
   "cell_type": "markdown",
   "id": "39e17148",
   "metadata": {},
   "source": [
    "مكتبة تشافين تعمل علي مستوي الكلمة, و لا تحذف العلامات أو مستبعدات الفهرسة و جودتها تعتبر ضعيفة, حيث أنها تزيل حرف ا في أول الكلمات. "
   ]
  },
  {
   "cell_type": "markdown",
   "id": "29f2d61e",
   "metadata": {},
   "source": [
    "##### عاصم  ASSEM"
   ]
  },
  {
   "cell_type": "code",
   "execution_count": 150,
   "id": "d83e82f7",
   "metadata": {},
   "outputs": [],
   "source": [
    "assem_st = stemmer(\"arabic\")"
   ]
  },
  {
   "cell_type": "code",
   "execution_count": 151,
   "id": "f733b45d",
   "metadata": {},
   "outputs": [
    {
     "data": {
      "text/plain": [
       "'احتاج اري الكثير الاشياء '"
      ]
     },
     "execution_count": 151,
     "metadata": {},
     "output_type": "execute_result"
    }
   ],
   "source": [
    "assem_st.stemWord(txt)"
   ]
  },
  {
   "cell_type": "code",
   "execution_count": 152,
   "id": "3b7bf39e",
   "metadata": {},
   "outputs": [
    {
     "data": {
      "text/plain": [
       "['احتاج', 'ار', 'كثير', 'اشياء', 'و']"
      ]
     },
     "execution_count": 152,
     "metadata": {},
     "output_type": "execute_result"
    }
   ],
   "source": [
    "#Result doesn't look acurate\n",
    "[assem_st.stemWord(i) for i in txt.split()]"
   ]
  },
  {
   "cell_type": "code",
   "execution_count": 50,
   "id": "46fad7ba",
   "metadata": {},
   "outputs": [
    {
     "data": {
      "text/plain": [
       "'   احتاج ان اري   الكثير. من الاشياء    @و , '"
      ]
     },
     "execution_count": 50,
     "metadata": {},
     "output_type": "execute_result"
    }
   ],
   "source": [
    "assem_st.stemWord(src_txt)"
   ]
  },
  {
   "cell_type": "code",
   "execution_count": 49,
   "id": "ae4dccac",
   "metadata": {},
   "outputs": [
    {
     "data": {
      "text/plain": [
       "['احتاج', 'ان', 'ار', 'كثير.', 'من', 'اشياء', '@و', ',']"
      ]
     },
     "execution_count": 49,
     "metadata": {},
     "output_type": "execute_result"
    }
   ],
   "source": [
    "#Result doesn't look acurate\n",
    "[assem_st.stemWord(i) for i in src_txt.split()]"
   ]
  },
  {
   "cell_type": "markdown",
   "id": "5db77302",
   "metadata": {},
   "source": [
    "عاصم أداة تجذيع تعمل علي مستوي الكلمة, و مستواها متوسط, أثناء عملية التجذيع تحذف التشكيل و لا تحذف مستبعدات الفهرسة"
   ]
  },
  {
   "cell_type": "markdown",
   "id": "eda6bb13",
   "metadata": {},
   "source": [
    "##### NLTK"
   ]
  },
  {
   "cell_type": "code",
   "execution_count": 153,
   "id": "605634f3",
   "metadata": {},
   "outputs": [],
   "source": [
    "from nltk.stem.isri import ISRIStemmer"
   ]
  },
  {
   "cell_type": "code",
   "execution_count": 154,
   "id": "372c04bd",
   "metadata": {},
   "outputs": [],
   "source": [
    "nltk_st = ISRIStemmer()"
   ]
  },
  {
   "cell_type": "code",
   "execution_count": 155,
   "id": "ec9991e3",
   "metadata": {},
   "outputs": [
    {
     "data": {
      "text/plain": [
       "'احتاج اري الكثير الاشياء و'"
      ]
     },
     "execution_count": 155,
     "metadata": {},
     "output_type": "execute_result"
    }
   ],
   "source": [
    "nltk_st.stem(txt)"
   ]
  },
  {
   "cell_type": "code",
   "execution_count": 156,
   "id": "5d1ebef0",
   "metadata": {},
   "outputs": [
    {
     "data": {
      "text/plain": [
       "'   أحتاج أن أري   الكثـــير. من الأشيــــاء    @و , '"
      ]
     },
     "execution_count": 156,
     "metadata": {},
     "output_type": "execute_result"
    }
   ],
   "source": [
    "nltk_st.stem(src_txt)"
   ]
  },
  {
   "cell_type": "code",
   "execution_count": 157,
   "id": "ecc11310",
   "metadata": {},
   "outputs": [
    {
     "data": {
      "text/plain": [
       "['حاج', 'اري', 'كثر', 'شيء', 'و']"
      ]
     },
     "execution_count": 157,
     "metadata": {},
     "output_type": "execute_result"
    }
   ],
   "source": [
    "#Result doesn't look acurate\n",
    "[nltk_st.stem(i) for i in txt.split()]"
   ]
  },
  {
   "cell_type": "code",
   "execution_count": 158,
   "id": "dba86d12",
   "metadata": {},
   "outputs": [
    {
     "data": {
      "text/plain": [
       "['حاج', 'ان', 'اري', 'كثـــير.', 'من', 'اشيــــاء', '@و', ',']"
      ]
     },
     "execution_count": 158,
     "metadata": {},
     "output_type": "execute_result"
    }
   ],
   "source": [
    "#Result doesn't look acurate\n",
    "[nltk_st.stem(i) for i in src_txt.split()]"
   ]
  },
  {
   "cell_type": "markdown",
   "id": "06b72b89",
   "metadata": {},
   "source": [
    "بالنسبة ل nltk فهي أيضا تعمل علي مستوي الكلمة, و لا تستطيع التعامل مع التطريل و أداؤها متوسط و تعتبر هي الأجود حيث أنها ردّت أحتاج إلي حاج و هي الأقرب و أشياء إلي شيء و كثير إلي كثر."
   ]
  },
  {
   "cell_type": "markdown",
   "id": "a318d17c",
   "metadata": {},
   "source": [
    "# اختبار السرعة"
   ]
  },
  {
   "cell_type": "code",
   "execution_count": 57,
   "id": "9b4eb069",
   "metadata": {},
   "outputs": [],
   "source": [
    "prep = [stopwords_removal,tashkel_removal,tatweel_removal,punctuation_removal,\n",
    "        normalization,emojify,successive_space_removal]"
   ]
  },
  {
   "cell_type": "code",
   "execution_count": 58,
   "id": "73f19efa",
   "metadata": {},
   "outputs": [],
   "source": [
    "def process(text,prep=prep):\n",
    "    'A method for stemming a corpus, it has 2 methods 1-word by word 2-full_text'\n",
    "    for i in prep:\n",
    "        text=i(text)\n",
    "    return text"
   ]
  },
  {
   "cell_type": "markdown",
   "id": "e5194d33",
   "metadata": {},
   "source": [
    "## Data "
   ]
  },
  {
   "cell_type": "markdown",
   "id": "3e4eda99",
   "metadata": {},
   "source": [
    "قراءة البيانات"
   ]
  },
  {
   "cell_type": "code",
   "execution_count": 159,
   "id": "90683158",
   "metadata": {},
   "outputs": [],
   "source": [
    "import numpy as np\n",
    "import pandas as pd\n",
    "import os\n",
    "import time"
   ]
  },
  {
   "cell_type": "code",
   "execution_count": 164,
   "id": "1602fbd3",
   "metadata": {},
   "outputs": [],
   "source": [
    "path = '../arabic-sentiment-analysis-master/arabic_tweets_txt/'"
   ]
  },
  {
   "cell_type": "code",
   "execution_count": 165,
   "id": "165cff31",
   "metadata": {},
   "outputs": [],
   "source": [
    "files = os.listdir(path)"
   ]
  },
  {
   "cell_type": "code",
   "execution_count": 166,
   "id": "62213c46",
   "metadata": {},
   "outputs": [],
   "source": [
    "def read(i,files):\n",
    "    '''read the data is csv\n",
    "    file:list of file names\n",
    "    i :int index of desired file\n",
    "    '''\n",
    "    return pd.read_csv(f'{path}/{files[i]}',sep='\\t',names=['tweet'])"
   ]
  },
  {
   "cell_type": "markdown",
   "id": "ad70aff8",
   "metadata": {},
   "source": [
    "الحزم موزعة حسب الأهداف"
   ]
  },
  {
   "cell_type": "code",
   "execution_count": 167,
   "id": "094297dd",
   "metadata": {},
   "outputs": [],
   "source": [
    "#Data is already separated based on label\n",
    "train_pos,train_neg , val_pos,val_neg= pd.concat([read(1,files),read(2,files)]).values,read(4,files).values,read(3,files).values,read(6,files).values"
   ]
  },
  {
   "cell_type": "markdown",
   "id": "955023d1",
   "metadata": {},
   "source": [
    "### تحليل الأداء\n",
    "نستخدم جزء فقط من الحزمة"
   ]
  },
  {
   "cell_type": "code",
   "execution_count": 168,
   "id": "55994b22",
   "metadata": {},
   "outputs": [],
   "source": [
    "temp = pd.DataFrame(train_pos,columns=['text']).text"
   ]
  },
  {
   "cell_type": "code",
   "execution_count": 180,
   "id": "32b4ba0f",
   "metadata": {},
   "outputs": [
    {
     "data": {
      "text/plain": [
       "'إذا صادفتك أزمة فليكن قلبك مطمئن بأن الله سيفرج الأزمة ويزيل الكرب لأنه رب العالمين ! ! 🙏 🏻 💕 - محمد الشعراوي'"
      ]
     },
     "execution_count": 180,
     "metadata": {},
     "output_type": "execute_result"
    }
   ],
   "source": [
    "temp.values[3]"
   ]
  },
  {
   "cell_type": "code",
   "execution_count": 169,
   "id": "dc13e724",
   "metadata": {},
   "outputs": [
    {
     "ename": "NameError",
     "evalue": "name 'farasa_st' is not defined",
     "output_type": "error",
     "traceback": [
      "\u001b[0;31m---------------------------------------------------------------------------\u001b[0m",
      "\u001b[0;31mNameError\u001b[0m                                 Traceback (most recent call last)",
      "\u001b[0;32m<ipython-input-169-c317df0461d6>\u001b[0m in \u001b[0;36m<module>\u001b[0;34m\u001b[0m\n\u001b[0;32m----> 1\u001b[0;31m \u001b[0mstemmers\u001b[0m \u001b[0;34m=\u001b[0m \u001b[0;34m[\u001b[0m\u001b[0mfarasa_st\u001b[0m\u001b[0;34m.\u001b[0m\u001b[0mstem\u001b[0m\u001b[0;34m,\u001b[0m\u001b[0mtach_st\u001b[0m\u001b[0;34m.\u001b[0m\u001b[0mlight_stem\u001b[0m\u001b[0;34m,\u001b[0m\u001b[0massem_st\u001b[0m\u001b[0;34m.\u001b[0m\u001b[0mstemWord\u001b[0m\u001b[0;34m,\u001b[0m\u001b[0mnltk_st\u001b[0m\u001b[0;34m.\u001b[0m\u001b[0mstem\u001b[0m\u001b[0;34m]\u001b[0m\u001b[0;34m\u001b[0m\u001b[0;34m\u001b[0m\u001b[0m\n\u001b[0m",
      "\u001b[0;31mNameError\u001b[0m: name 'farasa_st' is not defined"
     ]
    }
   ],
   "source": [
    "stemmers = [farasa_st.stem,tach_st.light_stem,assem_st.stemWord,nltk_st.stem]"
   ]
  },
  {
   "cell_type": "code",
   "execution_count": 58,
   "id": "304f40a0",
   "metadata": {},
   "outputs": [],
   "source": [
    "t_e=[]\n",
    "for i in range(len(stemmers)):\n",
    "    s=time.time()\n",
    "    temp[:5].apply(stemmers[i])\n",
    "    e=time.time()\n",
    "    t_e.append(e-s)"
   ]
  },
  {
   "cell_type": "code",
   "execution_count": 59,
   "id": "04163aa1",
   "metadata": {},
   "outputs": [
    {
     "data": {
      "text/plain": [
       "<BarContainer object of 4 artists>"
      ]
     },
     "execution_count": 59,
     "metadata": {},
     "output_type": "execute_result"
    },
    {
     "data": {
      "image/png": "[encoded data removed]",
      "text/plain": [
       "<Figure size 432x288 with 1 Axes>"
      ]
     },
     "metadata": {
      "needs_background": "light"
     },
     "output_type": "display_data"
    }
   ],
   "source": [
    "plt.bar(['Farasa','Tachafyne','Assem','NLTK'],np.power(t_e,1/8))"
   ]
  }
 ],
 "metadata": {
  "kernelspec": {
   "display_name": "Python 3",
   "language": "python",
   "name": "python3"
  },
  "language_info": {
   "codemirror_mode": {
    "name": "ipython",
    "version": 3
   },
   "file_extension": ".py",
   "mimetype": "text/x-python",
   "name": "python",
   "nbconvert_exporter": "python",
   "pygments_lexer": "ipython3",
   "version": "3.6.13"
  }
 },
 "nbformat": 4,
 "nbformat_minor": 5
}

{
 "cells": [
  {
   "cell_type": "markdown",
   "id": "68ab00c7",
   "metadata": {},
   "source": [
    "# Preprocessing"
   ]
  },
  {
   "cell_type": "code",
   "execution_count": 1,
   "id": "b2b1b43a",
   "metadata": {},
   "outputs": [],
   "source": [
    "import sys\n",
    "sys.path.append('/mnt/5e85af0b-fa6b-4dca-a539-449bff7060b4/Courses/NLP/resources/other/arabic-sentiment-analysis-master/')"
   ]
  },
  {
   "cell_type": "code",
   "execution_count": 2,
   "id": "6436d5df",
   "metadata": {},
   "outputs": [
    {
     "name": "stderr",
     "output_type": "stream",
     "text": [
      "[nltk_data] Downloading package stopwords to /home/amr/nltk_data...\n",
      "[nltk_data]   Package stopwords is already up-to-date!\n"
     ]
    },
    {
     "data": {
      "text/plain": [
       "True"
      ]
     },
     "execution_count": 2,
     "metadata": {},
     "output_type": "execute_result"
    }
   ],
   "source": [
    "import matplotlib.pyplot as plt\n",
    "from farasa.segmenter import FarasaSegmenter\n",
    "from farasa.stemmer import FarasaStemmer\n",
    "import re\n",
    "import elements\n",
    "import string\n",
    "import emoji\n",
    "import nltk\n",
    "nltk.download(\"stopwords\")"
   ]
  },
  {
   "cell_type": "code",
   "execution_count": 3,
   "id": "26ef91ba",
   "metadata": {},
   "outputs": [],
   "source": [
    "arb_stopwords = set(nltk.corpus.stopwords.words(\"arabic\"))"
   ]
  },
  {
   "cell_type": "code",
   "execution_count": 4,
   "id": "0d55a972",
   "metadata": {},
   "outputs": [],
   "source": [
    "test = '   أحتاج أن أري   الكًَثـــير. من الأشيــــاء    @و , '"
   ]
  },
  {
   "cell_type": "code",
   "execution_count": 5,
   "id": "0aef6214",
   "metadata": {},
   "outputs": [],
   "source": [
    "def tashkel_removal(t):\n",
    "    return t.translate(t.maketrans('',\"\",''.join(elements.DIACRITICS)))"
   ]
  },
  {
   "cell_type": "code",
   "execution_count": 6,
   "id": "10994c50",
   "metadata": {},
   "outputs": [],
   "source": [
    "def tatweel_removal(t):\n",
    "    return re.sub('ـ+', '',t)"
   ]
  },
  {
   "cell_type": "code",
   "execution_count": 7,
   "id": "d20af3eb",
   "metadata": {},
   "outputs": [],
   "source": [
    "def normalization(t):\n",
    "    return t.translate(t.maketrans(''.join(elements.ALEF_HAMZA_FORMS+elements.NON_ALIF_HAMZA_FORMS),\"اااوي\"))"
   ]
  },
  {
   "cell_type": "code",
   "execution_count": 8,
   "id": "11a5a4a0",
   "metadata": {},
   "outputs": [],
   "source": [
    "def stopwords_removal(t,stop=arb_stopwords):\n",
    "    return ' '.join([word for word in t.split() if word not in stop])"
   ]
  },
  {
   "cell_type": "code",
   "execution_count": 9,
   "id": "dee826e2",
   "metadata": {},
   "outputs": [],
   "source": [
    "def successive_space_removal(t):\n",
    "    t=t.strip()\n",
    "    return re.sub(' +', ' ',t)"
   ]
  },
  {
   "cell_type": "code",
   "execution_count": 10,
   "id": "8530d57c",
   "metadata": {},
   "outputs": [],
   "source": [
    "def punctuation_removal(t):\n",
    "    return t.translate(t.maketrans('',\"\",''.join(elements.PUNCTUATION_MARKS[:-1])+'?'))"
   ]
  },
  {
   "cell_type": "code",
   "execution_count": 11,
   "id": "58ba18a9",
   "metadata": {},
   "outputs": [],
   "source": [
    "def emojify(t):\n",
    "    return emoji.demojize(t)"
   ]
  },
  {
   "cell_type": "markdown",
   "id": "cb74aea6",
   "metadata": {},
   "source": [
    "### Stemmers"
   ]
  },
  {
   "cell_type": "code",
   "execution_count": 12,
   "id": "0f6d1233",
   "metadata": {},
   "outputs": [],
   "source": [
    "def stemmer(t, stemming_function):\n",
    "    return stemming_function(t)"
   ]
  },
  {
   "cell_type": "markdown",
   "id": "a6131ea4",
   "metadata": {},
   "source": [
    "##### Farasa"
   ]
  },
  {
   "cell_type": "code",
   "execution_count": 13,
   "id": "5fb70703",
   "metadata": {},
   "outputs": [],
   "source": [
    "segmenter = FarasaSegmenter()"
   ]
  },
  {
   "cell_type": "code",
   "execution_count": 30,
   "id": "420d1784",
   "metadata": {},
   "outputs": [],
   "source": [
    "segmenter.segment(test)"
   ]
  },
  {
   "cell_type": "code",
   "execution_count": 33,
   "id": "0cf215e2",
   "metadata": {},
   "outputs": [
    {
     "data": {
      "text/plain": [
       "['أحتاج أن أرى ال', 'كثير . من ال', 'أشياء @و ,']"
      ]
     },
     "execution_count": 33,
     "metadata": {},
     "output_type": "execute_result"
    }
   ],
   "source": [
    "a.split('+')"
   ]
  },
  {
   "cell_type": "markdown",
   "id": "d3997dca",
   "metadata": {},
   "source": [
    "##### Tachafyne"
   ]
  },
  {
   "cell_type": "code",
   "execution_count": 19,
   "id": "ab8876eb",
   "metadata": {},
   "outputs": [],
   "source": [
    "import pyarabic.arabrepr\n",
    "arepr = pyarabic.arabrepr.ArabicRepr()\n",
    "repr = arepr.repr\n",
    "from tashaphyne.stemming import ArabicLightStemmer"
   ]
  },
  {
   "cell_type": "code",
   "execution_count": 20,
   "id": "d8a0eb3b",
   "metadata": {},
   "outputs": [],
   "source": [
    "tach_st = ArabicLightStemmer()"
   ]
  },
  {
   "cell_type": "code",
   "execution_count": 21,
   "id": "aac31e28",
   "metadata": {},
   "outputs": [
    {
     "data": {
      "text/plain": [
       "'   أحتاج أن أري   الكثـــير. من الأشيــــاء    @و , '"
      ]
     },
     "execution_count": 21,
     "metadata": {},
     "output_type": "execute_result"
    }
   ],
   "source": [
    "#It doesn't work with string sentence\n",
    "tach_st.light_stem(test)"
   ]
  },
  {
   "cell_type": "code",
   "execution_count": 23,
   "id": "790f5c4a",
   "metadata": {},
   "outputs": [
    {
     "data": {
      "text/plain": [
       "['حتاج', 'أن', 'ري', 'الكثـــير.', 'من', 'الأشيــــاء', '@و', ',']"
      ]
     },
     "execution_count": 23,
     "metadata": {},
     "output_type": "execute_result"
    }
   ],
   "source": [
    "#Result doesn't look acurate\n",
    "[tach_st.light_stem(i) for i in test.split()]"
   ]
  },
  {
   "cell_type": "markdown",
   "id": "29f2d61e",
   "metadata": {},
   "source": [
    "##### ASSEM"
   ]
  },
  {
   "cell_type": "code",
   "execution_count": 25,
   "id": "459707c0",
   "metadata": {},
   "outputs": [
    {
     "name": "stdout",
     "output_type": "stream",
     "text": [
      "Collecting snowballstemmer\n",
      "  Downloading snowballstemmer-2.1.0-py2.py3-none-any.whl (93 kB)\n",
      "\u001b[K     |████████████████████████████████| 93 kB 473 kB/s eta 0:00:01\n",
      "\u001b[?25hInstalling collected packages: snowballstemmer\n",
      "Successfully installed snowballstemmer-2.1.0\n",
      "Note: you may need to restart the kernel to use updated packages.\n"
     ]
    }
   ],
   "source": [
    "pip install snowballstemmer"
   ]
  },
  {
   "cell_type": "code",
   "execution_count": 26,
   "id": "eabbf121",
   "metadata": {},
   "outputs": [],
   "source": [
    "from snowballstemmer import stemmer"
   ]
  },
  {
   "cell_type": "code",
   "execution_count": 27,
   "id": "d83e82f7",
   "metadata": {},
   "outputs": [],
   "source": [
    "assem_st = stemmer(\"arabic\")"
   ]
  },
  {
   "cell_type": "code",
   "execution_count": 28,
   "id": "f733b45d",
   "metadata": {},
   "outputs": [
    {
     "data": {
      "text/plain": [
       "'   احتاج ان اري   الكثير. من الاشياء    @و , '"
      ]
     },
     "execution_count": 28,
     "metadata": {},
     "output_type": "execute_result"
    }
   ],
   "source": [
    "assem_st.stemWord(test)"
   ]
  },
  {
   "cell_type": "code",
   "execution_count": 29,
   "id": "3b7bf39e",
   "metadata": {},
   "outputs": [
    {
     "data": {
      "text/plain": [
       "['احتاج', 'ان', 'ار', 'كثير.', 'من', 'اشياء', '@و', ',']"
      ]
     },
     "execution_count": 29,
     "metadata": {},
     "output_type": "execute_result"
    }
   ],
   "source": [
    "#Result doesn't look acurate\n",
    "[assem_st.stemWord(i) for i in test.split()]"
   ]
  },
  {
   "cell_type": "markdown",
   "id": "eda6bb13",
   "metadata": {},
   "source": [
    "##### NLTK"
   ]
  },
  {
   "cell_type": "code",
   "execution_count": 21,
   "id": "605634f3",
   "metadata": {},
   "outputs": [],
   "source": [
    "from nltk.stem.isri import ISRIStemmer"
   ]
  },
  {
   "cell_type": "code",
   "execution_count": 22,
   "id": "372c04bd",
   "metadata": {},
   "outputs": [],
   "source": [
    "nltk_st = ISRIStemmer()"
   ]
  },
  {
   "cell_type": "code",
   "execution_count": 23,
   "id": "ec9991e3",
   "metadata": {},
   "outputs": [
    {
     "data": {
      "text/plain": [
       "'   أحتاج أن أري   الكثـــير من الأشيــــاء    @و , '"
      ]
     },
     "execution_count": 23,
     "metadata": {},
     "output_type": "execute_result"
    }
   ],
   "source": [
    "nltk_st.stem(test)"
   ]
  },
  {
   "cell_type": "markdown",
   "id": "a318d17c",
   "metadata": {},
   "source": [
    "##### فاصل"
   ]
  },
  {
   "cell_type": "code",
   "execution_count": 24,
   "id": "9b4eb069",
   "metadata": {},
   "outputs": [],
   "source": [
    "prep = [stopwords_removal,tashkel_removal,tatweel_removal,punctuation_removal,\n",
    "        normalization,emojify,successive_space_removal]"
   ]
  },
  {
   "cell_type": "code",
   "execution_count": 25,
   "id": "73f19efa",
   "metadata": {},
   "outputs": [],
   "source": [
    "def process(text,prep=prep):\n",
    "    for i in prep:\n",
    "        text=i(text)\n",
    "    return text"
   ]
  },
  {
   "cell_type": "markdown",
   "id": "e5194d33",
   "metadata": {},
   "source": [
    "## Data "
   ]
  },
  {
   "cell_type": "code",
   "execution_count": 26,
   "id": "90683158",
   "metadata": {},
   "outputs": [],
   "source": [
    "import numpy as np\n",
    "import pandas as pd\n",
    "import os\n",
    "import time"
   ]
  },
  {
   "cell_type": "code",
   "execution_count": 9,
   "id": "1602fbd3",
   "metadata": {},
   "outputs": [],
   "source": [
    "path = '../resources/other/arabic-sentiment-analysis-master/arabic_tweets_txt/'"
   ]
  },
  {
   "cell_type": "code",
   "execution_count": 35,
   "id": "165cff31",
   "metadata": {},
   "outputs": [],
   "source": [
    "files = os.listdir(path)"
   ]
  },
  {
   "cell_type": "code",
   "execution_count": 36,
   "id": "62213c46",
   "metadata": {},
   "outputs": [],
   "source": [
    "def read(i,files):\n",
    "    return pd.read_csv(f'{path}/{files[i]}',sep='\\t',names=['tweet'])"
   ]
  },
  {
   "cell_type": "code",
   "execution_count": 37,
   "id": "094297dd",
   "metadata": {},
   "outputs": [],
   "source": [
    "#Data is already separated based on label\n",
    "train_pos,train_neg , val_pos,val_neg= pd.concat([read(1,files),read(2,files)]).values,read(4,files).values,read(3,files).values,read(6,files).values"
   ]
  },
  {
   "cell_type": "markdown",
   "id": "955023d1",
   "metadata": {},
   "source": [
    "### Stemmer Analysis"
   ]
  },
  {
   "cell_type": "code",
   "execution_count": 56,
   "id": "55994b22",
   "metadata": {},
   "outputs": [],
   "source": [
    "temp = pd.DataFrame(train_pos,columns=['text']).text"
   ]
  },
  {
   "cell_type": "code",
   "execution_count": 38,
   "id": "dc13e724",
   "metadata": {},
   "outputs": [],
   "source": [
    "stemmers = [farasa_st.stem,tach_st.light_stem,assem_st.stemWord,nltk_st.stem]"
   ]
  },
  {
   "cell_type": "code",
   "execution_count": 58,
   "id": "304f40a0",
   "metadata": {},
   "outputs": [],
   "source": [
    "t_e=[]\n",
    "for i in range(len(stemmers)):\n",
    "    s=time.time()\n",
    "    temp[:5].apply(stemmers[i])\n",
    "    e=time.time()\n",
    "    t_e.append(e-s)"
   ]
  },
  {
   "cell_type": "code",
   "execution_count": 59,
   "id": "04163aa1",
   "metadata": {},
   "outputs": [
    {
     "data": {
      "text/plain": [
       "<BarContainer object of 4 artists>"
      ]
     },
     "execution_count": 59,
     "metadata": {},
     "output_type": "execute_result"
    },
    {
     "data": {
      "image/png": "[encoded data removed]",
      "text/plain": [
       "<Figure size 432x288 with 1 Axes>"
      ]
     },
     "metadata": {
      "needs_background": "light"
     },
     "output_type": "display_data"
    }
   ],
   "source": [
    "plt.bar(['Farasa','Tachafyne','Assem','NLTK'],np.power(t_e,1/8))"
   ]
  },
  {
   "cell_type": "code",
   "execution_count": null,
   "id": "eb726cc1",
   "metadata": {},
   "outputs": [],
   "source": []
  }
 ],
 "metadata": {
  "kernelspec": {
   "display_name": "Python 3",
   "language": "python",
   "name": "python3"
  },
  "language_info": {
   "codemirror_mode": {
    "name": "ipython",
    "version": 3
   },
   "file_extension": ".py",
   "mimetype": "text/x-python",
   "name": "python",
   "nbconvert_exporter": "python",
   "pygments_lexer": "ipython3",
   "version": "3.6.13"
  }
 },
 "nbformat": 4,
 "nbformat_minor": 5
}
